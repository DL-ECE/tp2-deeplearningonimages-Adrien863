{
  "nbformat": 4,
  "nbformat_minor": 0,
  "metadata": {
    "accelerator": "GPU",
    "colab": {
      "name": "convolution.ipynb",
      "provenance": [],
      "collapsed_sections": [
        "R2JALA0rnGE1",
        "q7Ucg7xRQDwn"
      ],
      "include_colab_link": true
    },
    "jupytext": {
      "cell_metadata_filter": "-all",
      "main_language": "python",
      "notebook_metadata_filter": "-all"
    },
    "kernelspec": {
      "display_name": "Python 3",
      "language": "python",
      "name": "python3"
    },
    "language_info": {
      "codemirror_mode": {
        "name": "ipython",
        "version": 3
      },
      "file_extension": ".py",
      "mimetype": "text/x-python",
      "name": "python",
      "nbconvert_exporter": "python",
      "pygments_lexer": "ipython3",
      "version": "3.6.9-final"
    },
    "widgets": {
      "application/vnd.jupyter.widget-state+json": {
        "8e1d96b4177547d4aa37e9718401fcd1": {
          "model_module": "@jupyter-widgets/controls",
          "model_name": "HBoxModel",
          "state": {
            "_view_name": "HBoxView",
            "_dom_classes": [],
            "_model_name": "HBoxModel",
            "_view_module": "@jupyter-widgets/controls",
            "_model_module_version": "1.5.0",
            "_view_count": null,
            "_view_module_version": "1.5.0",
            "box_style": "",
            "layout": "IPY_MODEL_4fbac7f041b24c9d9e68d8b5e22344a2",
            "_model_module": "@jupyter-widgets/controls",
            "children": [
              "IPY_MODEL_89a40f69c80647ae8b891ff86af4a9ee",
              "IPY_MODEL_71bb71008ee545b889e622ca2b92acf9"
            ]
          }
        },
        "4fbac7f041b24c9d9e68d8b5e22344a2": {
          "model_module": "@jupyter-widgets/base",
          "model_name": "LayoutModel",
          "state": {
            "_view_name": "LayoutView",
            "grid_template_rows": null,
            "right": null,
            "justify_content": null,
            "_view_module": "@jupyter-widgets/base",
            "overflow": null,
            "_model_module_version": "1.2.0",
            "_view_count": null,
            "flex_flow": null,
            "width": null,
            "min_width": null,
            "border": null,
            "align_items": null,
            "bottom": null,
            "_model_module": "@jupyter-widgets/base",
            "top": null,
            "grid_column": null,
            "overflow_y": null,
            "overflow_x": null,
            "grid_auto_flow": null,
            "grid_area": null,
            "grid_template_columns": null,
            "flex": null,
            "_model_name": "LayoutModel",
            "justify_items": null,
            "grid_row": null,
            "max_height": null,
            "align_content": null,
            "visibility": null,
            "align_self": null,
            "height": null,
            "min_height": null,
            "padding": null,
            "grid_auto_rows": null,
            "grid_gap": null,
            "max_width": null,
            "order": null,
            "_view_module_version": "1.2.0",
            "grid_template_areas": null,
            "object_position": null,
            "object_fit": null,
            "grid_auto_columns": null,
            "margin": null,
            "display": null,
            "left": null
          }
        },
        "89a40f69c80647ae8b891ff86af4a9ee": {
          "model_module": "@jupyter-widgets/controls",
          "model_name": "FloatProgressModel",
          "state": {
            "_view_name": "ProgressView",
            "style": "IPY_MODEL_caac10d605764cf0b6f19d8c6ad3692a",
            "_dom_classes": [],
            "description": "",
            "_model_name": "FloatProgressModel",
            "bar_style": "success",
            "max": 312.5,
            "_view_module": "@jupyter-widgets/controls",
            "_model_module_version": "1.5.0",
            "value": 312.5,
            "_view_count": null,
            "_view_module_version": "1.5.0",
            "orientation": "horizontal",
            "min": 0,
            "description_tooltip": null,
            "_model_module": "@jupyter-widgets/controls",
            "layout": "IPY_MODEL_92a65766e00f47c18ccdb5f5332e3f77"
          }
        },
        "71bb71008ee545b889e622ca2b92acf9": {
          "model_module": "@jupyter-widgets/controls",
          "model_name": "HTMLModel",
          "state": {
            "_view_name": "HTMLView",
            "style": "IPY_MODEL_af82f64d051c4d548079f8c16ceca785",
            "_dom_classes": [],
            "description": "",
            "_model_name": "HTMLModel",
            "placeholder": "​",
            "_view_module": "@jupyter-widgets/controls",
            "_model_module_version": "1.5.0",
            "value": " 313/? [00:16&lt;00:00, 19.29it/s]",
            "_view_count": null,
            "_view_module_version": "1.5.0",
            "description_tooltip": null,
            "_model_module": "@jupyter-widgets/controls",
            "layout": "IPY_MODEL_1b982bcda3474f53b45043dd0278466f"
          }
        },
        "caac10d605764cf0b6f19d8c6ad3692a": {
          "model_module": "@jupyter-widgets/controls",
          "model_name": "ProgressStyleModel",
          "state": {
            "_view_name": "StyleView",
            "_model_name": "ProgressStyleModel",
            "description_width": "initial",
            "_view_module": "@jupyter-widgets/base",
            "_model_module_version": "1.5.0",
            "_view_count": null,
            "_view_module_version": "1.2.0",
            "bar_color": null,
            "_model_module": "@jupyter-widgets/controls"
          }
        },
        "92a65766e00f47c18ccdb5f5332e3f77": {
          "model_module": "@jupyter-widgets/base",
          "model_name": "LayoutModel",
          "state": {
            "_view_name": "LayoutView",
            "grid_template_rows": null,
            "right": null,
            "justify_content": null,
            "_view_module": "@jupyter-widgets/base",
            "overflow": null,
            "_model_module_version": "1.2.0",
            "_view_count": null,
            "flex_flow": null,
            "width": null,
            "min_width": null,
            "border": null,
            "align_items": null,
            "bottom": null,
            "_model_module": "@jupyter-widgets/base",
            "top": null,
            "grid_column": null,
            "overflow_y": null,
            "overflow_x": null,
            "grid_auto_flow": null,
            "grid_area": null,
            "grid_template_columns": null,
            "flex": null,
            "_model_name": "LayoutModel",
            "justify_items": null,
            "grid_row": null,
            "max_height": null,
            "align_content": null,
            "visibility": null,
            "align_self": null,
            "height": null,
            "min_height": null,
            "padding": null,
            "grid_auto_rows": null,
            "grid_gap": null,
            "max_width": null,
            "order": null,
            "_view_module_version": "1.2.0",
            "grid_template_areas": null,
            "object_position": null,
            "object_fit": null,
            "grid_auto_columns": null,
            "margin": null,
            "display": null,
            "left": null
          }
        },
        "af82f64d051c4d548079f8c16ceca785": {
          "model_module": "@jupyter-widgets/controls",
          "model_name": "DescriptionStyleModel",
          "state": {
            "_view_name": "StyleView",
            "_model_name": "DescriptionStyleModel",
            "description_width": "",
            "_view_module": "@jupyter-widgets/base",
            "_model_module_version": "1.5.0",
            "_view_count": null,
            "_view_module_version": "1.2.0",
            "_model_module": "@jupyter-widgets/controls"
          }
        },
        "1b982bcda3474f53b45043dd0278466f": {
          "model_module": "@jupyter-widgets/base",
          "model_name": "LayoutModel",
          "state": {
            "_view_name": "LayoutView",
            "grid_template_rows": null,
            "right": null,
            "justify_content": null,
            "_view_module": "@jupyter-widgets/base",
            "overflow": null,
            "_model_module_version": "1.2.0",
            "_view_count": null,
            "flex_flow": null,
            "width": null,
            "min_width": null,
            "border": null,
            "align_items": null,
            "bottom": null,
            "_model_module": "@jupyter-widgets/base",
            "top": null,
            "grid_column": null,
            "overflow_y": null,
            "overflow_x": null,
            "grid_auto_flow": null,
            "grid_area": null,
            "grid_template_columns": null,
            "flex": null,
            "_model_name": "LayoutModel",
            "justify_items": null,
            "grid_row": null,
            "max_height": null,
            "align_content": null,
            "visibility": null,
            "align_self": null,
            "height": null,
            "min_height": null,
            "padding": null,
            "grid_auto_rows": null,
            "grid_gap": null,
            "max_width": null,
            "order": null,
            "_view_module_version": "1.2.0",
            "grid_template_areas": null,
            "object_position": null,
            "object_fit": null,
            "grid_auto_columns": null,
            "margin": null,
            "display": null,
            "left": null
          }
        },
        "363906c12e43477482c9d894fcd29d26": {
          "model_module": "@jupyter-widgets/controls",
          "model_name": "HBoxModel",
          "state": {
            "_view_name": "HBoxView",
            "_dom_classes": [],
            "_model_name": "HBoxModel",
            "_view_module": "@jupyter-widgets/controls",
            "_model_module_version": "1.5.0",
            "_view_count": null,
            "_view_module_version": "1.5.0",
            "box_style": "",
            "layout": "IPY_MODEL_6c60b8657317417fa2908932e775ecb4",
            "_model_module": "@jupyter-widgets/controls",
            "children": [
              "IPY_MODEL_effd0d97a38c4393b1edd5bbbe7090d5",
              "IPY_MODEL_e6303ff9ae90471f8a447cafccf9698c"
            ]
          }
        },
        "6c60b8657317417fa2908932e775ecb4": {
          "model_module": "@jupyter-widgets/base",
          "model_name": "LayoutModel",
          "state": {
            "_view_name": "LayoutView",
            "grid_template_rows": null,
            "right": null,
            "justify_content": null,
            "_view_module": "@jupyter-widgets/base",
            "overflow": null,
            "_model_module_version": "1.2.0",
            "_view_count": null,
            "flex_flow": null,
            "width": null,
            "min_width": null,
            "border": null,
            "align_items": null,
            "bottom": null,
            "_model_module": "@jupyter-widgets/base",
            "top": null,
            "grid_column": null,
            "overflow_y": null,
            "overflow_x": null,
            "grid_auto_flow": null,
            "grid_area": null,
            "grid_template_columns": null,
            "flex": null,
            "_model_name": "LayoutModel",
            "justify_items": null,
            "grid_row": null,
            "max_height": null,
            "align_content": null,
            "visibility": null,
            "align_self": null,
            "height": null,
            "min_height": null,
            "padding": null,
            "grid_auto_rows": null,
            "grid_gap": null,
            "max_width": null,
            "order": null,
            "_view_module_version": "1.2.0",
            "grid_template_areas": null,
            "object_position": null,
            "object_fit": null,
            "grid_auto_columns": null,
            "margin": null,
            "display": null,
            "left": null
          }
        },
        "effd0d97a38c4393b1edd5bbbe7090d5": {
          "model_module": "@jupyter-widgets/controls",
          "model_name": "FloatProgressModel",
          "state": {
            "_view_name": "ProgressView",
            "style": "IPY_MODEL_30d745b1668446dbba251a18d91f417f",
            "_dom_classes": [],
            "description": "100%",
            "_model_name": "FloatProgressModel",
            "bar_style": "success",
            "max": 1875,
            "_view_module": "@jupyter-widgets/controls",
            "_model_module_version": "1.5.0",
            "value": 1875,
            "_view_count": null,
            "_view_module_version": "1.5.0",
            "orientation": "horizontal",
            "min": 0,
            "description_tooltip": null,
            "_model_module": "@jupyter-widgets/controls",
            "layout": "IPY_MODEL_cf91db63630b4eba8c08b22464017f51"
          }
        },
        "e6303ff9ae90471f8a447cafccf9698c": {
          "model_module": "@jupyter-widgets/controls",
          "model_name": "HTMLModel",
          "state": {
            "_view_name": "HTMLView",
            "style": "IPY_MODEL_36df6ce615a948d3bc605dae960878fb",
            "_dom_classes": [],
            "description": "",
            "_model_name": "HTMLModel",
            "placeholder": "​",
            "_view_module": "@jupyter-widgets/controls",
            "_model_module_version": "1.5.0",
            "value": " 1875/1875.0 [04:57&lt;00:00,  6.31it/s]",
            "_view_count": null,
            "_view_module_version": "1.5.0",
            "description_tooltip": null,
            "_model_module": "@jupyter-widgets/controls",
            "layout": "IPY_MODEL_fcc70e9989c24bb49f18ae05223b5de3"
          }
        },
        "30d745b1668446dbba251a18d91f417f": {
          "model_module": "@jupyter-widgets/controls",
          "model_name": "ProgressStyleModel",
          "state": {
            "_view_name": "StyleView",
            "_model_name": "ProgressStyleModel",
            "description_width": "initial",
            "_view_module": "@jupyter-widgets/base",
            "_model_module_version": "1.5.0",
            "_view_count": null,
            "_view_module_version": "1.2.0",
            "bar_color": null,
            "_model_module": "@jupyter-widgets/controls"
          }
        },
        "cf91db63630b4eba8c08b22464017f51": {
          "model_module": "@jupyter-widgets/base",
          "model_name": "LayoutModel",
          "state": {
            "_view_name": "LayoutView",
            "grid_template_rows": null,
            "right": null,
            "justify_content": null,
            "_view_module": "@jupyter-widgets/base",
            "overflow": null,
            "_model_module_version": "1.2.0",
            "_view_count": null,
            "flex_flow": null,
            "width": null,
            "min_width": null,
            "border": null,
            "align_items": null,
            "bottom": null,
            "_model_module": "@jupyter-widgets/base",
            "top": null,
            "grid_column": null,
            "overflow_y": null,
            "overflow_x": null,
            "grid_auto_flow": null,
            "grid_area": null,
            "grid_template_columns": null,
            "flex": null,
            "_model_name": "LayoutModel",
            "justify_items": null,
            "grid_row": null,
            "max_height": null,
            "align_content": null,
            "visibility": null,
            "align_self": null,
            "height": null,
            "min_height": null,
            "padding": null,
            "grid_auto_rows": null,
            "grid_gap": null,
            "max_width": null,
            "order": null,
            "_view_module_version": "1.2.0",
            "grid_template_areas": null,
            "object_position": null,
            "object_fit": null,
            "grid_auto_columns": null,
            "margin": null,
            "display": null,
            "left": null
          }
        },
        "36df6ce615a948d3bc605dae960878fb": {
          "model_module": "@jupyter-widgets/controls",
          "model_name": "DescriptionStyleModel",
          "state": {
            "_view_name": "StyleView",
            "_model_name": "DescriptionStyleModel",
            "description_width": "",
            "_view_module": "@jupyter-widgets/base",
            "_model_module_version": "1.5.0",
            "_view_count": null,
            "_view_module_version": "1.2.0",
            "_model_module": "@jupyter-widgets/controls"
          }
        },
        "fcc70e9989c24bb49f18ae05223b5de3": {
          "model_module": "@jupyter-widgets/base",
          "model_name": "LayoutModel",
          "state": {
            "_view_name": "LayoutView",
            "grid_template_rows": null,
            "right": null,
            "justify_content": null,
            "_view_module": "@jupyter-widgets/base",
            "overflow": null,
            "_model_module_version": "1.2.0",
            "_view_count": null,
            "flex_flow": null,
            "width": null,
            "min_width": null,
            "border": null,
            "align_items": null,
            "bottom": null,
            "_model_module": "@jupyter-widgets/base",
            "top": null,
            "grid_column": null,
            "overflow_y": null,
            "overflow_x": null,
            "grid_auto_flow": null,
            "grid_area": null,
            "grid_template_columns": null,
            "flex": null,
            "_model_name": "LayoutModel",
            "justify_items": null,
            "grid_row": null,
            "max_height": null,
            "align_content": null,
            "visibility": null,
            "align_self": null,
            "height": null,
            "min_height": null,
            "padding": null,
            "grid_auto_rows": null,
            "grid_gap": null,
            "max_width": null,
            "order": null,
            "_view_module_version": "1.2.0",
            "grid_template_areas": null,
            "object_position": null,
            "object_fit": null,
            "grid_auto_columns": null,
            "margin": null,
            "display": null,
            "left": null
          }
        },
        "5672be66055c4335a276b1f827db2d66": {
          "model_module": "@jupyter-widgets/controls",
          "model_name": "HBoxModel",
          "state": {
            "_view_name": "HBoxView",
            "_dom_classes": [],
            "_model_name": "HBoxModel",
            "_view_module": "@jupyter-widgets/controls",
            "_model_module_version": "1.5.0",
            "_view_count": null,
            "_view_module_version": "1.5.0",
            "box_style": "",
            "layout": "IPY_MODEL_c530e6fb706e471c838f58d853e1ebc7",
            "_model_module": "@jupyter-widgets/controls",
            "children": [
              "IPY_MODEL_66c3f5356f674a41bb6329b8a07864a0",
              "IPY_MODEL_603579821e4b4257a04bc66b15570008"
            ]
          }
        },
        "c530e6fb706e471c838f58d853e1ebc7": {
          "model_module": "@jupyter-widgets/base",
          "model_name": "LayoutModel",
          "state": {
            "_view_name": "LayoutView",
            "grid_template_rows": null,
            "right": null,
            "justify_content": null,
            "_view_module": "@jupyter-widgets/base",
            "overflow": null,
            "_model_module_version": "1.2.0",
            "_view_count": null,
            "flex_flow": null,
            "width": null,
            "min_width": null,
            "border": null,
            "align_items": null,
            "bottom": null,
            "_model_module": "@jupyter-widgets/base",
            "top": null,
            "grid_column": null,
            "overflow_y": null,
            "overflow_x": null,
            "grid_auto_flow": null,
            "grid_area": null,
            "grid_template_columns": null,
            "flex": null,
            "_model_name": "LayoutModel",
            "justify_items": null,
            "grid_row": null,
            "max_height": null,
            "align_content": null,
            "visibility": null,
            "align_self": null,
            "height": null,
            "min_height": null,
            "padding": null,
            "grid_auto_rows": null,
            "grid_gap": null,
            "max_width": null,
            "order": null,
            "_view_module_version": "1.2.0",
            "grid_template_areas": null,
            "object_position": null,
            "object_fit": null,
            "grid_auto_columns": null,
            "margin": null,
            "display": null,
            "left": null
          }
        },
        "66c3f5356f674a41bb6329b8a07864a0": {
          "model_module": "@jupyter-widgets/controls",
          "model_name": "FloatProgressModel",
          "state": {
            "_view_name": "ProgressView",
            "style": "IPY_MODEL_26dc977c89e44beca0e2fb47184f28bb",
            "_dom_classes": [],
            "description": "",
            "_model_name": "FloatProgressModel",
            "bar_style": "success",
            "max": 312.5,
            "_view_module": "@jupyter-widgets/controls",
            "_model_module_version": "1.5.0",
            "value": 312.5,
            "_view_count": null,
            "_view_module_version": "1.5.0",
            "orientation": "horizontal",
            "min": 0,
            "description_tooltip": null,
            "_model_module": "@jupyter-widgets/controls",
            "layout": "IPY_MODEL_d139ddecf48548c08ed751b1676c9c4d"
          }
        },
        "603579821e4b4257a04bc66b15570008": {
          "model_module": "@jupyter-widgets/controls",
          "model_name": "HTMLModel",
          "state": {
            "_view_name": "HTMLView",
            "style": "IPY_MODEL_e9a729e1f200408bb45866805a29ab68",
            "_dom_classes": [],
            "description": "",
            "_model_name": "HTMLModel",
            "placeholder": "​",
            "_view_module": "@jupyter-widgets/controls",
            "_model_module_version": "1.5.0",
            "value": " 313/? [04:43&lt;00:00,  1.11it/s]",
            "_view_count": null,
            "_view_module_version": "1.5.0",
            "description_tooltip": null,
            "_model_module": "@jupyter-widgets/controls",
            "layout": "IPY_MODEL_57d6c32f520e4baea34e01435bcd1d98"
          }
        },
        "26dc977c89e44beca0e2fb47184f28bb": {
          "model_module": "@jupyter-widgets/controls",
          "model_name": "ProgressStyleModel",
          "state": {
            "_view_name": "StyleView",
            "_model_name": "ProgressStyleModel",
            "description_width": "initial",
            "_view_module": "@jupyter-widgets/base",
            "_model_module_version": "1.5.0",
            "_view_count": null,
            "_view_module_version": "1.2.0",
            "bar_color": null,
            "_model_module": "@jupyter-widgets/controls"
          }
        },
        "d139ddecf48548c08ed751b1676c9c4d": {
          "model_module": "@jupyter-widgets/base",
          "model_name": "LayoutModel",
          "state": {
            "_view_name": "LayoutView",
            "grid_template_rows": null,
            "right": null,
            "justify_content": null,
            "_view_module": "@jupyter-widgets/base",
            "overflow": null,
            "_model_module_version": "1.2.0",
            "_view_count": null,
            "flex_flow": null,
            "width": null,
            "min_width": null,
            "border": null,
            "align_items": null,
            "bottom": null,
            "_model_module": "@jupyter-widgets/base",
            "top": null,
            "grid_column": null,
            "overflow_y": null,
            "overflow_x": null,
            "grid_auto_flow": null,
            "grid_area": null,
            "grid_template_columns": null,
            "flex": null,
            "_model_name": "LayoutModel",
            "justify_items": null,
            "grid_row": null,
            "max_height": null,
            "align_content": null,
            "visibility": null,
            "align_self": null,
            "height": null,
            "min_height": null,
            "padding": null,
            "grid_auto_rows": null,
            "grid_gap": null,
            "max_width": null,
            "order": null,
            "_view_module_version": "1.2.0",
            "grid_template_areas": null,
            "object_position": null,
            "object_fit": null,
            "grid_auto_columns": null,
            "margin": null,
            "display": null,
            "left": null
          }
        },
        "e9a729e1f200408bb45866805a29ab68": {
          "model_module": "@jupyter-widgets/controls",
          "model_name": "DescriptionStyleModel",
          "state": {
            "_view_name": "StyleView",
            "_model_name": "DescriptionStyleModel",
            "description_width": "",
            "_view_module": "@jupyter-widgets/base",
            "_model_module_version": "1.5.0",
            "_view_count": null,
            "_view_module_version": "1.2.0",
            "_model_module": "@jupyter-widgets/controls"
          }
        },
        "57d6c32f520e4baea34e01435bcd1d98": {
          "model_module": "@jupyter-widgets/base",
          "model_name": "LayoutModel",
          "state": {
            "_view_name": "LayoutView",
            "grid_template_rows": null,
            "right": null,
            "justify_content": null,
            "_view_module": "@jupyter-widgets/base",
            "overflow": null,
            "_model_module_version": "1.2.0",
            "_view_count": null,
            "flex_flow": null,
            "width": null,
            "min_width": null,
            "border": null,
            "align_items": null,
            "bottom": null,
            "_model_module": "@jupyter-widgets/base",
            "top": null,
            "grid_column": null,
            "overflow_y": null,
            "overflow_x": null,
            "grid_auto_flow": null,
            "grid_area": null,
            "grid_template_columns": null,
            "flex": null,
            "_model_name": "LayoutModel",
            "justify_items": null,
            "grid_row": null,
            "max_height": null,
            "align_content": null,
            "visibility": null,
            "align_self": null,
            "height": null,
            "min_height": null,
            "padding": null,
            "grid_auto_rows": null,
            "grid_gap": null,
            "max_width": null,
            "order": null,
            "_view_module_version": "1.2.0",
            "grid_template_areas": null,
            "object_position": null,
            "object_fit": null,
            "grid_auto_columns": null,
            "margin": null,
            "display": null,
            "left": null
          }
        },
        "4ebf162fa7104e3baa7d8eec2d27ff3b": {
          "model_module": "@jupyter-widgets/controls",
          "model_name": "HBoxModel",
          "state": {
            "_view_name": "HBoxView",
            "_dom_classes": [],
            "_model_name": "HBoxModel",
            "_view_module": "@jupyter-widgets/controls",
            "_model_module_version": "1.5.0",
            "_view_count": null,
            "_view_module_version": "1.5.0",
            "box_style": "",
            "layout": "IPY_MODEL_22a00751a1a843a1822e04d63caac13c",
            "_model_module": "@jupyter-widgets/controls",
            "children": [
              "IPY_MODEL_7ce20e3c135845b18691fd333d7e9791",
              "IPY_MODEL_ff6ff40eb26048008718459b963fe744"
            ]
          }
        },
        "22a00751a1a843a1822e04d63caac13c": {
          "model_module": "@jupyter-widgets/base",
          "model_name": "LayoutModel",
          "state": {
            "_view_name": "LayoutView",
            "grid_template_rows": null,
            "right": null,
            "justify_content": null,
            "_view_module": "@jupyter-widgets/base",
            "overflow": null,
            "_model_module_version": "1.2.0",
            "_view_count": null,
            "flex_flow": null,
            "width": null,
            "min_width": null,
            "border": null,
            "align_items": null,
            "bottom": null,
            "_model_module": "@jupyter-widgets/base",
            "top": null,
            "grid_column": null,
            "overflow_y": null,
            "overflow_x": null,
            "grid_auto_flow": null,
            "grid_area": null,
            "grid_template_columns": null,
            "flex": null,
            "_model_name": "LayoutModel",
            "justify_items": null,
            "grid_row": null,
            "max_height": null,
            "align_content": null,
            "visibility": null,
            "align_self": null,
            "height": null,
            "min_height": null,
            "padding": null,
            "grid_auto_rows": null,
            "grid_gap": null,
            "max_width": null,
            "order": null,
            "_view_module_version": "1.2.0",
            "grid_template_areas": null,
            "object_position": null,
            "object_fit": null,
            "grid_auto_columns": null,
            "margin": null,
            "display": null,
            "left": null
          }
        },
        "7ce20e3c135845b18691fd333d7e9791": {
          "model_module": "@jupyter-widgets/controls",
          "model_name": "FloatProgressModel",
          "state": {
            "_view_name": "ProgressView",
            "style": "IPY_MODEL_e3720d97b87a4da390c4dc986194882a",
            "_dom_classes": [],
            "description": "100%",
            "_model_name": "FloatProgressModel",
            "bar_style": "success",
            "max": 1875,
            "_view_module": "@jupyter-widgets/controls",
            "_model_module_version": "1.5.0",
            "value": 1875,
            "_view_count": null,
            "_view_module_version": "1.5.0",
            "orientation": "horizontal",
            "min": 0,
            "description_tooltip": null,
            "_model_module": "@jupyter-widgets/controls",
            "layout": "IPY_MODEL_33f4b8e3d2a64c8aa38934cefd7ed9cc"
          }
        },
        "ff6ff40eb26048008718459b963fe744": {
          "model_module": "@jupyter-widgets/controls",
          "model_name": "HTMLModel",
          "state": {
            "_view_name": "HTMLView",
            "style": "IPY_MODEL_0d3c1abfe1c943c7b0d6597adeca0a18",
            "_dom_classes": [],
            "description": "",
            "_model_name": "HTMLModel",
            "placeholder": "​",
            "_view_module": "@jupyter-widgets/controls",
            "_model_module_version": "1.5.0",
            "value": " 1875/1875.0 [01:49&lt;00:00, 17.08it/s]",
            "_view_count": null,
            "_view_module_version": "1.5.0",
            "description_tooltip": null,
            "_model_module": "@jupyter-widgets/controls",
            "layout": "IPY_MODEL_93a49c778a2543079d134b6ba74c0a0f"
          }
        },
        "e3720d97b87a4da390c4dc986194882a": {
          "model_module": "@jupyter-widgets/controls",
          "model_name": "ProgressStyleModel",
          "state": {
            "_view_name": "StyleView",
            "_model_name": "ProgressStyleModel",
            "description_width": "initial",
            "_view_module": "@jupyter-widgets/base",
            "_model_module_version": "1.5.0",
            "_view_count": null,
            "_view_module_version": "1.2.0",
            "bar_color": null,
            "_model_module": "@jupyter-widgets/controls"
          }
        },
        "33f4b8e3d2a64c8aa38934cefd7ed9cc": {
          "model_module": "@jupyter-widgets/base",
          "model_name": "LayoutModel",
          "state": {
            "_view_name": "LayoutView",
            "grid_template_rows": null,
            "right": null,
            "justify_content": null,
            "_view_module": "@jupyter-widgets/base",
            "overflow": null,
            "_model_module_version": "1.2.0",
            "_view_count": null,
            "flex_flow": null,
            "width": null,
            "min_width": null,
            "border": null,
            "align_items": null,
            "bottom": null,
            "_model_module": "@jupyter-widgets/base",
            "top": null,
            "grid_column": null,
            "overflow_y": null,
            "overflow_x": null,
            "grid_auto_flow": null,
            "grid_area": null,
            "grid_template_columns": null,
            "flex": null,
            "_model_name": "LayoutModel",
            "justify_items": null,
            "grid_row": null,
            "max_height": null,
            "align_content": null,
            "visibility": null,
            "align_self": null,
            "height": null,
            "min_height": null,
            "padding": null,
            "grid_auto_rows": null,
            "grid_gap": null,
            "max_width": null,
            "order": null,
            "_view_module_version": "1.2.0",
            "grid_template_areas": null,
            "object_position": null,
            "object_fit": null,
            "grid_auto_columns": null,
            "margin": null,
            "display": null,
            "left": null
          }
        },
        "0d3c1abfe1c943c7b0d6597adeca0a18": {
          "model_module": "@jupyter-widgets/controls",
          "model_name": "DescriptionStyleModel",
          "state": {
            "_view_name": "StyleView",
            "_model_name": "DescriptionStyleModel",
            "description_width": "",
            "_view_module": "@jupyter-widgets/base",
            "_model_module_version": "1.5.0",
            "_view_count": null,
            "_view_module_version": "1.2.0",
            "_model_module": "@jupyter-widgets/controls"
          }
        },
        "93a49c778a2543079d134b6ba74c0a0f": {
          "model_module": "@jupyter-widgets/base",
          "model_name": "LayoutModel",
          "state": {
            "_view_name": "LayoutView",
            "grid_template_rows": null,
            "right": null,
            "justify_content": null,
            "_view_module": "@jupyter-widgets/base",
            "overflow": null,
            "_model_module_version": "1.2.0",
            "_view_count": null,
            "flex_flow": null,
            "width": null,
            "min_width": null,
            "border": null,
            "align_items": null,
            "bottom": null,
            "_model_module": "@jupyter-widgets/base",
            "top": null,
            "grid_column": null,
            "overflow_y": null,
            "overflow_x": null,
            "grid_auto_flow": null,
            "grid_area": null,
            "grid_template_columns": null,
            "flex": null,
            "_model_name": "LayoutModel",
            "justify_items": null,
            "grid_row": null,
            "max_height": null,
            "align_content": null,
            "visibility": null,
            "align_self": null,
            "height": null,
            "min_height": null,
            "padding": null,
            "grid_auto_rows": null,
            "grid_gap": null,
            "max_width": null,
            "order": null,
            "_view_module_version": "1.2.0",
            "grid_template_areas": null,
            "object_position": null,
            "object_fit": null,
            "grid_auto_columns": null,
            "margin": null,
            "display": null,
            "left": null
          }
        },
        "cd887e8f933c428b8abccead64abdd3d": {
          "model_module": "@jupyter-widgets/controls",
          "model_name": "HBoxModel",
          "state": {
            "_view_name": "HBoxView",
            "_dom_classes": [],
            "_model_name": "HBoxModel",
            "_view_module": "@jupyter-widgets/controls",
            "_model_module_version": "1.5.0",
            "_view_count": null,
            "_view_module_version": "1.5.0",
            "box_style": "",
            "layout": "IPY_MODEL_3a8b165d022544e78f18e06834396519",
            "_model_module": "@jupyter-widgets/controls",
            "children": [
              "IPY_MODEL_4aac34586bfc4deab1b62b4d469c2153",
              "IPY_MODEL_55f086a502aa4f8db7d85fe3bbda8123"
            ]
          }
        },
        "3a8b165d022544e78f18e06834396519": {
          "model_module": "@jupyter-widgets/base",
          "model_name": "LayoutModel",
          "state": {
            "_view_name": "LayoutView",
            "grid_template_rows": null,
            "right": null,
            "justify_content": null,
            "_view_module": "@jupyter-widgets/base",
            "overflow": null,
            "_model_module_version": "1.2.0",
            "_view_count": null,
            "flex_flow": null,
            "width": null,
            "min_width": null,
            "border": null,
            "align_items": null,
            "bottom": null,
            "_model_module": "@jupyter-widgets/base",
            "top": null,
            "grid_column": null,
            "overflow_y": null,
            "overflow_x": null,
            "grid_auto_flow": null,
            "grid_area": null,
            "grid_template_columns": null,
            "flex": null,
            "_model_name": "LayoutModel",
            "justify_items": null,
            "grid_row": null,
            "max_height": null,
            "align_content": null,
            "visibility": null,
            "align_self": null,
            "height": null,
            "min_height": null,
            "padding": null,
            "grid_auto_rows": null,
            "grid_gap": null,
            "max_width": null,
            "order": null,
            "_view_module_version": "1.2.0",
            "grid_template_areas": null,
            "object_position": null,
            "object_fit": null,
            "grid_auto_columns": null,
            "margin": null,
            "display": null,
            "left": null
          }
        },
        "4aac34586bfc4deab1b62b4d469c2153": {
          "model_module": "@jupyter-widgets/controls",
          "model_name": "FloatProgressModel",
          "state": {
            "_view_name": "ProgressView",
            "style": "IPY_MODEL_f11fff8071494eceb18145ec5c2b0bcf",
            "_dom_classes": [],
            "description": "",
            "_model_name": "FloatProgressModel",
            "bar_style": "success",
            "max": 312.5,
            "_view_module": "@jupyter-widgets/controls",
            "_model_module_version": "1.5.0",
            "value": 312.5,
            "_view_count": null,
            "_view_module_version": "1.5.0",
            "orientation": "horizontal",
            "min": 0,
            "description_tooltip": null,
            "_model_module": "@jupyter-widgets/controls",
            "layout": "IPY_MODEL_7d580fe405ac4d90bfb5e4a95e5b8595"
          }
        },
        "55f086a502aa4f8db7d85fe3bbda8123": {
          "model_module": "@jupyter-widgets/controls",
          "model_name": "HTMLModel",
          "state": {
            "_view_name": "HTMLView",
            "style": "IPY_MODEL_2f0ca4865b524edcb538cd775bc19fa3",
            "_dom_classes": [],
            "description": "",
            "_model_name": "HTMLModel",
            "placeholder": "​",
            "_view_module": "@jupyter-widgets/controls",
            "_model_module_version": "1.5.0",
            "value": " 313/? [01:35&lt;00:00,  3.29it/s]",
            "_view_count": null,
            "_view_module_version": "1.5.0",
            "description_tooltip": null,
            "_model_module": "@jupyter-widgets/controls",
            "layout": "IPY_MODEL_a3b10915f9fb4daba2e5902c17ecfa81"
          }
        },
        "f11fff8071494eceb18145ec5c2b0bcf": {
          "model_module": "@jupyter-widgets/controls",
          "model_name": "ProgressStyleModel",
          "state": {
            "_view_name": "StyleView",
            "_model_name": "ProgressStyleModel",
            "description_width": "initial",
            "_view_module": "@jupyter-widgets/base",
            "_model_module_version": "1.5.0",
            "_view_count": null,
            "_view_module_version": "1.2.0",
            "bar_color": null,
            "_model_module": "@jupyter-widgets/controls"
          }
        },
        "7d580fe405ac4d90bfb5e4a95e5b8595": {
          "model_module": "@jupyter-widgets/base",
          "model_name": "LayoutModel",
          "state": {
            "_view_name": "LayoutView",
            "grid_template_rows": null,
            "right": null,
            "justify_content": null,
            "_view_module": "@jupyter-widgets/base",
            "overflow": null,
            "_model_module_version": "1.2.0",
            "_view_count": null,
            "flex_flow": null,
            "width": null,
            "min_width": null,
            "border": null,
            "align_items": null,
            "bottom": null,
            "_model_module": "@jupyter-widgets/base",
            "top": null,
            "grid_column": null,
            "overflow_y": null,
            "overflow_x": null,
            "grid_auto_flow": null,
            "grid_area": null,
            "grid_template_columns": null,
            "flex": null,
            "_model_name": "LayoutModel",
            "justify_items": null,
            "grid_row": null,
            "max_height": null,
            "align_content": null,
            "visibility": null,
            "align_self": null,
            "height": null,
            "min_height": null,
            "padding": null,
            "grid_auto_rows": null,
            "grid_gap": null,
            "max_width": null,
            "order": null,
            "_view_module_version": "1.2.0",
            "grid_template_areas": null,
            "object_position": null,
            "object_fit": null,
            "grid_auto_columns": null,
            "margin": null,
            "display": null,
            "left": null
          }
        },
        "2f0ca4865b524edcb538cd775bc19fa3": {
          "model_module": "@jupyter-widgets/controls",
          "model_name": "DescriptionStyleModel",
          "state": {
            "_view_name": "StyleView",
            "_model_name": "DescriptionStyleModel",
            "description_width": "",
            "_view_module": "@jupyter-widgets/base",
            "_model_module_version": "1.5.0",
            "_view_count": null,
            "_view_module_version": "1.2.0",
            "_model_module": "@jupyter-widgets/controls"
          }
        },
        "a3b10915f9fb4daba2e5902c17ecfa81": {
          "model_module": "@jupyter-widgets/base",
          "model_name": "LayoutModel",
          "state": {
            "_view_name": "LayoutView",
            "grid_template_rows": null,
            "right": null,
            "justify_content": null,
            "_view_module": "@jupyter-widgets/base",
            "overflow": null,
            "_model_module_version": "1.2.0",
            "_view_count": null,
            "flex_flow": null,
            "width": null,
            "min_width": null,
            "border": null,
            "align_items": null,
            "bottom": null,
            "_model_module": "@jupyter-widgets/base",
            "top": null,
            "grid_column": null,
            "overflow_y": null,
            "overflow_x": null,
            "grid_auto_flow": null,
            "grid_area": null,
            "grid_template_columns": null,
            "flex": null,
            "_model_name": "LayoutModel",
            "justify_items": null,
            "grid_row": null,
            "max_height": null,
            "align_content": null,
            "visibility": null,
            "align_self": null,
            "height": null,
            "min_height": null,
            "padding": null,
            "grid_auto_rows": null,
            "grid_gap": null,
            "max_width": null,
            "order": null,
            "_view_module_version": "1.2.0",
            "grid_template_areas": null,
            "object_position": null,
            "object_fit": null,
            "grid_auto_columns": null,
            "margin": null,
            "display": null,
            "left": null
          }
        },
        "d1723d3f44124195872655ba64a096c4": {
          "model_module": "@jupyter-widgets/controls",
          "model_name": "HBoxModel",
          "state": {
            "_view_name": "HBoxView",
            "_dom_classes": [],
            "_model_name": "HBoxModel",
            "_view_module": "@jupyter-widgets/controls",
            "_model_module_version": "1.5.0",
            "_view_count": null,
            "_view_module_version": "1.5.0",
            "box_style": "",
            "layout": "IPY_MODEL_618a7ac292694f4799b441c789333704",
            "_model_module": "@jupyter-widgets/controls",
            "children": [
              "IPY_MODEL_77fd36a5bd114dfaa2e40194b91900c2",
              "IPY_MODEL_288425844db4467ea059025f8963d23d"
            ]
          }
        },
        "618a7ac292694f4799b441c789333704": {
          "model_module": "@jupyter-widgets/base",
          "model_name": "LayoutModel",
          "state": {
            "_view_name": "LayoutView",
            "grid_template_rows": null,
            "right": null,
            "justify_content": null,
            "_view_module": "@jupyter-widgets/base",
            "overflow": null,
            "_model_module_version": "1.2.0",
            "_view_count": null,
            "flex_flow": null,
            "width": null,
            "min_width": null,
            "border": null,
            "align_items": null,
            "bottom": null,
            "_model_module": "@jupyter-widgets/base",
            "top": null,
            "grid_column": null,
            "overflow_y": null,
            "overflow_x": null,
            "grid_auto_flow": null,
            "grid_area": null,
            "grid_template_columns": null,
            "flex": null,
            "_model_name": "LayoutModel",
            "justify_items": null,
            "grid_row": null,
            "max_height": null,
            "align_content": null,
            "visibility": null,
            "align_self": null,
            "height": null,
            "min_height": null,
            "padding": null,
            "grid_auto_rows": null,
            "grid_gap": null,
            "max_width": null,
            "order": null,
            "_view_module_version": "1.2.0",
            "grid_template_areas": null,
            "object_position": null,
            "object_fit": null,
            "grid_auto_columns": null,
            "margin": null,
            "display": null,
            "left": null
          }
        },
        "77fd36a5bd114dfaa2e40194b91900c2": {
          "model_module": "@jupyter-widgets/controls",
          "model_name": "FloatProgressModel",
          "state": {
            "_view_name": "ProgressView",
            "style": "IPY_MODEL_a3e169079ed041dfb3a637cd0151e665",
            "_dom_classes": [],
            "description": "100%",
            "_model_name": "FloatProgressModel",
            "bar_style": "success",
            "max": 1875,
            "_view_module": "@jupyter-widgets/controls",
            "_model_module_version": "1.5.0",
            "value": 1875,
            "_view_count": null,
            "_view_module_version": "1.5.0",
            "orientation": "horizontal",
            "min": 0,
            "description_tooltip": null,
            "_model_module": "@jupyter-widgets/controls",
            "layout": "IPY_MODEL_744e79475bf148a7b76c677fd64efcec"
          }
        },
        "288425844db4467ea059025f8963d23d": {
          "model_module": "@jupyter-widgets/controls",
          "model_name": "HTMLModel",
          "state": {
            "_view_name": "HTMLView",
            "style": "IPY_MODEL_453ec256f9724bde8fe59f966ccefbef",
            "_dom_classes": [],
            "description": "",
            "_model_name": "HTMLModel",
            "placeholder": "​",
            "_view_module": "@jupyter-widgets/controls",
            "_model_module_version": "1.5.0",
            "value": " 1875/1875.0 [01:33&lt;00:00, 20.06it/s]",
            "_view_count": null,
            "_view_module_version": "1.5.0",
            "description_tooltip": null,
            "_model_module": "@jupyter-widgets/controls",
            "layout": "IPY_MODEL_5cb1f495252a426e9be5d9a031960800"
          }
        },
        "a3e169079ed041dfb3a637cd0151e665": {
          "model_module": "@jupyter-widgets/controls",
          "model_name": "ProgressStyleModel",
          "state": {
            "_view_name": "StyleView",
            "_model_name": "ProgressStyleModel",
            "description_width": "initial",
            "_view_module": "@jupyter-widgets/base",
            "_model_module_version": "1.5.0",
            "_view_count": null,
            "_view_module_version": "1.2.0",
            "bar_color": null,
            "_model_module": "@jupyter-widgets/controls"
          }
        },
        "744e79475bf148a7b76c677fd64efcec": {
          "model_module": "@jupyter-widgets/base",
          "model_name": "LayoutModel",
          "state": {
            "_view_name": "LayoutView",
            "grid_template_rows": null,
            "right": null,
            "justify_content": null,
            "_view_module": "@jupyter-widgets/base",
            "overflow": null,
            "_model_module_version": "1.2.0",
            "_view_count": null,
            "flex_flow": null,
            "width": null,
            "min_width": null,
            "border": null,
            "align_items": null,
            "bottom": null,
            "_model_module": "@jupyter-widgets/base",
            "top": null,
            "grid_column": null,
            "overflow_y": null,
            "overflow_x": null,
            "grid_auto_flow": null,
            "grid_area": null,
            "grid_template_columns": null,
            "flex": null,
            "_model_name": "LayoutModel",
            "justify_items": null,
            "grid_row": null,
            "max_height": null,
            "align_content": null,
            "visibility": null,
            "align_self": null,
            "height": null,
            "min_height": null,
            "padding": null,
            "grid_auto_rows": null,
            "grid_gap": null,
            "max_width": null,
            "order": null,
            "_view_module_version": "1.2.0",
            "grid_template_areas": null,
            "object_position": null,
            "object_fit": null,
            "grid_auto_columns": null,
            "margin": null,
            "display": null,
            "left": null
          }
        },
        "453ec256f9724bde8fe59f966ccefbef": {
          "model_module": "@jupyter-widgets/controls",
          "model_name": "DescriptionStyleModel",
          "state": {
            "_view_name": "StyleView",
            "_model_name": "DescriptionStyleModel",
            "description_width": "",
            "_view_module": "@jupyter-widgets/base",
            "_model_module_version": "1.5.0",
            "_view_count": null,
            "_view_module_version": "1.2.0",
            "_model_module": "@jupyter-widgets/controls"
          }
        },
        "5cb1f495252a426e9be5d9a031960800": {
          "model_module": "@jupyter-widgets/base",
          "model_name": "LayoutModel",
          "state": {
            "_view_name": "LayoutView",
            "grid_template_rows": null,
            "right": null,
            "justify_content": null,
            "_view_module": "@jupyter-widgets/base",
            "overflow": null,
            "_model_module_version": "1.2.0",
            "_view_count": null,
            "flex_flow": null,
            "width": null,
            "min_width": null,
            "border": null,
            "align_items": null,
            "bottom": null,
            "_model_module": "@jupyter-widgets/base",
            "top": null,
            "grid_column": null,
            "overflow_y": null,
            "overflow_x": null,
            "grid_auto_flow": null,
            "grid_area": null,
            "grid_template_columns": null,
            "flex": null,
            "_model_name": "LayoutModel",
            "justify_items": null,
            "grid_row": null,
            "max_height": null,
            "align_content": null,
            "visibility": null,
            "align_self": null,
            "height": null,
            "min_height": null,
            "padding": null,
            "grid_auto_rows": null,
            "grid_gap": null,
            "max_width": null,
            "order": null,
            "_view_module_version": "1.2.0",
            "grid_template_areas": null,
            "object_position": null,
            "object_fit": null,
            "grid_auto_columns": null,
            "margin": null,
            "display": null,
            "left": null
          }
        },
        "2c958eb6e8eb4f45a00ab260d86be49b": {
          "model_module": "@jupyter-widgets/controls",
          "model_name": "HBoxModel",
          "state": {
            "_view_name": "HBoxView",
            "_dom_classes": [],
            "_model_name": "HBoxModel",
            "_view_module": "@jupyter-widgets/controls",
            "_model_module_version": "1.5.0",
            "_view_count": null,
            "_view_module_version": "1.5.0",
            "box_style": "",
            "layout": "IPY_MODEL_ca3487b30a3945338ad272b8360d7ea0",
            "_model_module": "@jupyter-widgets/controls",
            "children": [
              "IPY_MODEL_113c52dae30b4880b54a93ec27de9ee3",
              "IPY_MODEL_13b80326a1914eb0afce6bcb1b226207"
            ]
          }
        },
        "ca3487b30a3945338ad272b8360d7ea0": {
          "model_module": "@jupyter-widgets/base",
          "model_name": "LayoutModel",
          "state": {
            "_view_name": "LayoutView",
            "grid_template_rows": null,
            "right": null,
            "justify_content": null,
            "_view_module": "@jupyter-widgets/base",
            "overflow": null,
            "_model_module_version": "1.2.0",
            "_view_count": null,
            "flex_flow": null,
            "width": null,
            "min_width": null,
            "border": null,
            "align_items": null,
            "bottom": null,
            "_model_module": "@jupyter-widgets/base",
            "top": null,
            "grid_column": null,
            "overflow_y": null,
            "overflow_x": null,
            "grid_auto_flow": null,
            "grid_area": null,
            "grid_template_columns": null,
            "flex": null,
            "_model_name": "LayoutModel",
            "justify_items": null,
            "grid_row": null,
            "max_height": null,
            "align_content": null,
            "visibility": null,
            "align_self": null,
            "height": null,
            "min_height": null,
            "padding": null,
            "grid_auto_rows": null,
            "grid_gap": null,
            "max_width": null,
            "order": null,
            "_view_module_version": "1.2.0",
            "grid_template_areas": null,
            "object_position": null,
            "object_fit": null,
            "grid_auto_columns": null,
            "margin": null,
            "display": null,
            "left": null
          }
        },
        "113c52dae30b4880b54a93ec27de9ee3": {
          "model_module": "@jupyter-widgets/controls",
          "model_name": "FloatProgressModel",
          "state": {
            "_view_name": "ProgressView",
            "style": "IPY_MODEL_b4aa25505a684df481a1b134285fc0b1",
            "_dom_classes": [],
            "description": "",
            "_model_name": "FloatProgressModel",
            "bar_style": "success",
            "max": 312.5,
            "_view_module": "@jupyter-widgets/controls",
            "_model_module_version": "1.5.0",
            "value": 312.5,
            "_view_count": null,
            "_view_module_version": "1.5.0",
            "orientation": "horizontal",
            "min": 0,
            "description_tooltip": null,
            "_model_module": "@jupyter-widgets/controls",
            "layout": "IPY_MODEL_ae97ade1b7ec49f29d3301b41b65da22"
          }
        },
        "13b80326a1914eb0afce6bcb1b226207": {
          "model_module": "@jupyter-widgets/controls",
          "model_name": "HTMLModel",
          "state": {
            "_view_name": "HTMLView",
            "style": "IPY_MODEL_17d2fd302fa249fb9ce5dd36eea11969",
            "_dom_classes": [],
            "description": "",
            "_model_name": "HTMLModel",
            "placeholder": "​",
            "_view_module": "@jupyter-widgets/controls",
            "_model_module_version": "1.5.0",
            "value": " 313/? [00:01&lt;00:00, 180.19it/s]",
            "_view_count": null,
            "_view_module_version": "1.5.0",
            "description_tooltip": null,
            "_model_module": "@jupyter-widgets/controls",
            "layout": "IPY_MODEL_27cdda0f6a4542059299e00875768384"
          }
        },
        "b4aa25505a684df481a1b134285fc0b1": {
          "model_module": "@jupyter-widgets/controls",
          "model_name": "ProgressStyleModel",
          "state": {
            "_view_name": "StyleView",
            "_model_name": "ProgressStyleModel",
            "description_width": "initial",
            "_view_module": "@jupyter-widgets/base",
            "_model_module_version": "1.5.0",
            "_view_count": null,
            "_view_module_version": "1.2.0",
            "bar_color": null,
            "_model_module": "@jupyter-widgets/controls"
          }
        },
        "ae97ade1b7ec49f29d3301b41b65da22": {
          "model_module": "@jupyter-widgets/base",
          "model_name": "LayoutModel",
          "state": {
            "_view_name": "LayoutView",
            "grid_template_rows": null,
            "right": null,
            "justify_content": null,
            "_view_module": "@jupyter-widgets/base",
            "overflow": null,
            "_model_module_version": "1.2.0",
            "_view_count": null,
            "flex_flow": null,
            "width": null,
            "min_width": null,
            "border": null,
            "align_items": null,
            "bottom": null,
            "_model_module": "@jupyter-widgets/base",
            "top": null,
            "grid_column": null,
            "overflow_y": null,
            "overflow_x": null,
            "grid_auto_flow": null,
            "grid_area": null,
            "grid_template_columns": null,
            "flex": null,
            "_model_name": "LayoutModel",
            "justify_items": null,
            "grid_row": null,
            "max_height": null,
            "align_content": null,
            "visibility": null,
            "align_self": null,
            "height": null,
            "min_height": null,
            "padding": null,
            "grid_auto_rows": null,
            "grid_gap": null,
            "max_width": null,
            "order": null,
            "_view_module_version": "1.2.0",
            "grid_template_areas": null,
            "object_position": null,
            "object_fit": null,
            "grid_auto_columns": null,
            "margin": null,
            "display": null,
            "left": null
          }
        },
        "17d2fd302fa249fb9ce5dd36eea11969": {
          "model_module": "@jupyter-widgets/controls",
          "model_name": "DescriptionStyleModel",
          "state": {
            "_view_name": "StyleView",
            "_model_name": "DescriptionStyleModel",
            "description_width": "",
            "_view_module": "@jupyter-widgets/base",
            "_model_module_version": "1.5.0",
            "_view_count": null,
            "_view_module_version": "1.2.0",
            "_model_module": "@jupyter-widgets/controls"
          }
        },
        "27cdda0f6a4542059299e00875768384": {
          "model_module": "@jupyter-widgets/base",
          "model_name": "LayoutModel",
          "state": {
            "_view_name": "LayoutView",
            "grid_template_rows": null,
            "right": null,
            "justify_content": null,
            "_view_module": "@jupyter-widgets/base",
            "overflow": null,
            "_model_module_version": "1.2.0",
            "_view_count": null,
            "flex_flow": null,
            "width": null,
            "min_width": null,
            "border": null,
            "align_items": null,
            "bottom": null,
            "_model_module": "@jupyter-widgets/base",
            "top": null,
            "grid_column": null,
            "overflow_y": null,
            "overflow_x": null,
            "grid_auto_flow": null,
            "grid_area": null,
            "grid_template_columns": null,
            "flex": null,
            "_model_name": "LayoutModel",
            "justify_items": null,
            "grid_row": null,
            "max_height": null,
            "align_content": null,
            "visibility": null,
            "align_self": null,
            "height": null,
            "min_height": null,
            "padding": null,
            "grid_auto_rows": null,
            "grid_gap": null,
            "max_width": null,
            "order": null,
            "_view_module_version": "1.2.0",
            "grid_template_areas": null,
            "object_position": null,
            "object_fit": null,
            "grid_auto_columns": null,
            "margin": null,
            "display": null,
            "left": null
          }
        },
        "fd0a22b201e44233bd6c5865bfdf3029": {
          "model_module": "@jupyter-widgets/controls",
          "model_name": "HBoxModel",
          "state": {
            "_view_name": "HBoxView",
            "_dom_classes": [],
            "_model_name": "HBoxModel",
            "_view_module": "@jupyter-widgets/controls",
            "_model_module_version": "1.5.0",
            "_view_count": null,
            "_view_module_version": "1.5.0",
            "box_style": "",
            "layout": "IPY_MODEL_d0f6adda6c7144049294a900588a0def",
            "_model_module": "@jupyter-widgets/controls",
            "children": [
              "IPY_MODEL_e23246022b6b4691b7db3dde72b6697f",
              "IPY_MODEL_0325077fde2f4eae9f0fabaf38b78652"
            ]
          }
        },
        "d0f6adda6c7144049294a900588a0def": {
          "model_module": "@jupyter-widgets/base",
          "model_name": "LayoutModel",
          "state": {
            "_view_name": "LayoutView",
            "grid_template_rows": null,
            "right": null,
            "justify_content": null,
            "_view_module": "@jupyter-widgets/base",
            "overflow": null,
            "_model_module_version": "1.2.0",
            "_view_count": null,
            "flex_flow": null,
            "width": null,
            "min_width": null,
            "border": null,
            "align_items": null,
            "bottom": null,
            "_model_module": "@jupyter-widgets/base",
            "top": null,
            "grid_column": null,
            "overflow_y": null,
            "overflow_x": null,
            "grid_auto_flow": null,
            "grid_area": null,
            "grid_template_columns": null,
            "flex": null,
            "_model_name": "LayoutModel",
            "justify_items": null,
            "grid_row": null,
            "max_height": null,
            "align_content": null,
            "visibility": null,
            "align_self": null,
            "height": null,
            "min_height": null,
            "padding": null,
            "grid_auto_rows": null,
            "grid_gap": null,
            "max_width": null,
            "order": null,
            "_view_module_version": "1.2.0",
            "grid_template_areas": null,
            "object_position": null,
            "object_fit": null,
            "grid_auto_columns": null,
            "margin": null,
            "display": null,
            "left": null
          }
        },
        "e23246022b6b4691b7db3dde72b6697f": {
          "model_module": "@jupyter-widgets/controls",
          "model_name": "FloatProgressModel",
          "state": {
            "_view_name": "ProgressView",
            "style": "IPY_MODEL_55281ffc1c51457a8d108fcf1827bfb3",
            "_dom_classes": [],
            "description": "100%",
            "_model_name": "FloatProgressModel",
            "bar_style": "success",
            "max": 1875,
            "_view_module": "@jupyter-widgets/controls",
            "_model_module_version": "1.5.0",
            "value": 1875,
            "_view_count": null,
            "_view_module_version": "1.5.0",
            "orientation": "horizontal",
            "min": 0,
            "description_tooltip": null,
            "_model_module": "@jupyter-widgets/controls",
            "layout": "IPY_MODEL_6875981e2f1a49a3a63b7d401c2e516b"
          }
        },
        "0325077fde2f4eae9f0fabaf38b78652": {
          "model_module": "@jupyter-widgets/controls",
          "model_name": "HTMLModel",
          "state": {
            "_view_name": "HTMLView",
            "style": "IPY_MODEL_5480d6df539c4895a1c16c26a6816184",
            "_dom_classes": [],
            "description": "",
            "_model_name": "HTMLModel",
            "placeholder": "​",
            "_view_module": "@jupyter-widgets/controls",
            "_model_module_version": "1.5.0",
            "value": " 1875/1875.0 [01:17&lt;00:00, 24.22it/s]",
            "_view_count": null,
            "_view_module_version": "1.5.0",
            "description_tooltip": null,
            "_model_module": "@jupyter-widgets/controls",
            "layout": "IPY_MODEL_79a8344ea7154e9292bf7bc882b33936"
          }
        },
        "55281ffc1c51457a8d108fcf1827bfb3": {
          "model_module": "@jupyter-widgets/controls",
          "model_name": "ProgressStyleModel",
          "state": {
            "_view_name": "StyleView",
            "_model_name": "ProgressStyleModel",
            "description_width": "initial",
            "_view_module": "@jupyter-widgets/base",
            "_model_module_version": "1.5.0",
            "_view_count": null,
            "_view_module_version": "1.2.0",
            "bar_color": null,
            "_model_module": "@jupyter-widgets/controls"
          }
        },
        "6875981e2f1a49a3a63b7d401c2e516b": {
          "model_module": "@jupyter-widgets/base",
          "model_name": "LayoutModel",
          "state": {
            "_view_name": "LayoutView",
            "grid_template_rows": null,
            "right": null,
            "justify_content": null,
            "_view_module": "@jupyter-widgets/base",
            "overflow": null,
            "_model_module_version": "1.2.0",
            "_view_count": null,
            "flex_flow": null,
            "width": null,
            "min_width": null,
            "border": null,
            "align_items": null,
            "bottom": null,
            "_model_module": "@jupyter-widgets/base",
            "top": null,
            "grid_column": null,
            "overflow_y": null,
            "overflow_x": null,
            "grid_auto_flow": null,
            "grid_area": null,
            "grid_template_columns": null,
            "flex": null,
            "_model_name": "LayoutModel",
            "justify_items": null,
            "grid_row": null,
            "max_height": null,
            "align_content": null,
            "visibility": null,
            "align_self": null,
            "height": null,
            "min_height": null,
            "padding": null,
            "grid_auto_rows": null,
            "grid_gap": null,
            "max_width": null,
            "order": null,
            "_view_module_version": "1.2.0",
            "grid_template_areas": null,
            "object_position": null,
            "object_fit": null,
            "grid_auto_columns": null,
            "margin": null,
            "display": null,
            "left": null
          }
        },
        "5480d6df539c4895a1c16c26a6816184": {
          "model_module": "@jupyter-widgets/controls",
          "model_name": "DescriptionStyleModel",
          "state": {
            "_view_name": "StyleView",
            "_model_name": "DescriptionStyleModel",
            "description_width": "",
            "_view_module": "@jupyter-widgets/base",
            "_model_module_version": "1.5.0",
            "_view_count": null,
            "_view_module_version": "1.2.0",
            "_model_module": "@jupyter-widgets/controls"
          }
        },
        "79a8344ea7154e9292bf7bc882b33936": {
          "model_module": "@jupyter-widgets/base",
          "model_name": "LayoutModel",
          "state": {
            "_view_name": "LayoutView",
            "grid_template_rows": null,
            "right": null,
            "justify_content": null,
            "_view_module": "@jupyter-widgets/base",
            "overflow": null,
            "_model_module_version": "1.2.0",
            "_view_count": null,
            "flex_flow": null,
            "width": null,
            "min_width": null,
            "border": null,
            "align_items": null,
            "bottom": null,
            "_model_module": "@jupyter-widgets/base",
            "top": null,
            "grid_column": null,
            "overflow_y": null,
            "overflow_x": null,
            "grid_auto_flow": null,
            "grid_area": null,
            "grid_template_columns": null,
            "flex": null,
            "_model_name": "LayoutModel",
            "justify_items": null,
            "grid_row": null,
            "max_height": null,
            "align_content": null,
            "visibility": null,
            "align_self": null,
            "height": null,
            "min_height": null,
            "padding": null,
            "grid_auto_rows": null,
            "grid_gap": null,
            "max_width": null,
            "order": null,
            "_view_module_version": "1.2.0",
            "grid_template_areas": null,
            "object_position": null,
            "object_fit": null,
            "grid_auto_columns": null,
            "margin": null,
            "display": null,
            "left": null
          }
        },
        "b41efcf76b8e4525a761e5c85d643fa2": {
          "model_module": "@jupyter-widgets/controls",
          "model_name": "HBoxModel",
          "state": {
            "_view_name": "HBoxView",
            "_dom_classes": [],
            "_model_name": "HBoxModel",
            "_view_module": "@jupyter-widgets/controls",
            "_model_module_version": "1.5.0",
            "_view_count": null,
            "_view_module_version": "1.5.0",
            "box_style": "",
            "layout": "IPY_MODEL_56939fe19e87445cbaf61fcb0ca1a7b0",
            "_model_module": "@jupyter-widgets/controls",
            "children": [
              "IPY_MODEL_a358c6d5af674199abe6b45ea2e44a82",
              "IPY_MODEL_52fd4a6a2ea940d0a9ee73c7ea33555c"
            ]
          }
        },
        "56939fe19e87445cbaf61fcb0ca1a7b0": {
          "model_module": "@jupyter-widgets/base",
          "model_name": "LayoutModel",
          "state": {
            "_view_name": "LayoutView",
            "grid_template_rows": null,
            "right": null,
            "justify_content": null,
            "_view_module": "@jupyter-widgets/base",
            "overflow": null,
            "_model_module_version": "1.2.0",
            "_view_count": null,
            "flex_flow": null,
            "width": null,
            "min_width": null,
            "border": null,
            "align_items": null,
            "bottom": null,
            "_model_module": "@jupyter-widgets/base",
            "top": null,
            "grid_column": null,
            "overflow_y": null,
            "overflow_x": null,
            "grid_auto_flow": null,
            "grid_area": null,
            "grid_template_columns": null,
            "flex": null,
            "_model_name": "LayoutModel",
            "justify_items": null,
            "grid_row": null,
            "max_height": null,
            "align_content": null,
            "visibility": null,
            "align_self": null,
            "height": null,
            "min_height": null,
            "padding": null,
            "grid_auto_rows": null,
            "grid_gap": null,
            "max_width": null,
            "order": null,
            "_view_module_version": "1.2.0",
            "grid_template_areas": null,
            "object_position": null,
            "object_fit": null,
            "grid_auto_columns": null,
            "margin": null,
            "display": null,
            "left": null
          }
        },
        "a358c6d5af674199abe6b45ea2e44a82": {
          "model_module": "@jupyter-widgets/controls",
          "model_name": "FloatProgressModel",
          "state": {
            "_view_name": "ProgressView",
            "style": "IPY_MODEL_86d0c1c43ba94f76986ec7f2fe7d99b0",
            "_dom_classes": [],
            "description": "",
            "_model_name": "FloatProgressModel",
            "bar_style": "success",
            "max": 312.5,
            "_view_module": "@jupyter-widgets/controls",
            "_model_module_version": "1.5.0",
            "value": 312.5,
            "_view_count": null,
            "_view_module_version": "1.5.0",
            "orientation": "horizontal",
            "min": 0,
            "description_tooltip": null,
            "_model_module": "@jupyter-widgets/controls",
            "layout": "IPY_MODEL_a8891e26f73c4cf39f3c0a41866236ad"
          }
        },
        "52fd4a6a2ea940d0a9ee73c7ea33555c": {
          "model_module": "@jupyter-widgets/controls",
          "model_name": "HTMLModel",
          "state": {
            "_view_name": "HTMLView",
            "style": "IPY_MODEL_47e9205a76e04528889f85ac35f46ff7",
            "_dom_classes": [],
            "description": "",
            "_model_name": "HTMLModel",
            "placeholder": "​",
            "_view_module": "@jupyter-widgets/controls",
            "_model_module_version": "1.5.0",
            "value": " 313/? [01:03&lt;00:00,  4.96it/s]",
            "_view_count": null,
            "_view_module_version": "1.5.0",
            "description_tooltip": null,
            "_model_module": "@jupyter-widgets/controls",
            "layout": "IPY_MODEL_1368be44c8b043e5a8fe7135adda2a6c"
          }
        },
        "86d0c1c43ba94f76986ec7f2fe7d99b0": {
          "model_module": "@jupyter-widgets/controls",
          "model_name": "ProgressStyleModel",
          "state": {
            "_view_name": "StyleView",
            "_model_name": "ProgressStyleModel",
            "description_width": "initial",
            "_view_module": "@jupyter-widgets/base",
            "_model_module_version": "1.5.0",
            "_view_count": null,
            "_view_module_version": "1.2.0",
            "bar_color": null,
            "_model_module": "@jupyter-widgets/controls"
          }
        },
        "a8891e26f73c4cf39f3c0a41866236ad": {
          "model_module": "@jupyter-widgets/base",
          "model_name": "LayoutModel",
          "state": {
            "_view_name": "LayoutView",
            "grid_template_rows": null,
            "right": null,
            "justify_content": null,
            "_view_module": "@jupyter-widgets/base",
            "overflow": null,
            "_model_module_version": "1.2.0",
            "_view_count": null,
            "flex_flow": null,
            "width": null,
            "min_width": null,
            "border": null,
            "align_items": null,
            "bottom": null,
            "_model_module": "@jupyter-widgets/base",
            "top": null,
            "grid_column": null,
            "overflow_y": null,
            "overflow_x": null,
            "grid_auto_flow": null,
            "grid_area": null,
            "grid_template_columns": null,
            "flex": null,
            "_model_name": "LayoutModel",
            "justify_items": null,
            "grid_row": null,
            "max_height": null,
            "align_content": null,
            "visibility": null,
            "align_self": null,
            "height": null,
            "min_height": null,
            "padding": null,
            "grid_auto_rows": null,
            "grid_gap": null,
            "max_width": null,
            "order": null,
            "_view_module_version": "1.2.0",
            "grid_template_areas": null,
            "object_position": null,
            "object_fit": null,
            "grid_auto_columns": null,
            "margin": null,
            "display": null,
            "left": null
          }
        },
        "47e9205a76e04528889f85ac35f46ff7": {
          "model_module": "@jupyter-widgets/controls",
          "model_name": "DescriptionStyleModel",
          "state": {
            "_view_name": "StyleView",
            "_model_name": "DescriptionStyleModel",
            "description_width": "",
            "_view_module": "@jupyter-widgets/base",
            "_model_module_version": "1.5.0",
            "_view_count": null,
            "_view_module_version": "1.2.0",
            "_model_module": "@jupyter-widgets/controls"
          }
        },
        "1368be44c8b043e5a8fe7135adda2a6c": {
          "model_module": "@jupyter-widgets/base",
          "model_name": "LayoutModel",
          "state": {
            "_view_name": "LayoutView",
            "grid_template_rows": null,
            "right": null,
            "justify_content": null,
            "_view_module": "@jupyter-widgets/base",
            "overflow": null,
            "_model_module_version": "1.2.0",
            "_view_count": null,
            "flex_flow": null,
            "width": null,
            "min_width": null,
            "border": null,
            "align_items": null,
            "bottom": null,
            "_model_module": "@jupyter-widgets/base",
            "top": null,
            "grid_column": null,
            "overflow_y": null,
            "overflow_x": null,
            "grid_auto_flow": null,
            "grid_area": null,
            "grid_template_columns": null,
            "flex": null,
            "_model_name": "LayoutModel",
            "justify_items": null,
            "grid_row": null,
            "max_height": null,
            "align_content": null,
            "visibility": null,
            "align_self": null,
            "height": null,
            "min_height": null,
            "padding": null,
            "grid_auto_rows": null,
            "grid_gap": null,
            "max_width": null,
            "order": null,
            "_view_module_version": "1.2.0",
            "grid_template_areas": null,
            "object_position": null,
            "object_fit": null,
            "grid_auto_columns": null,
            "margin": null,
            "display": null,
            "left": null
          }
        },
        "4f16ff7591034063842f595c2510093c": {
          "model_module": "@jupyter-widgets/controls",
          "model_name": "HBoxModel",
          "state": {
            "_view_name": "HBoxView",
            "_dom_classes": [],
            "_model_name": "HBoxModel",
            "_view_module": "@jupyter-widgets/controls",
            "_model_module_version": "1.5.0",
            "_view_count": null,
            "_view_module_version": "1.5.0",
            "box_style": "",
            "layout": "IPY_MODEL_085248cc5649453788d58a9aa28ad69a",
            "_model_module": "@jupyter-widgets/controls",
            "children": [
              "IPY_MODEL_56415bc9736f4f02a5c70ea434f704cb",
              "IPY_MODEL_375071a62c40461b90324e56f16a2fa7"
            ]
          }
        },
        "085248cc5649453788d58a9aa28ad69a": {
          "model_module": "@jupyter-widgets/base",
          "model_name": "LayoutModel",
          "state": {
            "_view_name": "LayoutView",
            "grid_template_rows": null,
            "right": null,
            "justify_content": null,
            "_view_module": "@jupyter-widgets/base",
            "overflow": null,
            "_model_module_version": "1.2.0",
            "_view_count": null,
            "flex_flow": null,
            "width": null,
            "min_width": null,
            "border": null,
            "align_items": null,
            "bottom": null,
            "_model_module": "@jupyter-widgets/base",
            "top": null,
            "grid_column": null,
            "overflow_y": null,
            "overflow_x": null,
            "grid_auto_flow": null,
            "grid_area": null,
            "grid_template_columns": null,
            "flex": null,
            "_model_name": "LayoutModel",
            "justify_items": null,
            "grid_row": null,
            "max_height": null,
            "align_content": null,
            "visibility": null,
            "align_self": null,
            "height": null,
            "min_height": null,
            "padding": null,
            "grid_auto_rows": null,
            "grid_gap": null,
            "max_width": null,
            "order": null,
            "_view_module_version": "1.2.0",
            "grid_template_areas": null,
            "object_position": null,
            "object_fit": null,
            "grid_auto_columns": null,
            "margin": null,
            "display": null,
            "left": null
          }
        },
        "56415bc9736f4f02a5c70ea434f704cb": {
          "model_module": "@jupyter-widgets/controls",
          "model_name": "FloatProgressModel",
          "state": {
            "_view_name": "ProgressView",
            "style": "IPY_MODEL_c1d72da9c6f24966a11a298e6b8e35d0",
            "_dom_classes": [],
            "description": "100%",
            "_model_name": "FloatProgressModel",
            "bar_style": "success",
            "max": 1875,
            "_view_module": "@jupyter-widgets/controls",
            "_model_module_version": "1.5.0",
            "value": 1875,
            "_view_count": null,
            "_view_module_version": "1.5.0",
            "orientation": "horizontal",
            "min": 0,
            "description_tooltip": null,
            "_model_module": "@jupyter-widgets/controls",
            "layout": "IPY_MODEL_d124a97a5ad94a0a955c38a3709309a9"
          }
        },
        "375071a62c40461b90324e56f16a2fa7": {
          "model_module": "@jupyter-widgets/controls",
          "model_name": "HTMLModel",
          "state": {
            "_view_name": "HTMLView",
            "style": "IPY_MODEL_29d4e58dd2564133aa332de933a10404",
            "_dom_classes": [],
            "description": "",
            "_model_name": "HTMLModel",
            "placeholder": "​",
            "_view_module": "@jupyter-widgets/controls",
            "_model_module_version": "1.5.0",
            "value": " 1875/1875.0 [01:01&lt;00:00, 30.51it/s]",
            "_view_count": null,
            "_view_module_version": "1.5.0",
            "description_tooltip": null,
            "_model_module": "@jupyter-widgets/controls",
            "layout": "IPY_MODEL_787c5698b4ad42e8811294126cddb730"
          }
        },
        "c1d72da9c6f24966a11a298e6b8e35d0": {
          "model_module": "@jupyter-widgets/controls",
          "model_name": "ProgressStyleModel",
          "state": {
            "_view_name": "StyleView",
            "_model_name": "ProgressStyleModel",
            "description_width": "initial",
            "_view_module": "@jupyter-widgets/base",
            "_model_module_version": "1.5.0",
            "_view_count": null,
            "_view_module_version": "1.2.0",
            "bar_color": null,
            "_model_module": "@jupyter-widgets/controls"
          }
        },
        "d124a97a5ad94a0a955c38a3709309a9": {
          "model_module": "@jupyter-widgets/base",
          "model_name": "LayoutModel",
          "state": {
            "_view_name": "LayoutView",
            "grid_template_rows": null,
            "right": null,
            "justify_content": null,
            "_view_module": "@jupyter-widgets/base",
            "overflow": null,
            "_model_module_version": "1.2.0",
            "_view_count": null,
            "flex_flow": null,
            "width": null,
            "min_width": null,
            "border": null,
            "align_items": null,
            "bottom": null,
            "_model_module": "@jupyter-widgets/base",
            "top": null,
            "grid_column": null,
            "overflow_y": null,
            "overflow_x": null,
            "grid_auto_flow": null,
            "grid_area": null,
            "grid_template_columns": null,
            "flex": null,
            "_model_name": "LayoutModel",
            "justify_items": null,
            "grid_row": null,
            "max_height": null,
            "align_content": null,
            "visibility": null,
            "align_self": null,
            "height": null,
            "min_height": null,
            "padding": null,
            "grid_auto_rows": null,
            "grid_gap": null,
            "max_width": null,
            "order": null,
            "_view_module_version": "1.2.0",
            "grid_template_areas": null,
            "object_position": null,
            "object_fit": null,
            "grid_auto_columns": null,
            "margin": null,
            "display": null,
            "left": null
          }
        },
        "29d4e58dd2564133aa332de933a10404": {
          "model_module": "@jupyter-widgets/controls",
          "model_name": "DescriptionStyleModel",
          "state": {
            "_view_name": "StyleView",
            "_model_name": "DescriptionStyleModel",
            "description_width": "",
            "_view_module": "@jupyter-widgets/base",
            "_model_module_version": "1.5.0",
            "_view_count": null,
            "_view_module_version": "1.2.0",
            "_model_module": "@jupyter-widgets/controls"
          }
        },
        "787c5698b4ad42e8811294126cddb730": {
          "model_module": "@jupyter-widgets/base",
          "model_name": "LayoutModel",
          "state": {
            "_view_name": "LayoutView",
            "grid_template_rows": null,
            "right": null,
            "justify_content": null,
            "_view_module": "@jupyter-widgets/base",
            "overflow": null,
            "_model_module_version": "1.2.0",
            "_view_count": null,
            "flex_flow": null,
            "width": null,
            "min_width": null,
            "border": null,
            "align_items": null,
            "bottom": null,
            "_model_module": "@jupyter-widgets/base",
            "top": null,
            "grid_column": null,
            "overflow_y": null,
            "overflow_x": null,
            "grid_auto_flow": null,
            "grid_area": null,
            "grid_template_columns": null,
            "flex": null,
            "_model_name": "LayoutModel",
            "justify_items": null,
            "grid_row": null,
            "max_height": null,
            "align_content": null,
            "visibility": null,
            "align_self": null,
            "height": null,
            "min_height": null,
            "padding": null,
            "grid_auto_rows": null,
            "grid_gap": null,
            "max_width": null,
            "order": null,
            "_view_module_version": "1.2.0",
            "grid_template_areas": null,
            "object_position": null,
            "object_fit": null,
            "grid_auto_columns": null,
            "margin": null,
            "display": null,
            "left": null
          }
        },
        "19cb2bd023ba4b3a82817703c35fcda6": {
          "model_module": "@jupyter-widgets/controls",
          "model_name": "HBoxModel",
          "state": {
            "_view_name": "HBoxView",
            "_dom_classes": [],
            "_model_name": "HBoxModel",
            "_view_module": "@jupyter-widgets/controls",
            "_model_module_version": "1.5.0",
            "_view_count": null,
            "_view_module_version": "1.5.0",
            "box_style": "",
            "layout": "IPY_MODEL_0caddb0e2c3e4d3b9a6c9ff07b684810",
            "_model_module": "@jupyter-widgets/controls",
            "children": [
              "IPY_MODEL_3c560bb579484042a4dc71b7550c8870",
              "IPY_MODEL_0e91f961b9be4c9fbad00ec965865d33"
            ]
          }
        },
        "0caddb0e2c3e4d3b9a6c9ff07b684810": {
          "model_module": "@jupyter-widgets/base",
          "model_name": "LayoutModel",
          "state": {
            "_view_name": "LayoutView",
            "grid_template_rows": null,
            "right": null,
            "justify_content": null,
            "_view_module": "@jupyter-widgets/base",
            "overflow": null,
            "_model_module_version": "1.2.0",
            "_view_count": null,
            "flex_flow": null,
            "width": null,
            "min_width": null,
            "border": null,
            "align_items": null,
            "bottom": null,
            "_model_module": "@jupyter-widgets/base",
            "top": null,
            "grid_column": null,
            "overflow_y": null,
            "overflow_x": null,
            "grid_auto_flow": null,
            "grid_area": null,
            "grid_template_columns": null,
            "flex": null,
            "_model_name": "LayoutModel",
            "justify_items": null,
            "grid_row": null,
            "max_height": null,
            "align_content": null,
            "visibility": null,
            "align_self": null,
            "height": null,
            "min_height": null,
            "padding": null,
            "grid_auto_rows": null,
            "grid_gap": null,
            "max_width": null,
            "order": null,
            "_view_module_version": "1.2.0",
            "grid_template_areas": null,
            "object_position": null,
            "object_fit": null,
            "grid_auto_columns": null,
            "margin": null,
            "display": null,
            "left": null
          }
        },
        "3c560bb579484042a4dc71b7550c8870": {
          "model_module": "@jupyter-widgets/controls",
          "model_name": "FloatProgressModel",
          "state": {
            "_view_name": "ProgressView",
            "style": "IPY_MODEL_f0a61f3fac48418ba3c4bda622731e0f",
            "_dom_classes": [],
            "description": "",
            "_model_name": "FloatProgressModel",
            "bar_style": "success",
            "max": 312.5,
            "_view_module": "@jupyter-widgets/controls",
            "_model_module_version": "1.5.0",
            "value": 312.5,
            "_view_count": null,
            "_view_module_version": "1.5.0",
            "orientation": "horizontal",
            "min": 0,
            "description_tooltip": null,
            "_model_module": "@jupyter-widgets/controls",
            "layout": "IPY_MODEL_cbf2c72b17924c6c985e96eae09f6117"
          }
        },
        "0e91f961b9be4c9fbad00ec965865d33": {
          "model_module": "@jupyter-widgets/controls",
          "model_name": "HTMLModel",
          "state": {
            "_view_name": "HTMLView",
            "style": "IPY_MODEL_914e5037cb3b4fada975b4231571195f",
            "_dom_classes": [],
            "description": "",
            "_model_name": "HTMLModel",
            "placeholder": "​",
            "_view_module": "@jupyter-widgets/controls",
            "_model_module_version": "1.5.0",
            "value": " 313/? [00:47&lt;00:00,  6.60it/s]",
            "_view_count": null,
            "_view_module_version": "1.5.0",
            "description_tooltip": null,
            "_model_module": "@jupyter-widgets/controls",
            "layout": "IPY_MODEL_762e21100aa5429ea33a229be9eb7ee8"
          }
        },
        "f0a61f3fac48418ba3c4bda622731e0f": {
          "model_module": "@jupyter-widgets/controls",
          "model_name": "ProgressStyleModel",
          "state": {
            "_view_name": "StyleView",
            "_model_name": "ProgressStyleModel",
            "description_width": "initial",
            "_view_module": "@jupyter-widgets/base",
            "_model_module_version": "1.5.0",
            "_view_count": null,
            "_view_module_version": "1.2.0",
            "bar_color": null,
            "_model_module": "@jupyter-widgets/controls"
          }
        },
        "cbf2c72b17924c6c985e96eae09f6117": {
          "model_module": "@jupyter-widgets/base",
          "model_name": "LayoutModel",
          "state": {
            "_view_name": "LayoutView",
            "grid_template_rows": null,
            "right": null,
            "justify_content": null,
            "_view_module": "@jupyter-widgets/base",
            "overflow": null,
            "_model_module_version": "1.2.0",
            "_view_count": null,
            "flex_flow": null,
            "width": null,
            "min_width": null,
            "border": null,
            "align_items": null,
            "bottom": null,
            "_model_module": "@jupyter-widgets/base",
            "top": null,
            "grid_column": null,
            "overflow_y": null,
            "overflow_x": null,
            "grid_auto_flow": null,
            "grid_area": null,
            "grid_template_columns": null,
            "flex": null,
            "_model_name": "LayoutModel",
            "justify_items": null,
            "grid_row": null,
            "max_height": null,
            "align_content": null,
            "visibility": null,
            "align_self": null,
            "height": null,
            "min_height": null,
            "padding": null,
            "grid_auto_rows": null,
            "grid_gap": null,
            "max_width": null,
            "order": null,
            "_view_module_version": "1.2.0",
            "grid_template_areas": null,
            "object_position": null,
            "object_fit": null,
            "grid_auto_columns": null,
            "margin": null,
            "display": null,
            "left": null
          }
        },
        "914e5037cb3b4fada975b4231571195f": {
          "model_module": "@jupyter-widgets/controls",
          "model_name": "DescriptionStyleModel",
          "state": {
            "_view_name": "StyleView",
            "_model_name": "DescriptionStyleModel",
            "description_width": "",
            "_view_module": "@jupyter-widgets/base",
            "_model_module_version": "1.5.0",
            "_view_count": null,
            "_view_module_version": "1.2.0",
            "_model_module": "@jupyter-widgets/controls"
          }
        },
        "762e21100aa5429ea33a229be9eb7ee8": {
          "model_module": "@jupyter-widgets/base",
          "model_name": "LayoutModel",
          "state": {
            "_view_name": "LayoutView",
            "grid_template_rows": null,
            "right": null,
            "justify_content": null,
            "_view_module": "@jupyter-widgets/base",
            "overflow": null,
            "_model_module_version": "1.2.0",
            "_view_count": null,
            "flex_flow": null,
            "width": null,
            "min_width": null,
            "border": null,
            "align_items": null,
            "bottom": null,
            "_model_module": "@jupyter-widgets/base",
            "top": null,
            "grid_column": null,
            "overflow_y": null,
            "overflow_x": null,
            "grid_auto_flow": null,
            "grid_area": null,
            "grid_template_columns": null,
            "flex": null,
            "_model_name": "LayoutModel",
            "justify_items": null,
            "grid_row": null,
            "max_height": null,
            "align_content": null,
            "visibility": null,
            "align_self": null,
            "height": null,
            "min_height": null,
            "padding": null,
            "grid_auto_rows": null,
            "grid_gap": null,
            "max_width": null,
            "order": null,
            "_view_module_version": "1.2.0",
            "grid_template_areas": null,
            "object_position": null,
            "object_fit": null,
            "grid_auto_columns": null,
            "margin": null,
            "display": null,
            "left": null
          }
        },
        "93c95d484dcb48809b5d2ea7b2d4e29f": {
          "model_module": "@jupyter-widgets/controls",
          "model_name": "HBoxModel",
          "state": {
            "_view_name": "HBoxView",
            "_dom_classes": [],
            "_model_name": "HBoxModel",
            "_view_module": "@jupyter-widgets/controls",
            "_model_module_version": "1.5.0",
            "_view_count": null,
            "_view_module_version": "1.5.0",
            "box_style": "",
            "layout": "IPY_MODEL_ca5c00ec2ff54e5e8d4cfebddeb0f289",
            "_model_module": "@jupyter-widgets/controls",
            "children": [
              "IPY_MODEL_079c3c79638c4f16b077320446e9be72",
              "IPY_MODEL_2e3f2d03bafd4c6eb07c0a6e60f32028"
            ]
          }
        },
        "ca5c00ec2ff54e5e8d4cfebddeb0f289": {
          "model_module": "@jupyter-widgets/base",
          "model_name": "LayoutModel",
          "state": {
            "_view_name": "LayoutView",
            "grid_template_rows": null,
            "right": null,
            "justify_content": null,
            "_view_module": "@jupyter-widgets/base",
            "overflow": null,
            "_model_module_version": "1.2.0",
            "_view_count": null,
            "flex_flow": null,
            "width": null,
            "min_width": null,
            "border": null,
            "align_items": null,
            "bottom": null,
            "_model_module": "@jupyter-widgets/base",
            "top": null,
            "grid_column": null,
            "overflow_y": null,
            "overflow_x": null,
            "grid_auto_flow": null,
            "grid_area": null,
            "grid_template_columns": null,
            "flex": null,
            "_model_name": "LayoutModel",
            "justify_items": null,
            "grid_row": null,
            "max_height": null,
            "align_content": null,
            "visibility": null,
            "align_self": null,
            "height": null,
            "min_height": null,
            "padding": null,
            "grid_auto_rows": null,
            "grid_gap": null,
            "max_width": null,
            "order": null,
            "_view_module_version": "1.2.0",
            "grid_template_areas": null,
            "object_position": null,
            "object_fit": null,
            "grid_auto_columns": null,
            "margin": null,
            "display": null,
            "left": null
          }
        },
        "079c3c79638c4f16b077320446e9be72": {
          "model_module": "@jupyter-widgets/controls",
          "model_name": "FloatProgressModel",
          "state": {
            "_view_name": "ProgressView",
            "style": "IPY_MODEL_34163f3da725445f898a3085b912e6d2",
            "_dom_classes": [],
            "description": "100%",
            "_model_name": "FloatProgressModel",
            "bar_style": "success",
            "max": 1875,
            "_view_module": "@jupyter-widgets/controls",
            "_model_module_version": "1.5.0",
            "value": 1875,
            "_view_count": null,
            "_view_module_version": "1.5.0",
            "orientation": "horizontal",
            "min": 0,
            "description_tooltip": null,
            "_model_module": "@jupyter-widgets/controls",
            "layout": "IPY_MODEL_c9e879559e314c539ad38cb62654883e"
          }
        },
        "2e3f2d03bafd4c6eb07c0a6e60f32028": {
          "model_module": "@jupyter-widgets/controls",
          "model_name": "HTMLModel",
          "state": {
            "_view_name": "HTMLView",
            "style": "IPY_MODEL_76bfaba4beef4d05bf84ae01ea18175a",
            "_dom_classes": [],
            "description": "",
            "_model_name": "HTMLModel",
            "placeholder": "​",
            "_view_module": "@jupyter-widgets/controls",
            "_model_module_version": "1.5.0",
            "value": " 1875/1875.0 [00:45&lt;00:00, 40.98it/s]",
            "_view_count": null,
            "_view_module_version": "1.5.0",
            "description_tooltip": null,
            "_model_module": "@jupyter-widgets/controls",
            "layout": "IPY_MODEL_e5ca70a7022947f3bca571cde1d21305"
          }
        },
        "34163f3da725445f898a3085b912e6d2": {
          "model_module": "@jupyter-widgets/controls",
          "model_name": "ProgressStyleModel",
          "state": {
            "_view_name": "StyleView",
            "_model_name": "ProgressStyleModel",
            "description_width": "initial",
            "_view_module": "@jupyter-widgets/base",
            "_model_module_version": "1.5.0",
            "_view_count": null,
            "_view_module_version": "1.2.0",
            "bar_color": null,
            "_model_module": "@jupyter-widgets/controls"
          }
        },
        "c9e879559e314c539ad38cb62654883e": {
          "model_module": "@jupyter-widgets/base",
          "model_name": "LayoutModel",
          "state": {
            "_view_name": "LayoutView",
            "grid_template_rows": null,
            "right": null,
            "justify_content": null,
            "_view_module": "@jupyter-widgets/base",
            "overflow": null,
            "_model_module_version": "1.2.0",
            "_view_count": null,
            "flex_flow": null,
            "width": null,
            "min_width": null,
            "border": null,
            "align_items": null,
            "bottom": null,
            "_model_module": "@jupyter-widgets/base",
            "top": null,
            "grid_column": null,
            "overflow_y": null,
            "overflow_x": null,
            "grid_auto_flow": null,
            "grid_area": null,
            "grid_template_columns": null,
            "flex": null,
            "_model_name": "LayoutModel",
            "justify_items": null,
            "grid_row": null,
            "max_height": null,
            "align_content": null,
            "visibility": null,
            "align_self": null,
            "height": null,
            "min_height": null,
            "padding": null,
            "grid_auto_rows": null,
            "grid_gap": null,
            "max_width": null,
            "order": null,
            "_view_module_version": "1.2.0",
            "grid_template_areas": null,
            "object_position": null,
            "object_fit": null,
            "grid_auto_columns": null,
            "margin": null,
            "display": null,
            "left": null
          }
        },
        "76bfaba4beef4d05bf84ae01ea18175a": {
          "model_module": "@jupyter-widgets/controls",
          "model_name": "DescriptionStyleModel",
          "state": {
            "_view_name": "StyleView",
            "_model_name": "DescriptionStyleModel",
            "description_width": "",
            "_view_module": "@jupyter-widgets/base",
            "_model_module_version": "1.5.0",
            "_view_count": null,
            "_view_module_version": "1.2.0",
            "_model_module": "@jupyter-widgets/controls"
          }
        },
        "e5ca70a7022947f3bca571cde1d21305": {
          "model_module": "@jupyter-widgets/base",
          "model_name": "LayoutModel",
          "state": {
            "_view_name": "LayoutView",
            "grid_template_rows": null,
            "right": null,
            "justify_content": null,
            "_view_module": "@jupyter-widgets/base",
            "overflow": null,
            "_model_module_version": "1.2.0",
            "_view_count": null,
            "flex_flow": null,
            "width": null,
            "min_width": null,
            "border": null,
            "align_items": null,
            "bottom": null,
            "_model_module": "@jupyter-widgets/base",
            "top": null,
            "grid_column": null,
            "overflow_y": null,
            "overflow_x": null,
            "grid_auto_flow": null,
            "grid_area": null,
            "grid_template_columns": null,
            "flex": null,
            "_model_name": "LayoutModel",
            "justify_items": null,
            "grid_row": null,
            "max_height": null,
            "align_content": null,
            "visibility": null,
            "align_self": null,
            "height": null,
            "min_height": null,
            "padding": null,
            "grid_auto_rows": null,
            "grid_gap": null,
            "max_width": null,
            "order": null,
            "_view_module_version": "1.2.0",
            "grid_template_areas": null,
            "object_position": null,
            "object_fit": null,
            "grid_auto_columns": null,
            "margin": null,
            "display": null,
            "left": null
          }
        },
        "69452be268fe498293fd7e84755609d4": {
          "model_module": "@jupyter-widgets/controls",
          "model_name": "HBoxModel",
          "state": {
            "_view_name": "HBoxView",
            "_dom_classes": [],
            "_model_name": "HBoxModel",
            "_view_module": "@jupyter-widgets/controls",
            "_model_module_version": "1.5.0",
            "_view_count": null,
            "_view_module_version": "1.5.0",
            "box_style": "",
            "layout": "IPY_MODEL_52174027ef37473a954d7a078be1c359",
            "_model_module": "@jupyter-widgets/controls",
            "children": [
              "IPY_MODEL_2133b5900162466abdea80afc56f99d5",
              "IPY_MODEL_bd5ecd73d77146f0b6ee8bfb954c3ef6"
            ]
          }
        },
        "52174027ef37473a954d7a078be1c359": {
          "model_module": "@jupyter-widgets/base",
          "model_name": "LayoutModel",
          "state": {
            "_view_name": "LayoutView",
            "grid_template_rows": null,
            "right": null,
            "justify_content": null,
            "_view_module": "@jupyter-widgets/base",
            "overflow": null,
            "_model_module_version": "1.2.0",
            "_view_count": null,
            "flex_flow": null,
            "width": null,
            "min_width": null,
            "border": null,
            "align_items": null,
            "bottom": null,
            "_model_module": "@jupyter-widgets/base",
            "top": null,
            "grid_column": null,
            "overflow_y": null,
            "overflow_x": null,
            "grid_auto_flow": null,
            "grid_area": null,
            "grid_template_columns": null,
            "flex": null,
            "_model_name": "LayoutModel",
            "justify_items": null,
            "grid_row": null,
            "max_height": null,
            "align_content": null,
            "visibility": null,
            "align_self": null,
            "height": null,
            "min_height": null,
            "padding": null,
            "grid_auto_rows": null,
            "grid_gap": null,
            "max_width": null,
            "order": null,
            "_view_module_version": "1.2.0",
            "grid_template_areas": null,
            "object_position": null,
            "object_fit": null,
            "grid_auto_columns": null,
            "margin": null,
            "display": null,
            "left": null
          }
        },
        "2133b5900162466abdea80afc56f99d5": {
          "model_module": "@jupyter-widgets/controls",
          "model_name": "FloatProgressModel",
          "state": {
            "_view_name": "ProgressView",
            "style": "IPY_MODEL_a7241e319d6046359645608331f54496",
            "_dom_classes": [],
            "description": "",
            "_model_name": "FloatProgressModel",
            "bar_style": "success",
            "max": 312.5,
            "_view_module": "@jupyter-widgets/controls",
            "_model_module_version": "1.5.0",
            "value": 312.5,
            "_view_count": null,
            "_view_module_version": "1.5.0",
            "orientation": "horizontal",
            "min": 0,
            "description_tooltip": null,
            "_model_module": "@jupyter-widgets/controls",
            "layout": "IPY_MODEL_9fd1edb09f984369ab9362ce63ef9baf"
          }
        },
        "bd5ecd73d77146f0b6ee8bfb954c3ef6": {
          "model_module": "@jupyter-widgets/controls",
          "model_name": "HTMLModel",
          "state": {
            "_view_name": "HTMLView",
            "style": "IPY_MODEL_497c038d3f1b48cd8c9344bc20b44b49",
            "_dom_classes": [],
            "description": "",
            "_model_name": "HTMLModel",
            "placeholder": "​",
            "_view_module": "@jupyter-widgets/controls",
            "_model_module_version": "1.5.0",
            "value": " 313/? [00:31&lt;00:00,  9.86it/s]",
            "_view_count": null,
            "_view_module_version": "1.5.0",
            "description_tooltip": null,
            "_model_module": "@jupyter-widgets/controls",
            "layout": "IPY_MODEL_c565bb6b820d4b7994cb7aeff33b830a"
          }
        },
        "a7241e319d6046359645608331f54496": {
          "model_module": "@jupyter-widgets/controls",
          "model_name": "ProgressStyleModel",
          "state": {
            "_view_name": "StyleView",
            "_model_name": "ProgressStyleModel",
            "description_width": "initial",
            "_view_module": "@jupyter-widgets/base",
            "_model_module_version": "1.5.0",
            "_view_count": null,
            "_view_module_version": "1.2.0",
            "bar_color": null,
            "_model_module": "@jupyter-widgets/controls"
          }
        },
        "9fd1edb09f984369ab9362ce63ef9baf": {
          "model_module": "@jupyter-widgets/base",
          "model_name": "LayoutModel",
          "state": {
            "_view_name": "LayoutView",
            "grid_template_rows": null,
            "right": null,
            "justify_content": null,
            "_view_module": "@jupyter-widgets/base",
            "overflow": null,
            "_model_module_version": "1.2.0",
            "_view_count": null,
            "flex_flow": null,
            "width": null,
            "min_width": null,
            "border": null,
            "align_items": null,
            "bottom": null,
            "_model_module": "@jupyter-widgets/base",
            "top": null,
            "grid_column": null,
            "overflow_y": null,
            "overflow_x": null,
            "grid_auto_flow": null,
            "grid_area": null,
            "grid_template_columns": null,
            "flex": null,
            "_model_name": "LayoutModel",
            "justify_items": null,
            "grid_row": null,
            "max_height": null,
            "align_content": null,
            "visibility": null,
            "align_self": null,
            "height": null,
            "min_height": null,
            "padding": null,
            "grid_auto_rows": null,
            "grid_gap": null,
            "max_width": null,
            "order": null,
            "_view_module_version": "1.2.0",
            "grid_template_areas": null,
            "object_position": null,
            "object_fit": null,
            "grid_auto_columns": null,
            "margin": null,
            "display": null,
            "left": null
          }
        },
        "497c038d3f1b48cd8c9344bc20b44b49": {
          "model_module": "@jupyter-widgets/controls",
          "model_name": "DescriptionStyleModel",
          "state": {
            "_view_name": "StyleView",
            "_model_name": "DescriptionStyleModel",
            "description_width": "",
            "_view_module": "@jupyter-widgets/base",
            "_model_module_version": "1.5.0",
            "_view_count": null,
            "_view_module_version": "1.2.0",
            "_model_module": "@jupyter-widgets/controls"
          }
        },
        "c565bb6b820d4b7994cb7aeff33b830a": {
          "model_module": "@jupyter-widgets/base",
          "model_name": "LayoutModel",
          "state": {
            "_view_name": "LayoutView",
            "grid_template_rows": null,
            "right": null,
            "justify_content": null,
            "_view_module": "@jupyter-widgets/base",
            "overflow": null,
            "_model_module_version": "1.2.0",
            "_view_count": null,
            "flex_flow": null,
            "width": null,
            "min_width": null,
            "border": null,
            "align_items": null,
            "bottom": null,
            "_model_module": "@jupyter-widgets/base",
            "top": null,
            "grid_column": null,
            "overflow_y": null,
            "overflow_x": null,
            "grid_auto_flow": null,
            "grid_area": null,
            "grid_template_columns": null,
            "flex": null,
            "_model_name": "LayoutModel",
            "justify_items": null,
            "grid_row": null,
            "max_height": null,
            "align_content": null,
            "visibility": null,
            "align_self": null,
            "height": null,
            "min_height": null,
            "padding": null,
            "grid_auto_rows": null,
            "grid_gap": null,
            "max_width": null,
            "order": null,
            "_view_module_version": "1.2.0",
            "grid_template_areas": null,
            "object_position": null,
            "object_fit": null,
            "grid_auto_columns": null,
            "margin": null,
            "display": null,
            "left": null
          }
        },
        "17c4814a9e9c4017a838fa5ca157e599": {
          "model_module": "@jupyter-widgets/controls",
          "model_name": "HBoxModel",
          "state": {
            "_view_name": "HBoxView",
            "_dom_classes": [],
            "_model_name": "HBoxModel",
            "_view_module": "@jupyter-widgets/controls",
            "_model_module_version": "1.5.0",
            "_view_count": null,
            "_view_module_version": "1.5.0",
            "box_style": "",
            "layout": "IPY_MODEL_c98caf544a7b4544955337d491c2d9e9",
            "_model_module": "@jupyter-widgets/controls",
            "children": [
              "IPY_MODEL_325a926122224351bcf56903e9e86933",
              "IPY_MODEL_45f4e4a5766b43a59a263a070e331549"
            ]
          }
        },
        "c98caf544a7b4544955337d491c2d9e9": {
          "model_module": "@jupyter-widgets/base",
          "model_name": "LayoutModel",
          "state": {
            "_view_name": "LayoutView",
            "grid_template_rows": null,
            "right": null,
            "justify_content": null,
            "_view_module": "@jupyter-widgets/base",
            "overflow": null,
            "_model_module_version": "1.2.0",
            "_view_count": null,
            "flex_flow": null,
            "width": null,
            "min_width": null,
            "border": null,
            "align_items": null,
            "bottom": null,
            "_model_module": "@jupyter-widgets/base",
            "top": null,
            "grid_column": null,
            "overflow_y": null,
            "overflow_x": null,
            "grid_auto_flow": null,
            "grid_area": null,
            "grid_template_columns": null,
            "flex": null,
            "_model_name": "LayoutModel",
            "justify_items": null,
            "grid_row": null,
            "max_height": null,
            "align_content": null,
            "visibility": null,
            "align_self": null,
            "height": null,
            "min_height": null,
            "padding": null,
            "grid_auto_rows": null,
            "grid_gap": null,
            "max_width": null,
            "order": null,
            "_view_module_version": "1.2.0",
            "grid_template_areas": null,
            "object_position": null,
            "object_fit": null,
            "grid_auto_columns": null,
            "margin": null,
            "display": null,
            "left": null
          }
        },
        "325a926122224351bcf56903e9e86933": {
          "model_module": "@jupyter-widgets/controls",
          "model_name": "FloatProgressModel",
          "state": {
            "_view_name": "ProgressView",
            "style": "IPY_MODEL_23d81a7f3932423d94197347cb2008b8",
            "_dom_classes": [],
            "description": "100%",
            "_model_name": "FloatProgressModel",
            "bar_style": "success",
            "max": 1875,
            "_view_module": "@jupyter-widgets/controls",
            "_model_module_version": "1.5.0",
            "value": 1875,
            "_view_count": null,
            "_view_module_version": "1.5.0",
            "orientation": "horizontal",
            "min": 0,
            "description_tooltip": null,
            "_model_module": "@jupyter-widgets/controls",
            "layout": "IPY_MODEL_7ebaf57d4ff14815808f545a9de28ad2"
          }
        },
        "45f4e4a5766b43a59a263a070e331549": {
          "model_module": "@jupyter-widgets/controls",
          "model_name": "HTMLModel",
          "state": {
            "_view_name": "HTMLView",
            "style": "IPY_MODEL_0aff8ac7d7ca417eab50e203b9bf9a21",
            "_dom_classes": [],
            "description": "",
            "_model_name": "HTMLModel",
            "placeholder": "​",
            "_view_module": "@jupyter-widgets/controls",
            "_model_module_version": "1.5.0",
            "value": " 1875/1875.0 [00:30&lt;00:00, 62.38it/s]",
            "_view_count": null,
            "_view_module_version": "1.5.0",
            "description_tooltip": null,
            "_model_module": "@jupyter-widgets/controls",
            "layout": "IPY_MODEL_c81100e0de0d460e9d1db9f1b49458a4"
          }
        },
        "23d81a7f3932423d94197347cb2008b8": {
          "model_module": "@jupyter-widgets/controls",
          "model_name": "ProgressStyleModel",
          "state": {
            "_view_name": "StyleView",
            "_model_name": "ProgressStyleModel",
            "description_width": "initial",
            "_view_module": "@jupyter-widgets/base",
            "_model_module_version": "1.5.0",
            "_view_count": null,
            "_view_module_version": "1.2.0",
            "bar_color": null,
            "_model_module": "@jupyter-widgets/controls"
          }
        },
        "7ebaf57d4ff14815808f545a9de28ad2": {
          "model_module": "@jupyter-widgets/base",
          "model_name": "LayoutModel",
          "state": {
            "_view_name": "LayoutView",
            "grid_template_rows": null,
            "right": null,
            "justify_content": null,
            "_view_module": "@jupyter-widgets/base",
            "overflow": null,
            "_model_module_version": "1.2.0",
            "_view_count": null,
            "flex_flow": null,
            "width": null,
            "min_width": null,
            "border": null,
            "align_items": null,
            "bottom": null,
            "_model_module": "@jupyter-widgets/base",
            "top": null,
            "grid_column": null,
            "overflow_y": null,
            "overflow_x": null,
            "grid_auto_flow": null,
            "grid_area": null,
            "grid_template_columns": null,
            "flex": null,
            "_model_name": "LayoutModel",
            "justify_items": null,
            "grid_row": null,
            "max_height": null,
            "align_content": null,
            "visibility": null,
            "align_self": null,
            "height": null,
            "min_height": null,
            "padding": null,
            "grid_auto_rows": null,
            "grid_gap": null,
            "max_width": null,
            "order": null,
            "_view_module_version": "1.2.0",
            "grid_template_areas": null,
            "object_position": null,
            "object_fit": null,
            "grid_auto_columns": null,
            "margin": null,
            "display": null,
            "left": null
          }
        },
        "0aff8ac7d7ca417eab50e203b9bf9a21": {
          "model_module": "@jupyter-widgets/controls",
          "model_name": "DescriptionStyleModel",
          "state": {
            "_view_name": "StyleView",
            "_model_name": "DescriptionStyleModel",
            "description_width": "",
            "_view_module": "@jupyter-widgets/base",
            "_model_module_version": "1.5.0",
            "_view_count": null,
            "_view_module_version": "1.2.0",
            "_model_module": "@jupyter-widgets/controls"
          }
        },
        "c81100e0de0d460e9d1db9f1b49458a4": {
          "model_module": "@jupyter-widgets/base",
          "model_name": "LayoutModel",
          "state": {
            "_view_name": "LayoutView",
            "grid_template_rows": null,
            "right": null,
            "justify_content": null,
            "_view_module": "@jupyter-widgets/base",
            "overflow": null,
            "_model_module_version": "1.2.0",
            "_view_count": null,
            "flex_flow": null,
            "width": null,
            "min_width": null,
            "border": null,
            "align_items": null,
            "bottom": null,
            "_model_module": "@jupyter-widgets/base",
            "top": null,
            "grid_column": null,
            "overflow_y": null,
            "overflow_x": null,
            "grid_auto_flow": null,
            "grid_area": null,
            "grid_template_columns": null,
            "flex": null,
            "_model_name": "LayoutModel",
            "justify_items": null,
            "grid_row": null,
            "max_height": null,
            "align_content": null,
            "visibility": null,
            "align_self": null,
            "height": null,
            "min_height": null,
            "padding": null,
            "grid_auto_rows": null,
            "grid_gap": null,
            "max_width": null,
            "order": null,
            "_view_module_version": "1.2.0",
            "grid_template_areas": null,
            "object_position": null,
            "object_fit": null,
            "grid_auto_columns": null,
            "margin": null,
            "display": null,
            "left": null
          }
        },
        "214f89320df04873a1bf3e1a96526a3f": {
          "model_module": "@jupyter-widgets/controls",
          "model_name": "HBoxModel",
          "state": {
            "_view_name": "HBoxView",
            "_dom_classes": [],
            "_model_name": "HBoxModel",
            "_view_module": "@jupyter-widgets/controls",
            "_model_module_version": "1.5.0",
            "_view_count": null,
            "_view_module_version": "1.5.0",
            "box_style": "",
            "layout": "IPY_MODEL_3510d9ec4b2d4af8b849079a5a4dc5bd",
            "_model_module": "@jupyter-widgets/controls",
            "children": [
              "IPY_MODEL_57f06dd1261c4d18a6069b2e433b425e",
              "IPY_MODEL_9e7f7f231eb14a13bff333db36269d29"
            ]
          }
        },
        "3510d9ec4b2d4af8b849079a5a4dc5bd": {
          "model_module": "@jupyter-widgets/base",
          "model_name": "LayoutModel",
          "state": {
            "_view_name": "LayoutView",
            "grid_template_rows": null,
            "right": null,
            "justify_content": null,
            "_view_module": "@jupyter-widgets/base",
            "overflow": null,
            "_model_module_version": "1.2.0",
            "_view_count": null,
            "flex_flow": null,
            "width": null,
            "min_width": null,
            "border": null,
            "align_items": null,
            "bottom": null,
            "_model_module": "@jupyter-widgets/base",
            "top": null,
            "grid_column": null,
            "overflow_y": null,
            "overflow_x": null,
            "grid_auto_flow": null,
            "grid_area": null,
            "grid_template_columns": null,
            "flex": null,
            "_model_name": "LayoutModel",
            "justify_items": null,
            "grid_row": null,
            "max_height": null,
            "align_content": null,
            "visibility": null,
            "align_self": null,
            "height": null,
            "min_height": null,
            "padding": null,
            "grid_auto_rows": null,
            "grid_gap": null,
            "max_width": null,
            "order": null,
            "_view_module_version": "1.2.0",
            "grid_template_areas": null,
            "object_position": null,
            "object_fit": null,
            "grid_auto_columns": null,
            "margin": null,
            "display": null,
            "left": null
          }
        },
        "57f06dd1261c4d18a6069b2e433b425e": {
          "model_module": "@jupyter-widgets/controls",
          "model_name": "FloatProgressModel",
          "state": {
            "_view_name": "ProgressView",
            "style": "IPY_MODEL_38c4f668614e4693ae87a3165840b389",
            "_dom_classes": [],
            "description": "",
            "_model_name": "FloatProgressModel",
            "bar_style": "success",
            "max": 312.5,
            "_view_module": "@jupyter-widgets/controls",
            "_model_module_version": "1.5.0",
            "value": 312.5,
            "_view_count": null,
            "_view_module_version": "1.5.0",
            "orientation": "horizontal",
            "min": 0,
            "description_tooltip": null,
            "_model_module": "@jupyter-widgets/controls",
            "layout": "IPY_MODEL_2a516d8d21524269a6d2305000736255"
          }
        },
        "9e7f7f231eb14a13bff333db36269d29": {
          "model_module": "@jupyter-widgets/controls",
          "model_name": "HTMLModel",
          "state": {
            "_view_name": "HTMLView",
            "style": "IPY_MODEL_710dd38e143145cd9f660ed0c21d8c95",
            "_dom_classes": [],
            "description": "",
            "_model_name": "HTMLModel",
            "placeholder": "​",
            "_view_module": "@jupyter-widgets/controls",
            "_model_module_version": "1.5.0",
            "value": " 313/? [00:16&lt;00:00, 19.35it/s]",
            "_view_count": null,
            "_view_module_version": "1.5.0",
            "description_tooltip": null,
            "_model_module": "@jupyter-widgets/controls",
            "layout": "IPY_MODEL_d113f793100543e1ac2af52f307c9498"
          }
        },
        "38c4f668614e4693ae87a3165840b389": {
          "model_module": "@jupyter-widgets/controls",
          "model_name": "ProgressStyleModel",
          "state": {
            "_view_name": "StyleView",
            "_model_name": "ProgressStyleModel",
            "description_width": "initial",
            "_view_module": "@jupyter-widgets/base",
            "_model_module_version": "1.5.0",
            "_view_count": null,
            "_view_module_version": "1.2.0",
            "bar_color": null,
            "_model_module": "@jupyter-widgets/controls"
          }
        },
        "2a516d8d21524269a6d2305000736255": {
          "model_module": "@jupyter-widgets/base",
          "model_name": "LayoutModel",
          "state": {
            "_view_name": "LayoutView",
            "grid_template_rows": null,
            "right": null,
            "justify_content": null,
            "_view_module": "@jupyter-widgets/base",
            "overflow": null,
            "_model_module_version": "1.2.0",
            "_view_count": null,
            "flex_flow": null,
            "width": null,
            "min_width": null,
            "border": null,
            "align_items": null,
            "bottom": null,
            "_model_module": "@jupyter-widgets/base",
            "top": null,
            "grid_column": null,
            "overflow_y": null,
            "overflow_x": null,
            "grid_auto_flow": null,
            "grid_area": null,
            "grid_template_columns": null,
            "flex": null,
            "_model_name": "LayoutModel",
            "justify_items": null,
            "grid_row": null,
            "max_height": null,
            "align_content": null,
            "visibility": null,
            "align_self": null,
            "height": null,
            "min_height": null,
            "padding": null,
            "grid_auto_rows": null,
            "grid_gap": null,
            "max_width": null,
            "order": null,
            "_view_module_version": "1.2.0",
            "grid_template_areas": null,
            "object_position": null,
            "object_fit": null,
            "grid_auto_columns": null,
            "margin": null,
            "display": null,
            "left": null
          }
        },
        "710dd38e143145cd9f660ed0c21d8c95": {
          "model_module": "@jupyter-widgets/controls",
          "model_name": "DescriptionStyleModel",
          "state": {
            "_view_name": "StyleView",
            "_model_name": "DescriptionStyleModel",
            "description_width": "",
            "_view_module": "@jupyter-widgets/base",
            "_model_module_version": "1.5.0",
            "_view_count": null,
            "_view_module_version": "1.2.0",
            "_model_module": "@jupyter-widgets/controls"
          }
        },
        "d113f793100543e1ac2af52f307c9498": {
          "model_module": "@jupyter-widgets/base",
          "model_name": "LayoutModel",
          "state": {
            "_view_name": "LayoutView",
            "grid_template_rows": null,
            "right": null,
            "justify_content": null,
            "_view_module": "@jupyter-widgets/base",
            "overflow": null,
            "_model_module_version": "1.2.0",
            "_view_count": null,
            "flex_flow": null,
            "width": null,
            "min_width": null,
            "border": null,
            "align_items": null,
            "bottom": null,
            "_model_module": "@jupyter-widgets/base",
            "top": null,
            "grid_column": null,
            "overflow_y": null,
            "overflow_x": null,
            "grid_auto_flow": null,
            "grid_area": null,
            "grid_template_columns": null,
            "flex": null,
            "_model_name": "LayoutModel",
            "justify_items": null,
            "grid_row": null,
            "max_height": null,
            "align_content": null,
            "visibility": null,
            "align_self": null,
            "height": null,
            "min_height": null,
            "padding": null,
            "grid_auto_rows": null,
            "grid_gap": null,
            "max_width": null,
            "order": null,
            "_view_module_version": "1.2.0",
            "grid_template_areas": null,
            "object_position": null,
            "object_fit": null,
            "grid_auto_columns": null,
            "margin": null,
            "display": null,
            "left": null
          }
        },
        "1017dc8594c343e1b372fad0fa25173c": {
          "model_module": "@jupyter-widgets/controls",
          "model_name": "HBoxModel",
          "state": {
            "_view_name": "HBoxView",
            "_dom_classes": [],
            "_model_name": "HBoxModel",
            "_view_module": "@jupyter-widgets/controls",
            "_model_module_version": "1.5.0",
            "_view_count": null,
            "_view_module_version": "1.5.0",
            "box_style": "",
            "layout": "IPY_MODEL_9e6b93631ce84bec93aa41a8293bf282",
            "_model_module": "@jupyter-widgets/controls",
            "children": [
              "IPY_MODEL_a3487e4ac0b84812967a2364a42cc17c",
              "IPY_MODEL_b9bf176cfd0b49ed9c35a534868429ef"
            ]
          }
        },
        "9e6b93631ce84bec93aa41a8293bf282": {
          "model_module": "@jupyter-widgets/base",
          "model_name": "LayoutModel",
          "state": {
            "_view_name": "LayoutView",
            "grid_template_rows": null,
            "right": null,
            "justify_content": null,
            "_view_module": "@jupyter-widgets/base",
            "overflow": null,
            "_model_module_version": "1.2.0",
            "_view_count": null,
            "flex_flow": null,
            "width": null,
            "min_width": null,
            "border": null,
            "align_items": null,
            "bottom": null,
            "_model_module": "@jupyter-widgets/base",
            "top": null,
            "grid_column": null,
            "overflow_y": null,
            "overflow_x": null,
            "grid_auto_flow": null,
            "grid_area": null,
            "grid_template_columns": null,
            "flex": null,
            "_model_name": "LayoutModel",
            "justify_items": null,
            "grid_row": null,
            "max_height": null,
            "align_content": null,
            "visibility": null,
            "align_self": null,
            "height": null,
            "min_height": null,
            "padding": null,
            "grid_auto_rows": null,
            "grid_gap": null,
            "max_width": null,
            "order": null,
            "_view_module_version": "1.2.0",
            "grid_template_areas": null,
            "object_position": null,
            "object_fit": null,
            "grid_auto_columns": null,
            "margin": null,
            "display": null,
            "left": null
          }
        },
        "a3487e4ac0b84812967a2364a42cc17c": {
          "model_module": "@jupyter-widgets/controls",
          "model_name": "FloatProgressModel",
          "state": {
            "_view_name": "ProgressView",
            "style": "IPY_MODEL_d41671dc77174a1e96d05f2c8fd631af",
            "_dom_classes": [],
            "description": "100%",
            "_model_name": "FloatProgressModel",
            "bar_style": "success",
            "max": 1875,
            "_view_module": "@jupyter-widgets/controls",
            "_model_module_version": "1.5.0",
            "value": 1875,
            "_view_count": null,
            "_view_module_version": "1.5.0",
            "orientation": "horizontal",
            "min": 0,
            "description_tooltip": null,
            "_model_module": "@jupyter-widgets/controls",
            "layout": "IPY_MODEL_be7a6e063c134ebf8b05f02fa2c97981"
          }
        },
        "b9bf176cfd0b49ed9c35a534868429ef": {
          "model_module": "@jupyter-widgets/controls",
          "model_name": "HTMLModel",
          "state": {
            "_view_name": "HTMLView",
            "style": "IPY_MODEL_85817cb258234a9fb4a5bd6d0de1812e",
            "_dom_classes": [],
            "description": "",
            "_model_name": "HTMLModel",
            "placeholder": "​",
            "_view_module": "@jupyter-widgets/controls",
            "_model_module_version": "1.5.0",
            "value": " 1875/1875.0 [03:06&lt;00:00, 10.08it/s]",
            "_view_count": null,
            "_view_module_version": "1.5.0",
            "description_tooltip": null,
            "_model_module": "@jupyter-widgets/controls",
            "layout": "IPY_MODEL_aa83a789cc154bbe9805be3f0baddca6"
          }
        },
        "d41671dc77174a1e96d05f2c8fd631af": {
          "model_module": "@jupyter-widgets/controls",
          "model_name": "ProgressStyleModel",
          "state": {
            "_view_name": "StyleView",
            "_model_name": "ProgressStyleModel",
            "description_width": "initial",
            "_view_module": "@jupyter-widgets/base",
            "_model_module_version": "1.5.0",
            "_view_count": null,
            "_view_module_version": "1.2.0",
            "bar_color": null,
            "_model_module": "@jupyter-widgets/controls"
          }
        },
        "be7a6e063c134ebf8b05f02fa2c97981": {
          "model_module": "@jupyter-widgets/base",
          "model_name": "LayoutModel",
          "state": {
            "_view_name": "LayoutView",
            "grid_template_rows": null,
            "right": null,
            "justify_content": null,
            "_view_module": "@jupyter-widgets/base",
            "overflow": null,
            "_model_module_version": "1.2.0",
            "_view_count": null,
            "flex_flow": null,
            "width": null,
            "min_width": null,
            "border": null,
            "align_items": null,
            "bottom": null,
            "_model_module": "@jupyter-widgets/base",
            "top": null,
            "grid_column": null,
            "overflow_y": null,
            "overflow_x": null,
            "grid_auto_flow": null,
            "grid_area": null,
            "grid_template_columns": null,
            "flex": null,
            "_model_name": "LayoutModel",
            "justify_items": null,
            "grid_row": null,
            "max_height": null,
            "align_content": null,
            "visibility": null,
            "align_self": null,
            "height": null,
            "min_height": null,
            "padding": null,
            "grid_auto_rows": null,
            "grid_gap": null,
            "max_width": null,
            "order": null,
            "_view_module_version": "1.2.0",
            "grid_template_areas": null,
            "object_position": null,
            "object_fit": null,
            "grid_auto_columns": null,
            "margin": null,
            "display": null,
            "left": null
          }
        },
        "85817cb258234a9fb4a5bd6d0de1812e": {
          "model_module": "@jupyter-widgets/controls",
          "model_name": "DescriptionStyleModel",
          "state": {
            "_view_name": "StyleView",
            "_model_name": "DescriptionStyleModel",
            "description_width": "",
            "_view_module": "@jupyter-widgets/base",
            "_model_module_version": "1.5.0",
            "_view_count": null,
            "_view_module_version": "1.2.0",
            "_model_module": "@jupyter-widgets/controls"
          }
        },
        "aa83a789cc154bbe9805be3f0baddca6": {
          "model_module": "@jupyter-widgets/base",
          "model_name": "LayoutModel",
          "state": {
            "_view_name": "LayoutView",
            "grid_template_rows": null,
            "right": null,
            "justify_content": null,
            "_view_module": "@jupyter-widgets/base",
            "overflow": null,
            "_model_module_version": "1.2.0",
            "_view_count": null,
            "flex_flow": null,
            "width": null,
            "min_width": null,
            "border": null,
            "align_items": null,
            "bottom": null,
            "_model_module": "@jupyter-widgets/base",
            "top": null,
            "grid_column": null,
            "overflow_y": null,
            "overflow_x": null,
            "grid_auto_flow": null,
            "grid_area": null,
            "grid_template_columns": null,
            "flex": null,
            "_model_name": "LayoutModel",
            "justify_items": null,
            "grid_row": null,
            "max_height": null,
            "align_content": null,
            "visibility": null,
            "align_self": null,
            "height": null,
            "min_height": null,
            "padding": null,
            "grid_auto_rows": null,
            "grid_gap": null,
            "max_width": null,
            "order": null,
            "_view_module_version": "1.2.0",
            "grid_template_areas": null,
            "object_position": null,
            "object_fit": null,
            "grid_auto_columns": null,
            "margin": null,
            "display": null,
            "left": null
          }
        },
        "b204834ad0084a15b4c3ae809e2959d5": {
          "model_module": "@jupyter-widgets/controls",
          "model_name": "HBoxModel",
          "state": {
            "_view_name": "HBoxView",
            "_dom_classes": [],
            "_model_name": "HBoxModel",
            "_view_module": "@jupyter-widgets/controls",
            "_model_module_version": "1.5.0",
            "_view_count": null,
            "_view_module_version": "1.5.0",
            "box_style": "",
            "layout": "IPY_MODEL_ad9fe76bcb7b4ac19772adbb239b0741",
            "_model_module": "@jupyter-widgets/controls",
            "children": [
              "IPY_MODEL_bece7d8a8ea341bfb9367d4e49950b22",
              "IPY_MODEL_1351b32cc19d427094b19ee96ac57006"
            ]
          }
        },
        "ad9fe76bcb7b4ac19772adbb239b0741": {
          "model_module": "@jupyter-widgets/base",
          "model_name": "LayoutModel",
          "state": {
            "_view_name": "LayoutView",
            "grid_template_rows": null,
            "right": null,
            "justify_content": null,
            "_view_module": "@jupyter-widgets/base",
            "overflow": null,
            "_model_module_version": "1.2.0",
            "_view_count": null,
            "flex_flow": null,
            "width": null,
            "min_width": null,
            "border": null,
            "align_items": null,
            "bottom": null,
            "_model_module": "@jupyter-widgets/base",
            "top": null,
            "grid_column": null,
            "overflow_y": null,
            "overflow_x": null,
            "grid_auto_flow": null,
            "grid_area": null,
            "grid_template_columns": null,
            "flex": null,
            "_model_name": "LayoutModel",
            "justify_items": null,
            "grid_row": null,
            "max_height": null,
            "align_content": null,
            "visibility": null,
            "align_self": null,
            "height": null,
            "min_height": null,
            "padding": null,
            "grid_auto_rows": null,
            "grid_gap": null,
            "max_width": null,
            "order": null,
            "_view_module_version": "1.2.0",
            "grid_template_areas": null,
            "object_position": null,
            "object_fit": null,
            "grid_auto_columns": null,
            "margin": null,
            "display": null,
            "left": null
          }
        },
        "bece7d8a8ea341bfb9367d4e49950b22": {
          "model_module": "@jupyter-widgets/controls",
          "model_name": "FloatProgressModel",
          "state": {
            "_view_name": "ProgressView",
            "style": "IPY_MODEL_d038bab9f8214aa782b0407de3cbda4c",
            "_dom_classes": [],
            "description": "",
            "_model_name": "FloatProgressModel",
            "bar_style": "success",
            "max": 312.5,
            "_view_module": "@jupyter-widgets/controls",
            "_model_module_version": "1.5.0",
            "value": 312.5,
            "_view_count": null,
            "_view_module_version": "1.5.0",
            "orientation": "horizontal",
            "min": 0,
            "description_tooltip": null,
            "_model_module": "@jupyter-widgets/controls",
            "layout": "IPY_MODEL_8afeeb55047e4a6486e4bd5946cb2da9"
          }
        },
        "1351b32cc19d427094b19ee96ac57006": {
          "model_module": "@jupyter-widgets/controls",
          "model_name": "HTMLModel",
          "state": {
            "_view_name": "HTMLView",
            "style": "IPY_MODEL_0d5a3a5e569c4047bc6c03a275261ab4",
            "_dom_classes": [],
            "description": "",
            "_model_name": "HTMLModel",
            "placeholder": "​",
            "_view_module": "@jupyter-widgets/controls",
            "_model_module_version": "1.5.0",
            "value": " 313/? [02:51&lt;00:00,  1.82it/s]",
            "_view_count": null,
            "_view_module_version": "1.5.0",
            "description_tooltip": null,
            "_model_module": "@jupyter-widgets/controls",
            "layout": "IPY_MODEL_5c5a537185ca436da0842f51c1ac18d8"
          }
        },
        "d038bab9f8214aa782b0407de3cbda4c": {
          "model_module": "@jupyter-widgets/controls",
          "model_name": "ProgressStyleModel",
          "state": {
            "_view_name": "StyleView",
            "_model_name": "ProgressStyleModel",
            "description_width": "initial",
            "_view_module": "@jupyter-widgets/base",
            "_model_module_version": "1.5.0",
            "_view_count": null,
            "_view_module_version": "1.2.0",
            "bar_color": null,
            "_model_module": "@jupyter-widgets/controls"
          }
        },
        "8afeeb55047e4a6486e4bd5946cb2da9": {
          "model_module": "@jupyter-widgets/base",
          "model_name": "LayoutModel",
          "state": {
            "_view_name": "LayoutView",
            "grid_template_rows": null,
            "right": null,
            "justify_content": null,
            "_view_module": "@jupyter-widgets/base",
            "overflow": null,
            "_model_module_version": "1.2.0",
            "_view_count": null,
            "flex_flow": null,
            "width": null,
            "min_width": null,
            "border": null,
            "align_items": null,
            "bottom": null,
            "_model_module": "@jupyter-widgets/base",
            "top": null,
            "grid_column": null,
            "overflow_y": null,
            "overflow_x": null,
            "grid_auto_flow": null,
            "grid_area": null,
            "grid_template_columns": null,
            "flex": null,
            "_model_name": "LayoutModel",
            "justify_items": null,
            "grid_row": null,
            "max_height": null,
            "align_content": null,
            "visibility": null,
            "align_self": null,
            "height": null,
            "min_height": null,
            "padding": null,
            "grid_auto_rows": null,
            "grid_gap": null,
            "max_width": null,
            "order": null,
            "_view_module_version": "1.2.0",
            "grid_template_areas": null,
            "object_position": null,
            "object_fit": null,
            "grid_auto_columns": null,
            "margin": null,
            "display": null,
            "left": null
          }
        },
        "0d5a3a5e569c4047bc6c03a275261ab4": {
          "model_module": "@jupyter-widgets/controls",
          "model_name": "DescriptionStyleModel",
          "state": {
            "_view_name": "StyleView",
            "_model_name": "DescriptionStyleModel",
            "description_width": "",
            "_view_module": "@jupyter-widgets/base",
            "_model_module_version": "1.5.0",
            "_view_count": null,
            "_view_module_version": "1.2.0",
            "_model_module": "@jupyter-widgets/controls"
          }
        },
        "5c5a537185ca436da0842f51c1ac18d8": {
          "model_module": "@jupyter-widgets/base",
          "model_name": "LayoutModel",
          "state": {
            "_view_name": "LayoutView",
            "grid_template_rows": null,
            "right": null,
            "justify_content": null,
            "_view_module": "@jupyter-widgets/base",
            "overflow": null,
            "_model_module_version": "1.2.0",
            "_view_count": null,
            "flex_flow": null,
            "width": null,
            "min_width": null,
            "border": null,
            "align_items": null,
            "bottom": null,
            "_model_module": "@jupyter-widgets/base",
            "top": null,
            "grid_column": null,
            "overflow_y": null,
            "overflow_x": null,
            "grid_auto_flow": null,
            "grid_area": null,
            "grid_template_columns": null,
            "flex": null,
            "_model_name": "LayoutModel",
            "justify_items": null,
            "grid_row": null,
            "max_height": null,
            "align_content": null,
            "visibility": null,
            "align_self": null,
            "height": null,
            "min_height": null,
            "padding": null,
            "grid_auto_rows": null,
            "grid_gap": null,
            "max_width": null,
            "order": null,
            "_view_module_version": "1.2.0",
            "grid_template_areas": null,
            "object_position": null,
            "object_fit": null,
            "grid_auto_columns": null,
            "margin": null,
            "display": null,
            "left": null
          }
        },
        "7eb50729827e4e7ea5749a8ab9fd207f": {
          "model_module": "@jupyter-widgets/controls",
          "model_name": "HBoxModel",
          "state": {
            "_view_name": "HBoxView",
            "_dom_classes": [],
            "_model_name": "HBoxModel",
            "_view_module": "@jupyter-widgets/controls",
            "_model_module_version": "1.5.0",
            "_view_count": null,
            "_view_module_version": "1.5.0",
            "box_style": "",
            "layout": "IPY_MODEL_56e47ac5a7494f95b2efd5b29f2c8514",
            "_model_module": "@jupyter-widgets/controls",
            "children": [
              "IPY_MODEL_97551bb91493497098274881d37e75a5",
              "IPY_MODEL_3e5265ae78e64e19a05bf6ad7cf8e2c6"
            ]
          }
        },
        "56e47ac5a7494f95b2efd5b29f2c8514": {
          "model_module": "@jupyter-widgets/base",
          "model_name": "LayoutModel",
          "state": {
            "_view_name": "LayoutView",
            "grid_template_rows": null,
            "right": null,
            "justify_content": null,
            "_view_module": "@jupyter-widgets/base",
            "overflow": null,
            "_model_module_version": "1.2.0",
            "_view_count": null,
            "flex_flow": null,
            "width": null,
            "min_width": null,
            "border": null,
            "align_items": null,
            "bottom": null,
            "_model_module": "@jupyter-widgets/base",
            "top": null,
            "grid_column": null,
            "overflow_y": null,
            "overflow_x": null,
            "grid_auto_flow": null,
            "grid_area": null,
            "grid_template_columns": null,
            "flex": null,
            "_model_name": "LayoutModel",
            "justify_items": null,
            "grid_row": null,
            "max_height": null,
            "align_content": null,
            "visibility": null,
            "align_self": null,
            "height": null,
            "min_height": null,
            "padding": null,
            "grid_auto_rows": null,
            "grid_gap": null,
            "max_width": null,
            "order": null,
            "_view_module_version": "1.2.0",
            "grid_template_areas": null,
            "object_position": null,
            "object_fit": null,
            "grid_auto_columns": null,
            "margin": null,
            "display": null,
            "left": null
          }
        },
        "97551bb91493497098274881d37e75a5": {
          "model_module": "@jupyter-widgets/controls",
          "model_name": "FloatProgressModel",
          "state": {
            "_view_name": "ProgressView",
            "style": "IPY_MODEL_87aa76ae74344a1fa421cd9e71f23ea3",
            "_dom_classes": [],
            "description": "100%",
            "_model_name": "FloatProgressModel",
            "bar_style": "success",
            "max": 1875,
            "_view_module": "@jupyter-widgets/controls",
            "_model_module_version": "1.5.0",
            "value": 1875,
            "_view_count": null,
            "_view_module_version": "1.5.0",
            "orientation": "horizontal",
            "min": 0,
            "description_tooltip": null,
            "_model_module": "@jupyter-widgets/controls",
            "layout": "IPY_MODEL_026db9e35e754f60ac7e06d1210fad2b"
          }
        },
        "3e5265ae78e64e19a05bf6ad7cf8e2c6": {
          "model_module": "@jupyter-widgets/controls",
          "model_name": "HTMLModel",
          "state": {
            "_view_name": "HTMLView",
            "style": "IPY_MODEL_ce63efb50f7344549c64992395fa2b9e",
            "_dom_classes": [],
            "description": "",
            "_model_name": "HTMLModel",
            "placeholder": "​",
            "_view_module": "@jupyter-widgets/controls",
            "_model_module_version": "1.5.0",
            "value": " 1875/1875.0 [00:14&lt;00:00, 132.55it/s]",
            "_view_count": null,
            "_view_module_version": "1.5.0",
            "description_tooltip": null,
            "_model_module": "@jupyter-widgets/controls",
            "layout": "IPY_MODEL_bd1f2e26e3824416a511251cc4a7fa01"
          }
        },
        "87aa76ae74344a1fa421cd9e71f23ea3": {
          "model_module": "@jupyter-widgets/controls",
          "model_name": "ProgressStyleModel",
          "state": {
            "_view_name": "StyleView",
            "_model_name": "ProgressStyleModel",
            "description_width": "initial",
            "_view_module": "@jupyter-widgets/base",
            "_model_module_version": "1.5.0",
            "_view_count": null,
            "_view_module_version": "1.2.0",
            "bar_color": null,
            "_model_module": "@jupyter-widgets/controls"
          }
        },
        "026db9e35e754f60ac7e06d1210fad2b": {
          "model_module": "@jupyter-widgets/base",
          "model_name": "LayoutModel",
          "state": {
            "_view_name": "LayoutView",
            "grid_template_rows": null,
            "right": null,
            "justify_content": null,
            "_view_module": "@jupyter-widgets/base",
            "overflow": null,
            "_model_module_version": "1.2.0",
            "_view_count": null,
            "flex_flow": null,
            "width": null,
            "min_width": null,
            "border": null,
            "align_items": null,
            "bottom": null,
            "_model_module": "@jupyter-widgets/base",
            "top": null,
            "grid_column": null,
            "overflow_y": null,
            "overflow_x": null,
            "grid_auto_flow": null,
            "grid_area": null,
            "grid_template_columns": null,
            "flex": null,
            "_model_name": "LayoutModel",
            "justify_items": null,
            "grid_row": null,
            "max_height": null,
            "align_content": null,
            "visibility": null,
            "align_self": null,
            "height": null,
            "min_height": null,
            "padding": null,
            "grid_auto_rows": null,
            "grid_gap": null,
            "max_width": null,
            "order": null,
            "_view_module_version": "1.2.0",
            "grid_template_areas": null,
            "object_position": null,
            "object_fit": null,
            "grid_auto_columns": null,
            "margin": null,
            "display": null,
            "left": null
          }
        },
        "ce63efb50f7344549c64992395fa2b9e": {
          "model_module": "@jupyter-widgets/controls",
          "model_name": "DescriptionStyleModel",
          "state": {
            "_view_name": "StyleView",
            "_model_name": "DescriptionStyleModel",
            "description_width": "",
            "_view_module": "@jupyter-widgets/base",
            "_model_module_version": "1.5.0",
            "_view_count": null,
            "_view_module_version": "1.2.0",
            "_model_module": "@jupyter-widgets/controls"
          }
        },
        "bd1f2e26e3824416a511251cc4a7fa01": {
          "model_module": "@jupyter-widgets/base",
          "model_name": "LayoutModel",
          "state": {
            "_view_name": "LayoutView",
            "grid_template_rows": null,
            "right": null,
            "justify_content": null,
            "_view_module": "@jupyter-widgets/base",
            "overflow": null,
            "_model_module_version": "1.2.0",
            "_view_count": null,
            "flex_flow": null,
            "width": null,
            "min_width": null,
            "border": null,
            "align_items": null,
            "bottom": null,
            "_model_module": "@jupyter-widgets/base",
            "top": null,
            "grid_column": null,
            "overflow_y": null,
            "overflow_x": null,
            "grid_auto_flow": null,
            "grid_area": null,
            "grid_template_columns": null,
            "flex": null,
            "_model_name": "LayoutModel",
            "justify_items": null,
            "grid_row": null,
            "max_height": null,
            "align_content": null,
            "visibility": null,
            "align_self": null,
            "height": null,
            "min_height": null,
            "padding": null,
            "grid_auto_rows": null,
            "grid_gap": null,
            "max_width": null,
            "order": null,
            "_view_module_version": "1.2.0",
            "grid_template_areas": null,
            "object_position": null,
            "object_fit": null,
            "grid_auto_columns": null,
            "margin": null,
            "display": null,
            "left": null
          }
        },
        "62711c4f3ef74d02a80181ecdfb3d59c": {
          "model_module": "@jupyter-widgets/controls",
          "model_name": "HBoxModel",
          "state": {
            "_view_name": "HBoxView",
            "_dom_classes": [],
            "_model_name": "HBoxModel",
            "_view_module": "@jupyter-widgets/controls",
            "_model_module_version": "1.5.0",
            "_view_count": null,
            "_view_module_version": "1.5.0",
            "box_style": "",
            "layout": "IPY_MODEL_593dfee986d2418a8e893b1b21f82896",
            "_model_module": "@jupyter-widgets/controls",
            "children": [
              "IPY_MODEL_8d2d59d8566e4fe291b713249fc8fc48",
              "IPY_MODEL_2c5ba440f1e3479a90cbcfd7b7be0441"
            ]
          }
        },
        "593dfee986d2418a8e893b1b21f82896": {
          "model_module": "@jupyter-widgets/base",
          "model_name": "LayoutModel",
          "state": {
            "_view_name": "LayoutView",
            "grid_template_rows": null,
            "right": null,
            "justify_content": null,
            "_view_module": "@jupyter-widgets/base",
            "overflow": null,
            "_model_module_version": "1.2.0",
            "_view_count": null,
            "flex_flow": null,
            "width": null,
            "min_width": null,
            "border": null,
            "align_items": null,
            "bottom": null,
            "_model_module": "@jupyter-widgets/base",
            "top": null,
            "grid_column": null,
            "overflow_y": null,
            "overflow_x": null,
            "grid_auto_flow": null,
            "grid_area": null,
            "grid_template_columns": null,
            "flex": null,
            "_model_name": "LayoutModel",
            "justify_items": null,
            "grid_row": null,
            "max_height": null,
            "align_content": null,
            "visibility": null,
            "align_self": null,
            "height": null,
            "min_height": null,
            "padding": null,
            "grid_auto_rows": null,
            "grid_gap": null,
            "max_width": null,
            "order": null,
            "_view_module_version": "1.2.0",
            "grid_template_areas": null,
            "object_position": null,
            "object_fit": null,
            "grid_auto_columns": null,
            "margin": null,
            "display": null,
            "left": null
          }
        },
        "8d2d59d8566e4fe291b713249fc8fc48": {
          "model_module": "@jupyter-widgets/controls",
          "model_name": "FloatProgressModel",
          "state": {
            "_view_name": "ProgressView",
            "style": "IPY_MODEL_11b3323590cb4e38a7349b93bdab5f9c",
            "_dom_classes": [],
            "description": "",
            "_model_name": "FloatProgressModel",
            "bar_style": "success",
            "max": 312.5,
            "_view_module": "@jupyter-widgets/controls",
            "_model_module_version": "1.5.0",
            "value": 312.5,
            "_view_count": null,
            "_view_module_version": "1.5.0",
            "orientation": "horizontal",
            "min": 0,
            "description_tooltip": null,
            "_model_module": "@jupyter-widgets/controls",
            "layout": "IPY_MODEL_22f0f02b3ff5483392a6f35dc8298b57"
          }
        },
        "2c5ba440f1e3479a90cbcfd7b7be0441": {
          "model_module": "@jupyter-widgets/controls",
          "model_name": "HTMLModel",
          "state": {
            "_view_name": "HTMLView",
            "style": "IPY_MODEL_17a29568695c4dea9adb2e2464a4ff83",
            "_dom_classes": [],
            "description": "",
            "_model_name": "HTMLModel",
            "placeholder": "​",
            "_view_module": "@jupyter-widgets/controls",
            "_model_module_version": "1.5.0",
            "value": " 313/? [01:30&lt;00:00,  3.47it/s]",
            "_view_count": null,
            "_view_module_version": "1.5.0",
            "description_tooltip": null,
            "_model_module": "@jupyter-widgets/controls",
            "layout": "IPY_MODEL_2f4078ea99244cc29d0727a1473438eb"
          }
        },
        "11b3323590cb4e38a7349b93bdab5f9c": {
          "model_module": "@jupyter-widgets/controls",
          "model_name": "ProgressStyleModel",
          "state": {
            "_view_name": "StyleView",
            "_model_name": "ProgressStyleModel",
            "description_width": "initial",
            "_view_module": "@jupyter-widgets/base",
            "_model_module_version": "1.5.0",
            "_view_count": null,
            "_view_module_version": "1.2.0",
            "bar_color": null,
            "_model_module": "@jupyter-widgets/controls"
          }
        },
        "22f0f02b3ff5483392a6f35dc8298b57": {
          "model_module": "@jupyter-widgets/base",
          "model_name": "LayoutModel",
          "state": {
            "_view_name": "LayoutView",
            "grid_template_rows": null,
            "right": null,
            "justify_content": null,
            "_view_module": "@jupyter-widgets/base",
            "overflow": null,
            "_model_module_version": "1.2.0",
            "_view_count": null,
            "flex_flow": null,
            "width": null,
            "min_width": null,
            "border": null,
            "align_items": null,
            "bottom": null,
            "_model_module": "@jupyter-widgets/base",
            "top": null,
            "grid_column": null,
            "overflow_y": null,
            "overflow_x": null,
            "grid_auto_flow": null,
            "grid_area": null,
            "grid_template_columns": null,
            "flex": null,
            "_model_name": "LayoutModel",
            "justify_items": null,
            "grid_row": null,
            "max_height": null,
            "align_content": null,
            "visibility": null,
            "align_self": null,
            "height": null,
            "min_height": null,
            "padding": null,
            "grid_auto_rows": null,
            "grid_gap": null,
            "max_width": null,
            "order": null,
            "_view_module_version": "1.2.0",
            "grid_template_areas": null,
            "object_position": null,
            "object_fit": null,
            "grid_auto_columns": null,
            "margin": null,
            "display": null,
            "left": null
          }
        },
        "17a29568695c4dea9adb2e2464a4ff83": {
          "model_module": "@jupyter-widgets/controls",
          "model_name": "DescriptionStyleModel",
          "state": {
            "_view_name": "StyleView",
            "_model_name": "DescriptionStyleModel",
            "description_width": "",
            "_view_module": "@jupyter-widgets/base",
            "_model_module_version": "1.5.0",
            "_view_count": null,
            "_view_module_version": "1.2.0",
            "_model_module": "@jupyter-widgets/controls"
          }
        },
        "2f4078ea99244cc29d0727a1473438eb": {
          "model_module": "@jupyter-widgets/base",
          "model_name": "LayoutModel",
          "state": {
            "_view_name": "LayoutView",
            "grid_template_rows": null,
            "right": null,
            "justify_content": null,
            "_view_module": "@jupyter-widgets/base",
            "overflow": null,
            "_model_module_version": "1.2.0",
            "_view_count": null,
            "flex_flow": null,
            "width": null,
            "min_width": null,
            "border": null,
            "align_items": null,
            "bottom": null,
            "_model_module": "@jupyter-widgets/base",
            "top": null,
            "grid_column": null,
            "overflow_y": null,
            "overflow_x": null,
            "grid_auto_flow": null,
            "grid_area": null,
            "grid_template_columns": null,
            "flex": null,
            "_model_name": "LayoutModel",
            "justify_items": null,
            "grid_row": null,
            "max_height": null,
            "align_content": null,
            "visibility": null,
            "align_self": null,
            "height": null,
            "min_height": null,
            "padding": null,
            "grid_auto_rows": null,
            "grid_gap": null,
            "max_width": null,
            "order": null,
            "_view_module_version": "1.2.0",
            "grid_template_areas": null,
            "object_position": null,
            "object_fit": null,
            "grid_auto_columns": null,
            "margin": null,
            "display": null,
            "left": null
          }
        }
      }
    }
  },
  "cells": [
    {
      "cell_type": "markdown",
      "metadata": {
        "id": "view-in-github",
        "colab_type": "text"
      },
      "source": [
        "<a href=\"https://colab.research.google.com/github/DL-ECE/tp2-deeplearningonimages-Adrien863/blob/master/convolution.ipynb\" target=\"_parent\"><img src=\"https://colab.research.google.com/assets/colab-badge.svg\" alt=\"Open In Colab\"/></a>"
      ]
    },
    {
      "cell_type": "markdown",
      "metadata": {
        "id": "NeT-9bRdonUj"
      },
      "source": [
        "# TP-2 Deep Learning on Images"
      ]
    },
    {
      "cell_type": "markdown",
      "metadata": {
        "id": "Ll9cmbS4QIjW"
      },
      "source": [
        "## Clothes images classification using Fashion-MNIST dataset\n",
        "\n",
        "In this notebook you will train your second and even third neural network. \n",
        "\n",
        "Feel free to look back at the Lecture-2 slides to complete the cells below.\n",
        "\n",
        "\n",
        "\n",
        "All the dependencies are installed. Below we import them and will be using them in all our notebooks.\n",
        "Please feel free to look arround and look at their API.\n",
        "The student should be limited to these imports to complete this work.\n"
      ]
    },
    {
      "cell_type": "code",
      "metadata": {
        "id": "l8HwsnlpWABC"
      },
      "source": [
        "# Import the different module we will need in this notebook\n",
        "import os\n",
        "\n",
        "# To read and compute on Images: imageio [imageio doc](https://imageio.readthedocs.io/en/stable/)\n",
        "# To create some plot and figures: matplolib [matplotlib doc](https://matplotlib.org/)\n",
        "# To do computation on matrix and vectors: numpy [numpy doc](https://numpy.org/)\n",
        "import imageio\n",
        "import matplotlib.pyplot as plt\n",
        "import numpy as np\n",
        "\n",
        "# To do computation on matrix and vectors and automatic differenciation: pytorch [torch doc](https://pytorch.org/docs/stable/index.html)\n",
        "import torch\n",
        "import torch.nn as nn\n",
        "import torch.optim as optim\n",
        "from torch.nn import functional as F\n",
        "from torch.utils.data import DataLoader\n",
        "\n",
        "# To do some computation on images with pytorch direclty on the GPU [torchvision doc](https://pytorch.org/vision)\n",
        "from torchvision import transforms\n",
        "from torchvision.datasets import MNIST, FashionMNIST\n",
        "import random\n",
        "import tqdm.notebook as tq\n",
        "\n",
        "# To get the same data as TP1 \n",
        "from sklearn.datasets import fetch_openml\n",
        "from sklearn.model_selection import train_test_split\n",
        "# enable tpu computation\n",
        "# !curl https://raw.githubusercontent.com/pytorch/xla/master/contrib/scripts/env-setup.py -o pytorch-xla-env-setup.py\n",
        "# !python pytorch-xla-env-setup.py --version nightly --apt-packages libomp5 libopenblas-dev"
      ],
      "execution_count": 1,
      "outputs": []
    },
    {
      "cell_type": "code",
      "metadata": {
        "id": "O6hnJJcPSJcu"
      },
      "source": [
        "# In order to have some reproducable results and easier debugging \n",
        "# we fix the seed of random.\n",
        "random.seed(1342)\n",
        "np.random.seed(1342)\n",
        "torch.manual_seed(1342)\n",
        "torch.cuda.manual_seed_all(1342)\n",
        "\n",
        "import builtins as __builtin__\n",
        "def print(*args, **kwargs):\n",
        "    \"\"\"My custom print() function.\"\"\"\n",
        "    return __builtin__.print(*args, **kwargs, end='\\n\\n')"
      ],
      "execution_count": 2,
      "outputs": []
    },
    {
      "cell_type": "markdown",
      "metadata": {
        "id": "R2JALA0rnGE1"
      },
      "source": [
        "## Refresh on numpy and images"
      ]
    },
    {
      "cell_type": "code",
      "metadata": {
        "id": "a_6UGR8EUgqi"
      },
      "source": [
        "# Let's do again basics of numpy \n",
        "mat_numpy = np.arange(15).reshape(3, 5)\n",
        "print(mat_numpy) # Create a vector from 0 to 14 and reshape it into a Matrix 3X5\n",
        "\n",
        "print(mat_numpy.shape) # Return the size of the matrix (3, 5)\n",
        "\n",
        "print(mat_numpy[0]) # Return the first row of the matrix \n",
        "\n",
        "print(mat_numpy[0,3]) # Return first row and 4th column  element \n",
        "\n",
        "# Also interesting with higher dimension \n",
        "# Below can be though of 2 3X4 matrix \n",
        "tensor = np.zeros((2,3,4))   # Create an tensor of shape [2,2,2] of all zeros\n",
        "print(tensor)                # Prints [[[0. 0. 0. 0.]\n",
        "                             #          [0. 0. 0. 0.]\n",
        "                             #          [0. 0. 0. 0.]]\n",
        "                             #        [[0. 0. 0. 0.]\n",
        "                             #         [0. 0. 0. 0.]\n",
        "                             #         [0. 0. 0. 0.]]]"
      ],
      "execution_count": null,
      "outputs": []
    },
    {
      "cell_type": "markdown",
      "metadata": {
        "id": "RHj2OBNMw5VA"
      },
      "source": [
        "Now it's your turn create a function that return a tensor of shape \n",
        "n_rowsxn_columsxn_channels that contains a default value every where"
      ]
    },
    {
      "cell_type": "code",
      "metadata": {
        "id": "WR0fNMzPwtem"
      },
      "source": [
        "def build_image_like_tensor(n_rows:int, n_colums: int, n_channels:int, default_value: int)-> np.ndarray:\n",
        "  \"\"\"Create a tensor of 3 dimension. \n",
        "     It should have a shape similar to (n_rows, n_colums, n_channels)\n",
        "     It should be containing the default value set by default_value\n",
        "  \"\"\"\n",
        "  # YOUR CODE HERE\n",
        "  return np.ones((n_rows,n_colums,n_channels),dtype=np.int64)*default_value"
      ],
      "execution_count": 4,
      "outputs": []
    },
    {
      "cell_type": "code",
      "metadata": {
        "id": "LYPMAOSdxi8S"
      },
      "source": [
        "# Create 3 different tensors with the above function containing different value between [0,255]\n",
        "# Uncomment the 3 line below and complete with your answer \n",
        "\n",
        "white_like = build_image_like_tensor(1,1,3,255)\n",
        "gray_like = build_image_like_tensor(1,1,3,128)\n",
        "black_like = build_image_like_tensor(1,1,3,0)\n"
      ],
      "execution_count": 5,
      "outputs": []
    },
    {
      "cell_type": "code",
      "metadata": {
        "id": "wI1sR5lWyTvG"
      },
      "source": [
        "# Each of the tensor that you have created can be seen as an image. Use here is the way to display it using matplotlib imshow:\n",
        "def plot_one_tensor(image_tensor: np.array):\n",
        "    \"\"\"Function to plot the image tensor\"\"\"\n",
        "    plt.imshow(image_tensor, cmap='gray')"
      ],
      "execution_count": 6,
      "outputs": []
    },
    {
      "cell_type": "code",
      "metadata": {
        "id": "RMKHtF-FnGFP",
        "outputId": "fe281ca5-14ac-40dd-99fd-faa9b614cfc2",
        "colab": {
          "base_uri": "https://localhost:8080/",
          "height": 265
        }
      },
      "source": [
        "plot_one_tensor(white_like)"
      ],
      "execution_count": 7,
      "outputs": [
        {
          "output_type": "display_data",
          "data": {
            "image/png": "[encoded data removed]",
            "text/plain": [
              "<Figure size 432x288 with 1 Axes>"
            ]
          },
          "metadata": {
            "tags": [],
            "needs_background": "light"
          }
        }
      ]
    },
    {
      "cell_type": "code",
      "metadata": {
        "id": "v8nnjpziXJyo",
        "outputId": "bf57faa3-6305-48d6-9230-c4d19a45bd95",
        "colab": {
          "base_uri": "https://localhost:8080/",
          "height": 265
        }
      },
      "source": [
        "plot_one_tensor(gray_like)"
      ],
      "execution_count": 8,
      "outputs": [
        {
          "output_type": "display_data",
          "data": {
            "image/png": "[encoded data removed]",
            "text/plain": [
              "<Figure size 432x288 with 1 Axes>"
            ]
          },
          "metadata": {
            "tags": [],
            "needs_background": "light"
          }
        }
      ]
    },
    {
      "cell_type": "code",
      "metadata": {
        "id": "nJ6-IuvlnGFW",
        "outputId": "e504cb44-abb6-43ec-eb6d-0ce8c835baf1",
        "colab": {
          "base_uri": "https://localhost:8080/",
          "height": 265
        }
      },
      "source": [
        "plot_one_tensor(black_like)"
      ],
      "execution_count": 9,
      "outputs": [
        {
          "output_type": "display_data",
          "data": {
            "image/png": "[encoded data removed]",
            "text/plain": [
              "<Figure size 432x288 with 1 Axes>"
            ]
          },
          "metadata": {
            "tags": [],
            "needs_background": "light"
          }
        }
      ]
    },
    {
      "cell_type": "markdown",
      "metadata": {
        "id": "ncTl3AjcnGFb"
      },
      "source": [
        "We saw that an digital image is the combination of a 3 channel tensor RGB. \n",
        "Each channel represent respectively the R red componant, G greed componant, B blue componant. "
      ]
    },
    {
      "cell_type": "code",
      "metadata": {
        "id": "hUtptCwanGFc"
      },
      "source": [
        "# Create again 3 image tensors with your function\n",
        "# Then change them to be representing a red, a green, a blue image\n",
        "# Uncomment the 3 line below and complete with your answer \n",
        "\n",
        "\n",
        "red_like = build_image_like_tensor(1,1,3,0)\n",
        "red_like[:,:,0] = 255\n",
        "green_like = build_image_like_tensor(1,1,3,0)\n",
        "green_like[:,:,1] = 255\n",
        "blue_like = build_image_like_tensor(1,1,3,0)\n",
        "blue_like[:,:,2] = 255\n",
        " "
      ],
      "execution_count": 10,
      "outputs": []
    },
    {
      "cell_type": "code",
      "metadata": {
        "id": "-jXLgMmfnGFh",
        "outputId": "89b273f6-c405-4db6-8138-fcb52e839d0e",
        "colab": {
          "base_uri": "https://localhost:8080/",
          "height": 265
        }
      },
      "source": [
        "plot_one_tensor(red_like)"
      ],
      "execution_count": 11,
      "outputs": [
        {
          "output_type": "display_data",
          "data": {
            "image/png": "[encoded data removed]",
            "text/plain": [
              "<Figure size 432x288 with 1 Axes>"
            ]
          },
          "metadata": {
            "tags": [],
            "needs_background": "light"
          }
        }
      ]
    },
    {
      "cell_type": "code",
      "metadata": {
        "id": "DL0iMGb6nGFl",
        "outputId": "dd39d212-bdab-470e-f474-54058a634e24",
        "colab": {
          "base_uri": "https://localhost:8080/",
          "height": 265
        }
      },
      "source": [
        "plot_one_tensor(green_like)"
      ],
      "execution_count": 12,
      "outputs": [
        {
          "output_type": "display_data",
          "data": {
            "image/png": "[encoded data removed]",
            "text/plain": [
              "<Figure size 432x288 with 1 Axes>"
            ]
          },
          "metadata": {
            "tags": [],
            "needs_background": "light"
          }
        }
      ]
    },
    {
      "cell_type": "code",
      "metadata": {
        "id": "iOtqQNcCnGFp",
        "outputId": "b35e4d21-ab3b-45b1-cf96-63f9fa165aa6",
        "colab": {
          "base_uri": "https://localhost:8080/",
          "height": 265
        }
      },
      "source": [
        "plot_one_tensor(blue_like)"
      ],
      "execution_count": 13,
      "outputs": [
        {
          "output_type": "display_data",
          "data": {
            "image/png": "[encoded data removed]",
            "text/plain": [
              "<Figure size 432x288 with 1 Axes>"
            ]
          },
          "metadata": {
            "tags": [],
            "needs_background": "light"
          }
        }
      ]
    },
    {
      "cell_type": "markdown",
      "metadata": {
        "id": "q7Ucg7xRQDwn"
      },
      "source": [
        "## What Pytorch can do\n",
        "\n",
        "*   Similar functions to Numpy on GPU\n",
        "*   Calculate automatically gradient on the neural network\n",
        "*   Some neural networks layers are already coded : dense, convolution, pooling, etc\n",
        "*   Calculate automatically the weights update\n",
        "*   Provide optimizer to compute gradient descent \n",
        "\n"
      ]
    },
    {
      "cell_type": "code",
      "metadata": {
        "id": "UjeKBFJHXYl8",
        "outputId": "97f3d472-e3e3-42c0-e4e4-c00a51716769",
        "colab": {
          "base_uri": "https://localhost:8080/"
        }
      },
      "source": [
        "mat_torch = torch.arange(15).reshape(3,5)\n",
        "\n",
        "print(mat_torch) # Create a vector from 0 to 14 and reshape it into a Matrix 3X5\n",
        "print(mat_torch.shape) # Return the size of the matrix (3, 5)\n",
        "print(mat_torch[0]) # Return the first row of the matrix \n",
        "print(mat_torch[0,3]) # Return first row and 4th column element \n",
        "# This was easy but everything was on the CPU so it's the same as Numpy \n",
        "# To do computation on the GPU (graphic card calculation can be 50x faster)"
      ],
      "execution_count": 14,
      "outputs": [
        {
          "output_type": "stream",
          "text": [
            "tensor([[ 0,  1,  2,  3,  4],\n",
            "        [ 5,  6,  7,  8,  9],\n",
            "        [10, 11, 12, 13, 14]])\n",
            "\n",
            "torch.Size([3, 5])\n",
            "\n",
            "tensor([0, 1, 2, 3, 4])\n",
            "\n",
            "tensor(3)\n",
            "\n"
          ],
          "name": "stdout"
        }
      ]
    },
    {
      "cell_type": "code",
      "metadata": {
        "id": "S4fBZlMHYMqI",
        "outputId": "7c86adea-7615-4680-ef20-f24e11a863d7",
        "colab": {
          "base_uri": "https://localhost:8080/"
        }
      },
      "source": [
        "# What is the GPU on this machine ? \n",
        "#!nvidia-smi\n",
        "device = torch.device(\"cuda\" if torch.cuda.is_available() else \"cpu\")\n",
        "device"
      ],
      "execution_count": 15,
      "outputs": [
        {
          "output_type": "execute_result",
          "data": {
            "text/plain": [
              "device(type='cuda')"
            ]
          },
          "metadata": {
            "tags": []
          },
          "execution_count": 15
        }
      ]
    },
    {
      "cell_type": "code",
      "metadata": {
        "id": "ujP5e7pGYLCh",
        "outputId": "09d0d049-8d73-42f3-e1e8-cd744d8c0c29",
        "colab": {
          "base_uri": "https://localhost:8080/"
        }
      },
      "source": [
        "mat_torch = torch.arange(15, device=device).reshape(3,5)\n",
        "print(int(mat_torch.max())) # Create a vector from 0 to 14 and reshape it into a Matrix 3X5\n",
        "print(mat_torch.shape) # Return the size of the matrix (3, 5)\n",
        "print(mat_torch[0]) # Return the first row of the matrix \n",
        "print(mat_torch[0,3]) # Return first row and 4th column element "
      ],
      "execution_count": 16,
      "outputs": [
        {
          "output_type": "stream",
          "text": [
            "14\n",
            "\n",
            "torch.Size([3, 5])\n",
            "\n",
            "tensor([0, 1, 2, 3, 4], device='cuda:0')\n",
            "\n",
            "tensor(3, device='cuda:0')\n",
            "\n"
          ],
          "name": "stdout"
        }
      ]
    },
    {
      "cell_type": "markdown",
      "metadata": {
        "id": "-YQO8LsGZ8iq"
      },
      "source": [
        "Let's say we want a faster sigmoid and softmax. \n",
        "We can use the same function from TP-1"
      ]
    },
    {
      "cell_type": "code",
      "metadata": {
        "id": "g0bUELpAYn0O"
      },
      "source": [
        "def normalize_tensor(input_tensor: torch.Tensor) -> torch.Tensor:\n",
        "    \"\"\"Apply a normalization to the tensor\"\"\"\n",
        "    # YOUR CODE HERE\n",
        "    return input_tensor/255\n",
        "   \n",
        "def sigmoid(input_tensor: torch.Tensor) -> torch.Tensor:\n",
        "    \"\"\"Apply a sigmoid to the input Tensor\"\"\"\n",
        "    # YOUR CODE HERE\n",
        "    return 1/(1+torch.exp(-input_tensor))\n",
        "\n",
        "def softmax(input_tensor: torch.Tensor)-> torch.Tensor:\n",
        "    \"\"\"Apply a softmax to the input tensor\"\"\"\n",
        "    # YOUR CODE HERE \n",
        "    exp = torch.exp(input_tensor)\n",
        "    sum_exp = torch.sum(exp,axis=1).reshape(-1,1)\n",
        "    return exp/sum_exp\n",
        "\n",
        "def target_to_one_hot(target: torch.Tensor, num_classes=10) -> torch.Tensor:\n",
        "    \"\"\"Create the one hot representation of the target\"\"\" \n",
        "    # YOUR CODE HERE \n",
        "    one_hot_matrix = torch.zeros((target.shape[0],num_classes)) \n",
        "    for i in range(target.shape[0]):\n",
        "      one_hot_matrix[i][target[i]] = 1\n",
        "    return one_hot_matrix\n",
        "\n"
      ],
      "execution_count": 17,
      "outputs": []
    },
    {
      "cell_type": "code",
      "metadata": {
        "id": "E3Je20wNZuj0"
      },
      "source": [
        "# However as mention above pytorch already has some built-ins function \n",
        "\n",
        "# sigmoid function [sigmoid doc](https://pytorch.org/docs/stable/generated/torch.nn.Sigmoid.html?highlight=sigmoid#torch.nn.Sigmoid)\n",
        "# softmax function [softmax doc](https://pytorch.org/docs/stable/generated/torch.nn.Softmax.html?highlight=softmax#torch.nn.Softmax) \n"
      ],
      "execution_count": 18,
      "outputs": []
    },
    {
      "cell_type": "code",
      "metadata": {
        "id": "zXpmI-kTbq4T",
        "outputId": "fa6b6326-744f-41af-c91c-189813471d11",
        "colab": {
          "base_uri": "https://localhost:8080/"
        }
      },
      "source": [
        "mat_torch = torch.arange(15, dtype=torch.float64, device=device).reshape(3,5)\n",
        "# Uncomment the line bellow to check if your implementation is correct\n",
        "\n",
        "assert torch.allclose(sigmoid(mat_torch), torch.sigmoid(mat_torch))\n",
        "print(sigmoid(mat_torch))\n",
        "print(torch.sigmoid(mat_torch))\n",
        "\n",
        "assert torch.allclose(softmax(mat_torch), torch.softmax(mat_torch, dim=1))\n",
        "print(softmax(mat_torch))\n",
        "print(torch.softmax(mat_torch, dim=1))"
      ],
      "execution_count": 20,
      "outputs": [
        {
          "output_type": "stream",
          "text": [
            "tensor([[0.5000, 0.7311, 0.8808, 0.9526, 0.9820],\n",
            "        [0.9933, 0.9975, 0.9991, 0.9997, 0.9999],\n",
            "        [1.0000, 1.0000, 1.0000, 1.0000, 1.0000]], device='cuda:0',\n",
            "       dtype=torch.float64)\n",
            "\n",
            "tensor([[0.5000, 0.7311, 0.8808, 0.9526, 0.9820],\n",
            "        [0.9933, 0.9975, 0.9991, 0.9997, 0.9999],\n",
            "        [1.0000, 1.0000, 1.0000, 1.0000, 1.0000]], device='cuda:0',\n",
            "       dtype=torch.float64)\n",
            "\n",
            "tensor([[0.0117, 0.0317, 0.0861, 0.2341, 0.6364],\n",
            "        [0.0117, 0.0317, 0.0861, 0.2341, 0.6364],\n",
            "        [0.0117, 0.0317, 0.0861, 0.2341, 0.6364]], device='cuda:0',\n",
            "       dtype=torch.float64)\n",
            "\n",
            "tensor([[0.0117, 0.0317, 0.0861, 0.2341, 0.6364],\n",
            "        [0.0117, 0.0317, 0.0861, 0.2341, 0.6364],\n",
            "        [0.0117, 0.0317, 0.0861, 0.2341, 0.6364]], device='cuda:0',\n",
            "       dtype=torch.float64)\n",
            "\n"
          ],
          "name": "stdout"
        }
      ]
    },
    {
      "cell_type": "markdown",
      "metadata": {
        "id": "Mp405FXquGqz"
      },
      "source": [
        "## Transforming our Neural network from TP1"
      ]
    },
    {
      "cell_type": "code",
      "metadata": {
        "id": "mCnZAR7x2yUl"
      },
      "source": [
        "if __name__ == \"__main__\":\n",
        "    # Downloading again the same MNIST dataset \n",
        "\n",
        "    mnist_data, mnist_target = fetch_openml('mnist_784', version=1, return_X_y=True)\n",
        "    X_train, X_test, y_train, y_test = train_test_split(mnist_data, mnist_target, test_size=0.33, random_state=1342)\n",
        "    # Change the input data to be normalize and target data to be correctly encoded \n",
        "\n",
        "    X_train = torch.from_numpy(X_train.astype(np.float32))\n",
        "    X_train = normalize_tensor(X_train)\n",
        "\n",
        "    X_test = torch.from_numpy(X_test.astype(np.float32))\n",
        "    X_test = normalize_tensor(X_test)\n",
        "\n",
        "    y_train = torch.from_numpy(y_train.astype(np.int32))\n",
        "    y_train = target_to_one_hot(y_train)\n",
        "\n",
        "    y_test = torch.from_numpy(y_test.astype(np.int32))\n",
        "    y_test = target_to_one_hot(y_test)\n"
      ],
      "execution_count": 21,
      "outputs": []
    },
    {
      "cell_type": "markdown",
      "metadata": {
        "id": "iYxuYKhUuT6U"
      },
      "source": [
        "Your remember the famous `class FFNN` from **TP1** ?? \n",
        "\n",
        "Here we will create the same version but with pytorch and we will see the power of this framework. \n",
        "\n",
        "Auto calculation of the backward pass and auto update of the weights 🎉 "
      ]
    },
    {
      "cell_type": "markdown",
      "metadata": {
        "id": "x677wA4zvtMR"
      },
      "source": [
        "In pytorch a dense layer similar to our `Class Layer` is a called **Linear Layer**\n",
        "\n",
        "[linear layer documentation] -> https://pytorch.org/docs/stable/generated/torch.nn.Linear.html#torch.nn.Linear"
      ]
    },
    {
      "cell_type": "code",
      "metadata": {
        "id": "QlBuCmXNxIRY"
      },
      "source": [
        "class FFNN(nn.Module):\n",
        "    def __init__(self, config, device, minibatch_size=100, learning_rate=0.01, momentum=0):\n",
        "        super().__init__()\n",
        "        self.layers = []\n",
        "        self.nlayers = len(config)\n",
        "        self.minibatch_size = minibatch_size\n",
        "        self.learning_rate = learning_rate\n",
        "        self.momentum = momentum\n",
        "        self.device = device \n",
        "\n",
        "        # We use the built-in activation functions\n",
        "        # TODO: Maybe try with another activation function ! \n",
        "        #self.activation = torch.nn.Sigmoid()\n",
        "        self.activation = torch.nn.ReLU()\n",
        "\n",
        "\n",
        "        self.last_activation = torch.nn.Softmax(dim=1)\n",
        "\n",
        "        # First difference we don't need a special Input layer 😃\n",
        "        # Second one we can declare them more easely\n",
        "        for i in range(1,len(config)):\n",
        "          layer = nn.Linear(config[i-1], config[i])\n",
        "          self.layers.append(layer)\n",
        "          self.layers.append(self.activation)\n",
        "\n",
        "        self.layers[-1]= self.last_activation\n",
        "        self.model = nn.Sequential(*self.layers)\n",
        "\n",
        "        # We use the built-in function to compute the loss\n",
        "        # TODO: Maybe try with another loss function ! \n",
        "        #self.loss_function = torch.nn.MSELoss()\n",
        "        self.loss_function = torch.nn.CrossEntropyLoss()\n",
        "\n",
        "        # We use the built-in function to update the model weights\n",
        "        self.optimizer = optim.SGD(self.model.parameters(), lr=self.learning_rate, momentum=self.momentum)\n",
        "\n",
        "    # Here we see the power of Pytorch\n",
        "    # The forward is just giving the input to our model\n",
        "    def forward(self, input_tensor: torch.Tensor) -> torch.Tensor:\n",
        "      y_pred = self.model(input_tensor)\n",
        "      return y_pred\n",
        "\n",
        "    def compute_loss(self, y_pred: torch.Tensor, y_true) -> torch.Tensor:\n",
        "        y_true = torch.argmax(y_true, dim=1)\n",
        "        loss = self.loss_function(y_pred.float(), y_true)\n",
        "        # looking at what the loss looks like\n",
        "        #print(loss)\n",
        "        return loss\n",
        "\n",
        "    # Even more powerful no need to code all the derivative of the different function\n",
        "    def backward_pass(self, loss: torch.tensor) -> None:\n",
        "        loss.backward()\n",
        "        return\n",
        "\n",
        "    # The previoulsy hard function to update the weight become also easy\n",
        "    def update_all_weights(self):\n",
        "      # Using pytorch\n",
        "      self.optimizer.step()\n",
        "\n",
        "\n",
        "    def get_error(self, y_pred, y_true) -> float:\n",
        "      y_pred = torch.argmax(y_pred, dim=1)\n",
        "      y_true = torch.argmax(y_true, dim=1)\n",
        "      return (y_pred == y_true).float().mean()\n",
        "\n",
        "    def get_test_error(self, X_test, y_test) -> float:\n",
        "      nbatch = X_test.shape[0]\n",
        "      error_sum = 0.0\n",
        "      for i in range(0, nbatch):\n",
        "          X_batch = X_test[i,:,:].reshape(self.minibatch_size, -1)\n",
        "          y_batch = y_test[i,:,:].reshape(self.minibatch_size, -1)\n",
        "          y_pred = self.model(X_batch)\n",
        "          error_sum += self.get_error(y_pred, y_batch)\n",
        "      return error_sum / nbatch\n",
        "\n",
        "    def train(self, n_epochs: int, X_train: torch.Tensor, y_train: torch.Tensor, X_test: torch.Tensor, y_test: torch.Tensor):\n",
        "      X_train = X_train.reshape(-1, self.minibatch_size, 784).to(self.device)\n",
        "      y_train = y_train.reshape(-1, self.minibatch_size, 10).to(self.device)\n",
        "\n",
        "      X_test = X_test.reshape(-1, self.minibatch_size, 784).to(self.device)\n",
        "      y_test = y_test.reshape(-1, self.minibatch_size, 10).to(self.device)\n",
        "\n",
        "      \n",
        "      self.model = self.model.to(device)\n",
        "      nbatch = X_train.shape[0]\n",
        "      error_test = 0.0\n",
        "      for epoch in range(n_epochs): \n",
        "        error_sum_train = 0.0\n",
        "        for i in range(0, nbatch):\n",
        "          X_batch = X_train[i,:, :]\n",
        "          y_batch = y_train[i,:, :]\n",
        "          # In order to have the correct derivative we remove the one from before \n",
        "          self.optimizer.zero_grad()\n",
        "          # Then we do a pass forward \n",
        "          y_pred = self.model(X_batch)\n",
        "          # We compute the loss \n",
        "          loss = self.compute_loss(y_pred, y_batch)\n",
        "          # And calculate the backward pass\n",
        "          self.backward_pass(loss=loss)\n",
        "          # To finally update the weights using stochastic gradient descent \n",
        "          self.update_all_weights()\n",
        "          error_sum_train += self.get_error(y_pred, y_batch)\n",
        "        error_test = self.get_test_error(X_test, y_test)\n",
        "        \n",
        "        print(f\"Training Loss: {loss:.3f}, Training accuracy: {error_sum_train / nbatch:.3f}, Test accuracy: {error_test:.3f}\")\n",
        "      return loss, error_test"
      ],
      "execution_count": 22,
      "outputs": []
    },
    {
      "cell_type": "code",
      "metadata": {
        "id": "LAzW9AJMzyOq",
        "tags": [],
        "outputId": "20dacb87-bd90-4267-f29c-2895f23cc03d",
        "colab": {
          "base_uri": "https://localhost:8080/"
        }
      },
      "source": [
        "if __name__ == \"__main__\":\n",
        "    minibatch_size = 28\n",
        "    nepoch = 5\n",
        "    learning_rate = 0.1\n",
        "    ffnn = FFNN(config=[784, 256, 128, 10], device=device, minibatch_size=minibatch_size, learning_rate=learning_rate)\n",
        "    print(ffnn)\n",
        "    loss, err = ffnn.train(nepoch, X_train, y_train, X_test, y_test)"
      ],
      "execution_count": 23,
      "outputs": [
        {
          "output_type": "stream",
          "text": [
            "FFNN(\n",
            "  (activation): ReLU()\n",
            "  (last_activation): Softmax(dim=1)\n",
            "  (model): Sequential(\n",
            "    (0): Linear(in_features=784, out_features=256, bias=True)\n",
            "    (1): ReLU()\n",
            "    (2): Linear(in_features=256, out_features=128, bias=True)\n",
            "    (3): ReLU()\n",
            "    (4): Linear(in_features=128, out_features=10, bias=True)\n",
            "    (5): Softmax(dim=1)\n",
            "  )\n",
            "  (loss_function): CrossEntropyLoss()\n",
            ")\n",
            "\n",
            "Training Loss: 1.530, Training accuracy: 0.652, Test accuracy: 0.835\n",
            "\n",
            "Training Loss: 1.504, Training accuracy: 0.842, Test accuracy: 0.849\n",
            "\n",
            "Training Loss: 1.501, Training accuracy: 0.851, Test accuracy: 0.857\n",
            "\n",
            "Training Loss: 1.466, Training accuracy: 0.864, Test accuracy: 0.913\n",
            "\n",
            "Training Loss: 1.466, Training accuracy: 0.927, Test accuracy: 0.932\n",
            "\n"
          ],
          "name": "stdout"
        }
      ]
    },
    {
      "cell_type": "markdown",
      "metadata": {
        "id": "dTQ_8e8gK3RA"
      },
      "source": [
        "In pytorch a very convinient way to load data in batch is to use the data loader. \n",
        "\n",
        "Let's update the class to use it, we are also going to use dataset available in pytorch vision."
      ]
    },
    {
      "cell_type": "code",
      "metadata": {
        "id": "ei5R8mqlxOZi"
      },
      "source": [
        "class FFNNModel(nn.Module):\n",
        "    def __init__(self, classes=10):\n",
        "        super().__init__()\n",
        "        # not the best model...\n",
        "        self.l1 = torch.nn.Linear(784, 256)\n",
        "        self.l2 = torch.nn.Linear(256, 128)\n",
        "        self.l3 = torch.nn.Linear(128, classes)\n",
        "        self.activation = torch.nn.ReLU()\n",
        "        self.last_activation = torch.nn.Softmax(dim=1)\n",
        "\n",
        "    def forward(self, input):\n",
        "        input = input.reshape(input.size(0), -1)\n",
        "        x = self.l1(input)\n",
        "        x = self.activation(x)\n",
        "        x = self.l2(x)\n",
        "        x = self.activation(x)\n",
        "        x = self.l3(x)\n",
        "        y = self.last_activation(x)\n",
        "        return y\n",
        "\n",
        "def train_one_epoch(model, device, data_loader, optimizer):\n",
        "    train_loss = 0\n",
        "    correct = 0\n",
        "    for num, (data, target) in tq.tqdm(enumerate(data_loader), total=len(data_loader.dataset)/data_loader.batch_size):\n",
        "        data, target = data.to(device), target.to(device)\n",
        "        optimizer.zero_grad()\n",
        "        output = model(data)\n",
        "\n",
        "        loss = F.cross_entropy(output, target)\n",
        "        loss.backward()\n",
        "        train_loss += loss.item()\n",
        "        optimizer.step()\n",
        "\n",
        "        prediction = output.argmax(dim=1)\n",
        "        correct += torch.sum(prediction.eq(target)).item()\n",
        "\n",
        "    result = {'loss': train_loss / len(data_loader.dataset),\n",
        "              'accuracy': correct / len(data_loader.dataset)\n",
        "              }\n",
        "    return result   \n",
        " \n",
        "def evaluation(model, device, data_loader):\n",
        "    eval_loss = 0\n",
        "    correct = 0\n",
        "\n",
        "    for num, (data, target) in tq.tqdm(enumerate(data_loader), total=len(data_loader.dataset)/data_loader.batch_size):\n",
        "        data, target = data.to(device), target.to(device)\n",
        "        output = model(data)\n",
        "        eval_loss += F.cross_entropy(output, target).item()\n",
        "        prediction = output.argmax(dim=1)\n",
        "        correct += torch.sum(prediction.eq(target)).item()\n",
        "    result = {'loss': eval_loss / len(data_loader.dataset),\n",
        "              'accuracy': correct / len(data_loader.dataset)\n",
        "              }\n",
        "    return result"
      ],
      "execution_count": 24,
      "outputs": []
    },
    {
      "cell_type": "code",
      "metadata": {
        "id": "Hcj3lBVPgeIN"
      },
      "source": [
        "\n",
        "if __name__ == \"__main__\":\n",
        "    \n",
        "    # Network Hyperparameters \n",
        "    minibatch_size = 28\n",
        "    nepoch = 10\n",
        "    learning_rate = 0.1\n",
        "    momentum = 0 \n",
        "    model = FFNNModel()\n",
        "    model.to(device)\n",
        "    optimizer = optim.SGD(model.parameters(), lr=learning_rate, momentum=momentum)\n",
        "\n",
        "    # Retrieve the data with the pytorch dataloader \n",
        "    mnist_train = MNIST(os.getcwd(), train=True, download=True, transform=transforms.ToTensor())\n",
        "    mnist_train = DataLoader(mnist_train, batch_size=32, num_workers=4, pin_memory=True)\n",
        "    mnist_val = MNIST(os.getcwd(), train=False, download=True, transform=transforms.ToTensor())\n",
        "    mnist_val = DataLoader(mnist_val, batch_size=32, num_workers=4,  pin_memory=True)\n",
        "\n",
        "    # Train for an number of epoch \n",
        "    for epoch in range(nepoch):\n",
        "      print(f\"training Epoch: {epoch}\")\n",
        "      if epoch > 0:\n",
        "        train_result = train_one_epoch(model, device, mnist_train, optimizer)\n",
        "        print(f\"Result Training dataset {train_result}\")\n",
        "\n",
        "      eval_result = evaluation(model, device, mnist_val)\n",
        "      print(f\"Result Test dataset {eval_result}\")\n",
        "\n"
      ],
      "execution_count": null,
      "outputs": []
    },
    {
      "cell_type": "markdown",
      "metadata": {
        "id": "rR0RUMI0WABc"
      },
      "source": [
        "# Part 1: What is a convolution ?\n",
        "\n",
        "\n"
      ]
    },
    {
      "cell_type": "markdown",
      "metadata": {
        "id": "Q06D0V9KnzJv"
      },
      "source": [
        "In this section you will implement 2D convolution operation using:\n",
        "\n",
        "Starting with a simple example and manual computation like in Lecture 2\n",
        "\n",
        "1) Introduction: manual computation\n",
        "\n",
        "- you have as input an image of 5x5 pixels\n",
        "\n",
        "$I = \\begin{bmatrix}I_{1, 1} & ... & I_{1, 5} \\\\ \\vdots & \\ddots & \\vdots \\\\ I_{5, 1}& ... & I_{5,5}\\end{bmatrix}$\n",
        "\n",
        "Your task is to compute the result of a convolution operation between this image and a 3x3 kernel\n",
        "\n",
        "$ K = \\begin{bmatrix}a & b & c \\\\d & e & f \\\\ g& h& i\\end{bmatrix}$\n",
        "\n",
        "We are considering padding with 0 and using the SAME convolution. \n",
        "Meaning that arround the I matrix consider there is the value 0.\n",
        "\n",
        "Tips: the result of the convolution is a 5x5 matrix"
      ]
    },
    {
      "cell_type": "code",
      "metadata": {
        "id": "Sfvn5c9yWABe",
        "outputId": "a435f827-d391-43f7-cd14-e72ffdb868cc",
        "colab": {
          "base_uri": "https://localhost:8080/"
        }
      },
      "source": [
        "I = np.array([[252,  49, 113,  11, 137],\n",
        "                [ 18, 237, 163, 119,  53],\n",
        "                [ 90,  89, 178,  75, 247],\n",
        "                [209, 216,  48, 135, 232],\n",
        "                [229, 53, 107, 106, 222]])\n",
        "print(f\"I =\")\n",
        "print(I.shape[0])"
      ],
      "execution_count": 26,
      "outputs": [
        {
          "output_type": "stream",
          "text": [
            "I =\n",
            "\n",
            "5\n",
            "\n"
          ],
          "name": "stdout"
        }
      ]
    },
    {
      "cell_type": "code",
      "metadata": {
        "id": "bDhH5cxzWABl",
        "outputId": "ad73395f-4fb6-44e0-cf63-378bc03e195d",
        "colab": {
          "base_uri": "https://localhost:8080/"
        }
      },
      "source": [
        "K_0 = np.array([[0, 1, 0], [0, 0, 0], [0, 0, 0]])\n",
        "#print(f\"K_0 =\")\n",
        "print(K_0)\n",
        "\n",
        "K_1 = np.array([[1, 1, 1], [0, 5, 0], [-1, -1, -1]])\n",
        "print(f\"K_1 =\")\n",
        "print(K_1)\n"
      ],
      "execution_count": 27,
      "outputs": [
        {
          "output_type": "stream",
          "text": [
            "[[0 1 0]\n",
            " [0 0 0]\n",
            " [0 0 0]]\n",
            "\n",
            "K_1 =\n",
            "\n",
            "[[ 1  1  1]\n",
            " [ 0  5  0]\n",
            " [-1 -1 -1]]\n",
            "\n"
          ],
          "name": "stdout"
        }
      ]
    },
    {
      "cell_type": "markdown",
      "metadata": {
        "id": "cqaSC3rTWABq"
      },
      "source": [
        "What is the result of convolution of $ I_0 \\ast K_0 $\n"
      ]
    },
    {
      "cell_type": "code",
      "metadata": {
        "id": "WidbhmkRWABr"
      },
      "source": [
        "# put your answer here\n",
        "R_0 = np.array([[0,0,0,0,0],\n",
        "               [252,49,113,11,137],\n",
        "               [18,237,163,119,53],\n",
        "               [90,89,178,75,247],\n",
        "               [209,216,48,135,232]]).astype(np.float32)"
      ],
      "execution_count": 28,
      "outputs": []
    },
    {
      "cell_type": "markdown",
      "metadata": {
        "id": "Wfi2u2yVWABw"
      },
      "source": [
        "What is the result of convolution of $ I_0 \\ast K_1 $\n"
      ]
    },
    {
      "cell_type": "code",
      "metadata": {
        "id": "4XKt_u-wWABx",
        "outputId": "9f69d5a9-894d-423b-820a-5817df59c728",
        "colab": {
          "base_uri": "https://localhost:8080/"
        }
      },
      "source": [
        "# put your answer here\n",
        "R_1 = np.array([[1005,-173,46,-280,513],\n",
        "               [212,1242,646,356,91],\n",
        "               [280,390,1010,295,1040],\n",
        "               [942,1048,316,740,1154],\n",
        "               [1570,738,934,945,1477]]).astype(np.float32)\n",
        "\n",
        "R_1"
      ],
      "execution_count": 29,
      "outputs": [
        {
          "output_type": "execute_result",
          "data": {
            "text/plain": [
              "array([[1005., -173.,   46., -280.,  513.],\n",
              "       [ 212., 1242.,  646.,  356.,   91.],\n",
              "       [ 280.,  390., 1010.,  295., 1040.],\n",
              "       [ 942., 1048.,  316.,  740., 1154.],\n",
              "       [1570.,  738.,  934.,  945., 1477.]], dtype=float32)"
            ]
          },
          "metadata": {
            "tags": []
          },
          "execution_count": 29
        }
      ]
    },
    {
      "cell_type": "markdown",
      "metadata": {
        "id": "Hu-2xPRZWAB0"
      },
      "source": [
        "## 2) Computation using __numpy__\n",
        "\n",
        "Now using the numpy implement the convolution operation.\n"
      ]
    },
    {
      "cell_type": "code",
      "metadata": {
        "id": "gP7fnMBHetJg"
      },
      "source": [
        "def convolution_forward_numpy(image, kernel):\n",
        "    # YOUR CODE HERE \n",
        "\n",
        "    RGB = False\n",
        "    image_pad = np.zeros((image.shape[0]+kernel.shape[0]-1,image.shape[1]+kernel.shape[0]-1))\n",
        "    image_pad_red = np.zeros((image.shape[0]+kernel.shape[0]-1,image.shape[1]+kernel.shape[0]-1),dtype=int)\n",
        "    image_pad_green = np.zeros((image.shape[0]+kernel.shape[0]-1,image.shape[1]+kernel.shape[0]-1),dtype=int)\n",
        "    image_pad_blue = np.zeros((image.shape[0]+kernel.shape[0]-1,image.shape[1]+kernel.shape[0]-1),dtype=int)\n",
        "\n",
        "    convolution_matrix = np.zeros(image.shape,dtype=int)\n",
        "    conv_mat_red = np.zeros((image.shape[0],image.shape[1]),dtype=int)\n",
        "    conv_mat_green = np.zeros((image.shape[0],image.shape[1]),dtype=int)\n",
        "    conv_mat_blue = np.zeros((image.shape[0],image.shape[1]),dtype=int)\n",
        "\n",
        "    if len(image.shape) == 3:\n",
        "        RGB = True\n",
        "\n",
        "    for i in range(len(image)):\n",
        "        for j in range(len(image[i])):\n",
        "            if RGB:\n",
        "                  image_pad_red[i+1][j+1] = image[i][j][0]\n",
        "                  image_pad_green[i+1][j+1] = image[i][j][1]\n",
        "                  image_pad_blue[i+1][j+1] = image[i][j][2]\n",
        "            else:\n",
        "                image_pad[i+1][j+1] = image[i][j]\n",
        "    \n",
        "\n",
        "\n",
        "    for i in range(len(image)):\n",
        "        for j in range(len(image[i])):\n",
        "            for k in range(len(kernel)):\n",
        "                for l in range(len(kernel[k])):\n",
        "                    if RGB:\n",
        "                        conv_mat_red[i][j] += image_pad_red[k+i][l+j]*kernel[k][l]\n",
        "                        conv_mat_green[i][j] += image_pad_green[k+i][l+j]*kernel[k][l]\n",
        "                        conv_mat_blue[i][j] += image_pad_blue[k+i][l+j]*kernel[k][l]\n",
        "                    else:\n",
        "                        convolution_matrix[i][j] += image_pad[k+i][l+j]*kernel[k][l]\n",
        "\n",
        "    if RGB:\n",
        "        for i in range(len(image)):\n",
        "            for j in range(len(image[i])):\n",
        "                convolution_matrix[i][j] = [conv_mat_red[i][j],conv_mat_green[i][j],conv_mat_blue[i][j]]\n",
        "\n",
        "    return convolution_matrix\n",
        "\n",
        "image = np.ones((10, 10))\n",
        "kernel = np.array([[0, 2, 0], [0, 1, 0], [0, 1, 0]])\n",
        "\n",
        "print(np.full((10, 10), 4))\n",
        "convolution_forward_numpy(image, kernel)"
      ],
      "execution_count": null,
      "outputs": []
    },
    {
      "cell_type": "markdown",
      "metadata": {
        "id": "5OGXKtyVetJm"
      },
      "source": [
        "Test your implementation on the two previous example and compare the results to the result manually computed."
      ]
    },
    {
      "cell_type": "code",
      "metadata": {
        "id": "iRubH1y6WAB1",
        "lines_to_next_cell": 2,
        "outputId": "d8e8364d-4e54-4f74-e927-45b911fc5a87",
        "colab": {
          "base_uri": "https://localhost:8080/",
          "height": 199
        }
      },
      "source": [
        "\n",
        "#assert convolution_forward_numpy(I, K_0) == R_0\n",
        "#assert convolution_forward_numpy(I, K_1) == R_1"
      ],
      "execution_count": 238,
      "outputs": [
        {
          "output_type": "error",
          "ename": "ValueError",
          "evalue": "ignored",
          "traceback": [
            "\u001b[0;31m---------------------------------------------------------------------------\u001b[0m",
            "\u001b[0;31mValueError\u001b[0m                                Traceback (most recent call last)",
            "\u001b[0;32m<ipython-input-238-ca3a95847c04>\u001b[0m in \u001b[0;36m<module>\u001b[0;34m()\u001b[0m\n\u001b[1;32m      1\u001b[0m \u001b[0;34m\u001b[0m\u001b[0m\n\u001b[0;32m----> 2\u001b[0;31m \u001b[0;32massert\u001b[0m \u001b[0mconvolution_forward_numpy\u001b[0m\u001b[0;34m(\u001b[0m\u001b[0mI\u001b[0m\u001b[0;34m,\u001b[0m \u001b[0mK_0\u001b[0m\u001b[0;34m)\u001b[0m \u001b[0;34m==\u001b[0m \u001b[0mR_0\u001b[0m\u001b[0;34m\u001b[0m\u001b[0;34m\u001b[0m\u001b[0m\n\u001b[0m\u001b[1;32m      3\u001b[0m \u001b[0;31m#assert convolution_forward_numpy(I, K_1) == R_1\u001b[0m\u001b[0;34m\u001b[0m\u001b[0;34m\u001b[0m\u001b[0;34m\u001b[0m\u001b[0m\n",
            "\u001b[0;31mValueError\u001b[0m: The truth value of an array with more than one element is ambiguous. Use a.any() or a.all()"
          ]
        }
      ]
    },
    {
      "cell_type": "markdown",
      "metadata": {
        "id": "9Lmj8tf3WACI"
      },
      "source": [
        "Display the result image of the convolution"
      ]
    },
    {
      "cell_type": "markdown",
      "metadata": {
        "id": "v7z9q-rtWACQ"
      },
      "source": [
        "## 3) Computation using __pytorch__\n",
        "\n",
        "Now let's use pytorch convolution layer to do the forward pass. Use the documentation available at: https://pytorch.org/docs/stable/nn.html"
      ]
    },
    {
      "cell_type": "code",
      "metadata": {
        "id": "eoEYVPzFWACR",
        "outputId": "ed6024bf-165d-4f1a-c37c-de38a0229210",
        "colab": {
          "base_uri": "https://localhost:8080/",
          "height": 286
        }
      },
      "source": [
        "# Load image from url, you can use an other image if you want\n",
        "image_url = \"https://upload.wikimedia.org/wikipedia/commons/4/4f/ECE_Paris_Lyon.jpg\"\n",
        "image = imageio.imread(image_url)\n",
        "\n",
        "\n",
        "# simple function to display image\n",
        "def display_image(img):\n",
        "    plt.imshow(img)\n",
        "\n",
        "# display the image\n",
        "#display_image(image)\n",
        "# Do the convolution operation and display the resulting image\n",
        "image = np.array(image)\n",
        "# YOUR CODE HERE\n",
        "#output_image = convolution_forward_numpy(image, K_1) \n",
        "#display_image(output_image)\n",
        "#output_image = convolution_forward_torch(image, K_1) \n",
        "#display_image(output_image)"
      ],
      "execution_count": 181,
      "outputs": [
        {
          "output_type": "stream",
          "text": [
            "Clipping input data to the valid range for imshow with RGB data ([0..1] for floats or [0..255] for integers).\n"
          ],
          "name": "stderr"
        },
        {
          "output_type": "display_data",
          "data": {
            "image/png": "[encoded data removed]",
            "text/plain": [
              "<Figure size 432x288 with 1 Axes>"
            ]
          },
          "metadata": {
            "tags": [],
            "needs_background": "light"
          }
        }
      ]
    },
    {
      "cell_type": "code",
      "metadata": {
        "id": "2ZboYqQCWACW",
        "lines_to_next_cell": 2
      },
      "source": [
        "def convolution_forward_torch(image, kernel):\n",
        "    # YOUR CODE HERE\n",
        "    convolution = []\n",
        "\n",
        "    if len(image.shape) == 3:\n",
        "        shape = image.shape\n",
        "        image = image.reshape(-1)\n",
        "        image_red = torch.Tensor(image[0:len(image):3].reshape(1,1,shape[1],shape[0]))\n",
        "        image_green = torch.Tensor(image[1:len(image):3].reshape(1,1,shape[1],shape[0]))\n",
        "        image_blue = torch.Tensor(image[2:len(image):3].reshape(1,1,shape[1],shape[0]))\n",
        "        kernel = torch.Tensor(kernel.reshape(1,1,kernel.shape[1],kernel.shape[0]))\n",
        "        convolution_red = F.conv2d(image_red,kernel,padding=1).numpy().reshape(-1)\n",
        "        convolution_green = F.conv2d(image_green,kernel,padding=1).numpy().reshape(-1)\n",
        "        convolution_blue = F.conv2d(image_blue,kernel,padding=1).numpy().reshape(-1)\n",
        "\n",
        "        for i in range(len(convolution_red)):\n",
        "            convolution.append(convolution_red[i])\n",
        "            convolution.append(convolution_green[i])\n",
        "            convolution.append(convolution_blue[i])\n",
        "\n",
        "        convolution = np.array(convolution).astype(int).reshape(shape[1],shape[0],3)\n",
        "\n",
        "    else:\n",
        "        image = torch.Tensor(image.reshape(1,1,image.shape[1],image.shape[0]))\n",
        "        kernel = torch.Tensor(kernel.reshape(1,1,kernel.shape[1],kernel.shape[0]))\n",
        "        convolution = F.conv2d(image,kernel,padding=1,groups=1).numpy().astype(int).reshape(image.shape[2],image.shape[3])\n",
        "    \n",
        "    return convolution"
      ],
      "execution_count": 246,
      "outputs": []
    },
    {
      "cell_type": "markdown",
      "metadata": {
        "id": "x9XtW00JWACZ"
      },
      "source": [
        "In pytorch you can also access other layer like convolution2D, pooling layers, for example in the following cell use the __torch.nn.MaxPool2d__ to redduce the image size."
      ]
    },
    {
      "cell_type": "code",
      "metadata": {
        "id": "uEpb5XVyWACf",
        "lines_to_next_cell": 2
      },
      "source": [
        "\n",
        "\n"
      ],
      "execution_count": null,
      "outputs": []
    },
    {
      "cell_type": "markdown",
      "metadata": {
        "id": "b5aVluRsoVMC"
      },
      "source": [
        "# Part 2: Using convolution neural network to recognize digits"
      ]
    },
    {
      "cell_type": "markdown",
      "metadata": {
        "id": "7YkGWHXIWACi"
      },
      "source": [
        "In this section you will implement 2D convolution neural network and train it on fashion mnist dataset\n",
        "\n",
        "https://github.com/zalandoresearch/fashion-mnist\n",
        "\n",
        "\n",
        "![Image of fashion mnist](https://raw.githubusercontent.com/zalandoresearch/fashion-mnist/master/doc/img/fashion-mnist-sprite.png)\n",
        "\n",
        "##  First let's look at the data."
      ]
    },
    {
      "cell_type": "code",
      "metadata": {
        "id": "BfBxOSnDIwle",
        "outputId": "8e99ab1e-db58-46cf-9fbe-87f15ee8088e",
        "colab": {
          "base_uri": "https://localhost:8080/",
          "height": 233
        }
      },
      "source": [
        "if __name__ == \"__main__\" :\n",
        "\n",
        "  fmnist_train = FashionMNIST(os.getcwd(), train=True, download=True, transform=transforms.ToTensor())\n",
        "  fmnist_train = DataLoader(fmnist_train, batch_size=32, num_workers=4, pin_memory=True)\n",
        "  fmnist_val = FashionMNIST(os.getcwd(), train=False, download=True, transform=transforms.ToTensor())\n",
        "  normalize_tensor(fmnist_val)\n",
        "  fmnist_val = DataLoader(fmnist_val, batch_size=32, num_workers=4,  pin_memory=True)"
      ],
      "execution_count": 327,
      "outputs": [
        {
          "output_type": "error",
          "ename": "ValueError",
          "evalue": "ignored",
          "traceback": [
            "\u001b[0;31m---------------------------------------------------------------------------\u001b[0m",
            "\u001b[0;31mValueError\u001b[0m                                Traceback (most recent call last)",
            "\u001b[0;32m<ipython-input-327-70568174b665>\u001b[0m in \u001b[0;36m<module>\u001b[0;34m()\u001b[0m\n\u001b[1;32m      2\u001b[0m \u001b[0;34m\u001b[0m\u001b[0m\n\u001b[1;32m      3\u001b[0m   \u001b[0mfmnist_train\u001b[0m \u001b[0;34m=\u001b[0m \u001b[0mFashionMNIST\u001b[0m\u001b[0;34m(\u001b[0m\u001b[0mos\u001b[0m\u001b[0;34m.\u001b[0m\u001b[0mgetcwd\u001b[0m\u001b[0;34m(\u001b[0m\u001b[0;34m)\u001b[0m\u001b[0;34m,\u001b[0m \u001b[0mtrain\u001b[0m\u001b[0;34m=\u001b[0m\u001b[0;32mTrue\u001b[0m\u001b[0;34m,\u001b[0m \u001b[0mdownload\u001b[0m\u001b[0;34m=\u001b[0m\u001b[0;32mTrue\u001b[0m\u001b[0;34m,\u001b[0m \u001b[0mtransform\u001b[0m\u001b[0;34m=\u001b[0m\u001b[0mtransforms\u001b[0m\u001b[0;34m.\u001b[0m\u001b[0mToTensor\u001b[0m\u001b[0;34m(\u001b[0m\u001b[0;34m)\u001b[0m\u001b[0;34m)\u001b[0m\u001b[0;34m\u001b[0m\u001b[0;34m\u001b[0m\u001b[0m\n\u001b[0;32m----> 4\u001b[0;31m   \u001b[0mnormalize_tensor\u001b[0m\u001b[0;34m(\u001b[0m\u001b[0mtorch\u001b[0m\u001b[0;34m.\u001b[0m\u001b[0mTensor\u001b[0m\u001b[0;34m(\u001b[0m\u001b[0mfmnist_train\u001b[0m\u001b[0;34m)\u001b[0m\u001b[0;34m)\u001b[0m\u001b[0;34m\u001b[0m\u001b[0;34m\u001b[0m\u001b[0m\n\u001b[0m\u001b[1;32m      5\u001b[0m   \u001b[0mfmnist_train\u001b[0m \u001b[0;34m=\u001b[0m \u001b[0mDataLoader\u001b[0m\u001b[0;34m(\u001b[0m\u001b[0mfmnist_train\u001b[0m\u001b[0;34m,\u001b[0m \u001b[0mbatch_size\u001b[0m\u001b[0;34m=\u001b[0m\u001b[0;36m32\u001b[0m\u001b[0;34m,\u001b[0m \u001b[0mnum_workers\u001b[0m\u001b[0;34m=\u001b[0m\u001b[0;36m4\u001b[0m\u001b[0;34m,\u001b[0m \u001b[0mpin_memory\u001b[0m\u001b[0;34m=\u001b[0m\u001b[0;32mTrue\u001b[0m\u001b[0;34m)\u001b[0m\u001b[0;34m\u001b[0m\u001b[0;34m\u001b[0m\u001b[0m\n\u001b[1;32m      6\u001b[0m   \u001b[0mfmnist_val\u001b[0m \u001b[0;34m=\u001b[0m \u001b[0mFashionMNIST\u001b[0m\u001b[0;34m(\u001b[0m\u001b[0mos\u001b[0m\u001b[0;34m.\u001b[0m\u001b[0mgetcwd\u001b[0m\u001b[0;34m(\u001b[0m\u001b[0;34m)\u001b[0m\u001b[0;34m,\u001b[0m \u001b[0mtrain\u001b[0m\u001b[0;34m=\u001b[0m\u001b[0;32mFalse\u001b[0m\u001b[0;34m,\u001b[0m \u001b[0mdownload\u001b[0m\u001b[0;34m=\u001b[0m\u001b[0;32mTrue\u001b[0m\u001b[0;34m,\u001b[0m \u001b[0mtransform\u001b[0m\u001b[0;34m=\u001b[0m\u001b[0mtransforms\u001b[0m\u001b[0;34m.\u001b[0m\u001b[0mToTensor\u001b[0m\u001b[0;34m(\u001b[0m\u001b[0;34m)\u001b[0m\u001b[0;34m)\u001b[0m\u001b[0;34m\u001b[0m\u001b[0;34m\u001b[0m\u001b[0m\n",
            "\u001b[0;31mValueError\u001b[0m: only one element tensors can be converted to Python scalars"
          ]
        }
      ]
    },
    {
      "cell_type": "markdown",
      "metadata": {
        "id": "wWhl5or3WACl"
      },
      "source": [
        "Display the 10 image from train set and 10 images from validation set, print their ground truth"
      ]
    },
    {
      "cell_type": "code",
      "metadata": {
        "id": "hOKRW0eOEt4G",
        "outputId": "58a4e8bb-8a26-4efa-aaf7-db64fb9c3b9a",
        "colab": {
          "base_uri": "https://localhost:8080/",
          "height": 230
        }
      },
      "source": [
        "def display_10_images(dataset):\n",
        "    # YOUR CODE HERE \n",
        "    plt.figure(figsize = (dataset[0][0].width, dataset[0][0].height))\n",
        "    for i in range(10):\n",
        "        image,target = dataset[i]\n",
        "        plt.subplot(1,10,i+1)\n",
        "        plot_one_tensor(image)\n",
        "        plt.title(\"Label : \"+str(target))\n",
        "\n",
        "fmnist_train = FashionMNIST(os.getcwd(), train=True, download=True)\n",
        "print(fmnist_train[0][0])\n",
        "fmnist_val = FashionMNIST(os.getcwd(), train=False, download=True)\n",
        "display_10_images(fmnist_train)"
      ],
      "execution_count": 330,
      "outputs": [
        {
          "output_type": "stream",
          "text": [
            "<PIL.Image.Image image mode=L size=28x28 at 0x7F23E04EEB70>\n",
            "\n"
          ],
          "name": "stdout"
        },
        {
          "output_type": "display_data",
          "data": {
            "image/png": "[encoded data removed]",
            "text/plain": [
              "<Figure size 2016x2016 with 10 Axes>"
            ]
          },
          "metadata": {
            "tags": [],
            "needs_background": "light"
          }
        }
      ]
    },
    {
      "cell_type": "markdown",
      "metadata": {
        "id": "HNl2tW4OWACm"
      },
      "source": [
        "What is the shape of each images\n",
        "How many images do we have\n",
        "What are the different classes"
      ]
    },
    {
      "cell_type": "code",
      "metadata": {
        "id": "4Ex3UohlH0o6"
      },
      "source": [
        "def fashion_mnist_dataset_answer():\n",
        "    shape = (28,28)  # replace None with the value you found\n",
        "    number_of_images_in_train_set = 60000\n",
        "    number_of_images_in_test_set = 10000\n",
        "    number_of_classes = 10\n",
        "    return {'shape': shape, 'nb_in_train_set': number_of_images_in_train_set, 'nb_in_test_set': number_of_images_in_test_set, 'number_of_classes': number_of_classes}"
      ],
      "execution_count": null,
      "outputs": []
    },
    {
      "cell_type": "code",
      "metadata": {
        "id": "TCt97SpbI7pO"
      },
      "source": [
        "# Plot an image and the target  "
      ],
      "execution_count": null,
      "outputs": []
    },
    {
      "cell_type": "markdown",
      "metadata": {
        "id": "gHK65RunWADA"
      },
      "source": [
        "## Create a convolutional neural network\n",
        "\n",
        "Now it's your turn to create a convolutional neural network and to train your model on the fashion mnist dataset.\n",
        "\n",
        "Classical machine learning approach manage to get a 89% accuracy on fashion mnist, your objective is to use deep learning (and convolution neural network) to get more than 90%\n",
        "\n",
        "You can first start with this simple convolution network and improve it by adding/modifying the layers used:\n",
        "\n",
        "```\n",
        "convolutional layer 3x3\n",
        "convolutional layer 3x3\n",
        "max-pooling\n",
        "convolutional layer 3x3\n",
        "convolutional layer 3x3\n",
        "max-pooling\n",
        "flatten\n",
        "fully-connected layer (dense layer)\n",
        "fully-connected layer (dense layer)\n",
        "fully-connected layer (dense layer)\n",
        "Softmax\n",
        "```\n"
      ]
    },
    {
      "cell_type": "code",
      "metadata": {
        "id": "1W7t-is0WADA",
        "lines_to_next_cell": 2,
        "outputId": "007396f4-f26b-4f72-c27d-90bd41d080df",
        "colab": {
          "base_uri": "https://localhost:8080/",
          "height": 1000,
          "referenced_widgets": [
            "8e1d96b4177547d4aa37e9718401fcd1",
            "4fbac7f041b24c9d9e68d8b5e22344a2",
            "89a40f69c80647ae8b891ff86af4a9ee",
            "71bb71008ee545b889e622ca2b92acf9",
            "caac10d605764cf0b6f19d8c6ad3692a",
            "92a65766e00f47c18ccdb5f5332e3f77",
            "af82f64d051c4d548079f8c16ceca785",
            "1b982bcda3474f53b45043dd0278466f",
            "363906c12e43477482c9d894fcd29d26",
            "6c60b8657317417fa2908932e775ecb4",
            "effd0d97a38c4393b1edd5bbbe7090d5",
            "e6303ff9ae90471f8a447cafccf9698c",
            "30d745b1668446dbba251a18d91f417f",
            "cf91db63630b4eba8c08b22464017f51",
            "36df6ce615a948d3bc605dae960878fb",
            "fcc70e9989c24bb49f18ae05223b5de3",
            "5672be66055c4335a276b1f827db2d66",
            "c530e6fb706e471c838f58d853e1ebc7",
            "66c3f5356f674a41bb6329b8a07864a0",
            "603579821e4b4257a04bc66b15570008",
            "26dc977c89e44beca0e2fb47184f28bb",
            "d139ddecf48548c08ed751b1676c9c4d",
            "e9a729e1f200408bb45866805a29ab68",
            "57d6c32f520e4baea34e01435bcd1d98",
            "4ebf162fa7104e3baa7d8eec2d27ff3b",
            "22a00751a1a843a1822e04d63caac13c",
            "7ce20e3c135845b18691fd333d7e9791",
            "ff6ff40eb26048008718459b963fe744",
            "e3720d97b87a4da390c4dc986194882a",
            "33f4b8e3d2a64c8aa38934cefd7ed9cc",
            "0d3c1abfe1c943c7b0d6597adeca0a18",
            "93a49c778a2543079d134b6ba74c0a0f",
            "cd887e8f933c428b8abccead64abdd3d",
            "3a8b165d022544e78f18e06834396519",
            "4aac34586bfc4deab1b62b4d469c2153",
            "55f086a502aa4f8db7d85fe3bbda8123",
            "f11fff8071494eceb18145ec5c2b0bcf",
            "7d580fe405ac4d90bfb5e4a95e5b8595",
            "2f0ca4865b524edcb538cd775bc19fa3",
            "a3b10915f9fb4daba2e5902c17ecfa81",
            "d1723d3f44124195872655ba64a096c4",
            "618a7ac292694f4799b441c789333704",
            "77fd36a5bd114dfaa2e40194b91900c2",
            "288425844db4467ea059025f8963d23d",
            "a3e169079ed041dfb3a637cd0151e665",
            "744e79475bf148a7b76c677fd64efcec",
            "453ec256f9724bde8fe59f966ccefbef",
            "5cb1f495252a426e9be5d9a031960800",
            "2c958eb6e8eb4f45a00ab260d86be49b",
            "ca3487b30a3945338ad272b8360d7ea0",
            "113c52dae30b4880b54a93ec27de9ee3",
            "13b80326a1914eb0afce6bcb1b226207",
            "b4aa25505a684df481a1b134285fc0b1",
            "ae97ade1b7ec49f29d3301b41b65da22",
            "17d2fd302fa249fb9ce5dd36eea11969",
            "27cdda0f6a4542059299e00875768384",
            "fd0a22b201e44233bd6c5865bfdf3029",
            "d0f6adda6c7144049294a900588a0def",
            "e23246022b6b4691b7db3dde72b6697f",
            "0325077fde2f4eae9f0fabaf38b78652",
            "55281ffc1c51457a8d108fcf1827bfb3",
            "6875981e2f1a49a3a63b7d401c2e516b",
            "5480d6df539c4895a1c16c26a6816184",
            "79a8344ea7154e9292bf7bc882b33936",
            "b41efcf76b8e4525a761e5c85d643fa2",
            "56939fe19e87445cbaf61fcb0ca1a7b0",
            "a358c6d5af674199abe6b45ea2e44a82",
            "52fd4a6a2ea940d0a9ee73c7ea33555c",
            "86d0c1c43ba94f76986ec7f2fe7d99b0",
            "a8891e26f73c4cf39f3c0a41866236ad",
            "47e9205a76e04528889f85ac35f46ff7",
            "1368be44c8b043e5a8fe7135adda2a6c",
            "4f16ff7591034063842f595c2510093c",
            "085248cc5649453788d58a9aa28ad69a",
            "56415bc9736f4f02a5c70ea434f704cb",
            "375071a62c40461b90324e56f16a2fa7",
            "c1d72da9c6f24966a11a298e6b8e35d0",
            "d124a97a5ad94a0a955c38a3709309a9",
            "29d4e58dd2564133aa332de933a10404",
            "787c5698b4ad42e8811294126cddb730",
            "19cb2bd023ba4b3a82817703c35fcda6",
            "0caddb0e2c3e4d3b9a6c9ff07b684810",
            "3c560bb579484042a4dc71b7550c8870",
            "0e91f961b9be4c9fbad00ec965865d33",
            "f0a61f3fac48418ba3c4bda622731e0f",
            "cbf2c72b17924c6c985e96eae09f6117",
            "914e5037cb3b4fada975b4231571195f",
            "762e21100aa5429ea33a229be9eb7ee8",
            "93c95d484dcb48809b5d2ea7b2d4e29f",
            "ca5c00ec2ff54e5e8d4cfebddeb0f289",
            "079c3c79638c4f16b077320446e9be72",
            "2e3f2d03bafd4c6eb07c0a6e60f32028",
            "34163f3da725445f898a3085b912e6d2",
            "c9e879559e314c539ad38cb62654883e",
            "76bfaba4beef4d05bf84ae01ea18175a",
            "e5ca70a7022947f3bca571cde1d21305",
            "69452be268fe498293fd7e84755609d4",
            "52174027ef37473a954d7a078be1c359",
            "2133b5900162466abdea80afc56f99d5",
            "bd5ecd73d77146f0b6ee8bfb954c3ef6",
            "a7241e319d6046359645608331f54496",
            "9fd1edb09f984369ab9362ce63ef9baf",
            "497c038d3f1b48cd8c9344bc20b44b49",
            "c565bb6b820d4b7994cb7aeff33b830a",
            "17c4814a9e9c4017a838fa5ca157e599",
            "c98caf544a7b4544955337d491c2d9e9",
            "325a926122224351bcf56903e9e86933",
            "45f4e4a5766b43a59a263a070e331549",
            "23d81a7f3932423d94197347cb2008b8",
            "7ebaf57d4ff14815808f545a9de28ad2",
            "0aff8ac7d7ca417eab50e203b9bf9a21",
            "c81100e0de0d460e9d1db9f1b49458a4",
            "214f89320df04873a1bf3e1a96526a3f",
            "3510d9ec4b2d4af8b849079a5a4dc5bd",
            "57f06dd1261c4d18a6069b2e433b425e",
            "9e7f7f231eb14a13bff333db36269d29",
            "38c4f668614e4693ae87a3165840b389",
            "2a516d8d21524269a6d2305000736255",
            "710dd38e143145cd9f660ed0c21d8c95",
            "d113f793100543e1ac2af52f307c9498",
            "1017dc8594c343e1b372fad0fa25173c",
            "9e6b93631ce84bec93aa41a8293bf282",
            "a3487e4ac0b84812967a2364a42cc17c",
            "b9bf176cfd0b49ed9c35a534868429ef",
            "d41671dc77174a1e96d05f2c8fd631af",
            "be7a6e063c134ebf8b05f02fa2c97981",
            "85817cb258234a9fb4a5bd6d0de1812e",
            "aa83a789cc154bbe9805be3f0baddca6",
            "b204834ad0084a15b4c3ae809e2959d5",
            "ad9fe76bcb7b4ac19772adbb239b0741",
            "bece7d8a8ea341bfb9367d4e49950b22",
            "1351b32cc19d427094b19ee96ac57006",
            "d038bab9f8214aa782b0407de3cbda4c",
            "8afeeb55047e4a6486e4bd5946cb2da9",
            "0d5a3a5e569c4047bc6c03a275261ab4",
            "5c5a537185ca436da0842f51c1ac18d8",
            "7eb50729827e4e7ea5749a8ab9fd207f",
            "56e47ac5a7494f95b2efd5b29f2c8514",
            "97551bb91493497098274881d37e75a5",
            "3e5265ae78e64e19a05bf6ad7cf8e2c6",
            "87aa76ae74344a1fa421cd9e71f23ea3",
            "026db9e35e754f60ac7e06d1210fad2b",
            "ce63efb50f7344549c64992395fa2b9e",
            "bd1f2e26e3824416a511251cc4a7fa01",
            "62711c4f3ef74d02a80181ecdfb3d59c",
            "593dfee986d2418a8e893b1b21f82896",
            "8d2d59d8566e4fe291b713249fc8fc48",
            "2c5ba440f1e3479a90cbcfd7b7be0441",
            "11b3323590cb4e38a7349b93bdab5f9c",
            "22f0f02b3ff5483392a6f35dc8298b57",
            "17a29568695c4dea9adb2e2464a4ff83",
            "2f4078ea99244cc29d0727a1473438eb"
          ]
        }
      },
      "source": [
        "class CNNModel(nn.Module):\n",
        "    def __init__(self, classes=10):\n",
        "        super().__init__()\n",
        "        # YOUR CODE HERE \n",
        "        self.conv1 = nn.Conv2d(1,32,3,padding=1)\n",
        "        self.conv2 = nn.Conv2d(32,32,3,padding=1)\n",
        "        self.maxpool = nn.MaxPool2d(2,2)\n",
        "        self.conv3 = nn.Conv2d(32,50,3,padding=1)\n",
        "        self.conv4 = nn.Conv2d(50,32,3,padding=1)\n",
        "        self.fc1 = nn.Linear(32*7*7,64)\n",
        "        self.fc2 = nn.Linear(64,40)\n",
        "        self.fc3 = nn.Linear(40,10)\n",
        "\n",
        "    def forward(self, input):\n",
        "        #print(input.shape)\n",
        "        x = self.conv1(input)\n",
        "\n",
        "        # YOUR CODE HERE \n",
        "        x = self.conv2(x)\n",
        "\n",
        "        x = self.maxpool(x)\n",
        "\n",
        "        x = self.conv3(x)\n",
        "\n",
        "        x = self.conv4(x)\n",
        "\n",
        "        x = self.maxpool(x)\n",
        "        #print(4,x.shape)\n",
        "        x = x.reshape(x.size(0),-1)\n",
        "        #print(5,x.shape)\n",
        "        x = self.fc1(x)\n",
        "        x = self.fc2(x)\n",
        "        x = self.fc3(x)\n",
        "        #y = F.softmax(x)\n",
        "        return x\n",
        "\n",
        "def train_one_epoch(model, device, data_loader, optimizer):\n",
        "    train_loss = 0\n",
        "    correct = 0\n",
        "    for num, (data, target) in tq.tqdm(enumerate(data_loader), total=len(data_loader.dataset)/data_loader.batch_size):\n",
        "        data, target = data.to(device), target.to(device)\n",
        "        optimizer.zero_grad()\n",
        "        output = model(data)\n",
        "\n",
        "        # YOUR CODE HERE \n",
        "        loss = F.cross_entropy(output, target)\n",
        "        loss.backward()\n",
        "        train_loss += loss.item()\n",
        "        optimizer.step()\n",
        "\n",
        "        prediction = output.argmax(dim=1)\n",
        "        correct += torch.sum(prediction.eq(target)).item()\n",
        "\n",
        "    result = {'loss': train_loss / len(data_loader.dataset),\n",
        "              'accuracy': correct / len(data_loader.dataset)\n",
        "              }\n",
        "    return result   \n",
        " \n",
        "def evaluation(model, device, data_loader):\n",
        "    eval_loss = 0\n",
        "    correct = 0\n",
        "\n",
        "    for num, (data, target) in tq.tqdm(enumerate(data_loader), total=len(data_loader.dataset)/data_loader.batch_size):\n",
        "        data, target = data.to(device), target.to(device)\n",
        "        output = model(data)\n",
        "        # YOUR CODE HERE \n",
        "        eval_loss = F.cross_entropy(output, target).item()\n",
        "        prediction = output.argmax(dim=1)\n",
        "        correct += torch.sum(prediction.eq(target)).item()\n",
        "    result = {'loss': eval_loss / len(data_loader.dataset),\n",
        "              'accuracy': correct / len(data_loader.dataset)\n",
        "              }\n",
        "    return result\n",
        "    \n",
        "if __name__ == \"__main__\":\n",
        "    \n",
        "    # Network Hyperparameters \n",
        "    # YOUR CODE HERE \n",
        "    minibatch_size = 24\n",
        "    nepoch = 10\n",
        "    learning_rate = 0.01\n",
        "    momentum = 0.9\n",
        "\n",
        "\n",
        "    model = CNNModel()\n",
        "    model.to(device)\n",
        "\n",
        "    # YOUR CODE HERE \n",
        "    optimizer = optim.SGD(model.parameters(), lr=learning_rate, momentum=momentum)\n",
        "\n",
        "    # Train for an number of epoch \n",
        "    for epoch in range(nepoch):\n",
        "      print(f\"training Epoch: {epoch}\")\n",
        "      if epoch > 0:\n",
        "        train_result = train_one_epoch(model, device, fmnist_train, optimizer)\n",
        "        print(f\"Result Training dataset {train_result}\")\n",
        "\n",
        "      eval_result = evaluation(model, device, fmnist_val)\n",
        "      print(f\"Result Test dataset {eval_result}\")"
      ],
      "execution_count": 324,
      "outputs": [
        {
          "output_type": "stream",
          "text": [
            "training Epoch: 0\n",
            "\n"
          ],
          "name": "stdout"
        },
        {
          "output_type": "display_data",
          "data": {
            "application/vnd.jupyter.widget-view+json": {
              "model_id": "8e1d96b4177547d4aa37e9718401fcd1",
              "version_minor": 0,
              "version_major": 2
            },
            "text/plain": [
              "HBox(children=(FloatProgress(value=0.0, max=312.5), HTML(value='')))"
            ]
          },
          "metadata": {
            "tags": []
          }
        },
        {
          "output_type": "stream",
          "text": [
            "\n",
            "Result Test dataset {'loss': 0.0002306990623474121, 'accuracy': 0.1}\n",
            "\n",
            "training Epoch: 1\n",
            "\n"
          ],
          "name": "stdout"
        },
        {
          "output_type": "display_data",
          "data": {
            "application/vnd.jupyter.widget-view+json": {
              "model_id": "363906c12e43477482c9d894fcd29d26",
              "version_minor": 0,
              "version_major": 2
            },
            "text/plain": [
              "HBox(children=(FloatProgress(value=0.0, max=1875.0), HTML(value='')))"
            ]
          },
          "metadata": {
            "tags": []
          }
        },
        {
          "output_type": "stream",
          "text": [
            "\n",
            "Result Training dataset {'loss': 0.016601781275992593, 'accuracy': 0.8072}\n",
            "\n"
          ],
          "name": "stdout"
        },
        {
          "output_type": "display_data",
          "data": {
            "application/vnd.jupyter.widget-view+json": {
              "model_id": "5672be66055c4335a276b1f827db2d66",
              "version_minor": 0,
              "version_major": 2
            },
            "text/plain": [
              "HBox(children=(FloatProgress(value=0.0, max=312.5), HTML(value='')))"
            ]
          },
          "metadata": {
            "tags": []
          }
        },
        {
          "output_type": "stream",
          "text": [
            "\n",
            "Result Test dataset {'loss': 5.645197629928589e-05, 'accuracy': 0.8637}\n",
            "\n",
            "training Epoch: 2\n",
            "\n"
          ],
          "name": "stdout"
        },
        {
          "output_type": "display_data",
          "data": {
            "application/vnd.jupyter.widget-view+json": {
              "model_id": "4ebf162fa7104e3baa7d8eec2d27ff3b",
              "version_minor": 0,
              "version_major": 2
            },
            "text/plain": [
              "HBox(children=(FloatProgress(value=0.0, max=1875.0), HTML(value='')))"
            ]
          },
          "metadata": {
            "tags": []
          }
        },
        {
          "output_type": "stream",
          "text": [
            "\n",
            "Result Training dataset {'loss': 0.010084199152948956, 'accuracy': 0.8845833333333334}\n",
            "\n"
          ],
          "name": "stdout"
        },
        {
          "output_type": "display_data",
          "data": {
            "application/vnd.jupyter.widget-view+json": {
              "model_id": "cd887e8f933c428b8abccead64abdd3d",
              "version_minor": 0,
              "version_major": 2
            },
            "text/plain": [
              "HBox(children=(FloatProgress(value=0.0, max=312.5), HTML(value='')))"
            ]
          },
          "metadata": {
            "tags": []
          }
        },
        {
          "output_type": "stream",
          "text": [
            "\n",
            "Result Test dataset {'loss': 2.5775265693664552e-05, 'accuracy': 0.883}\n",
            "\n",
            "training Epoch: 3\n",
            "\n"
          ],
          "name": "stdout"
        },
        {
          "output_type": "display_data",
          "data": {
            "application/vnd.jupyter.widget-view+json": {
              "model_id": "d1723d3f44124195872655ba64a096c4",
              "version_minor": 0,
              "version_major": 2
            },
            "text/plain": [
              "HBox(children=(FloatProgress(value=0.0, max=1875.0), HTML(value='')))"
            ]
          },
          "metadata": {
            "tags": []
          }
        },
        {
          "output_type": "stream",
          "text": [
            "\n",
            "Result Training dataset {'loss': 0.008864105920866132, 'accuracy': 0.8995}\n",
            "\n"
          ],
          "name": "stdout"
        },
        {
          "output_type": "display_data",
          "data": {
            "application/vnd.jupyter.widget-view+json": {
              "model_id": "2c958eb6e8eb4f45a00ab260d86be49b",
              "version_minor": 0,
              "version_major": 2
            },
            "text/plain": [
              "HBox(children=(FloatProgress(value=0.0, max=312.5), HTML(value='')))"
            ]
          },
          "metadata": {
            "tags": []
          }
        },
        {
          "output_type": "stream",
          "text": [
            "\n",
            "Result Test dataset {'loss': 2.5802722573280335e-05, 'accuracy': 0.8898}\n",
            "\n",
            "training Epoch: 4\n",
            "\n"
          ],
          "name": "stdout"
        },
        {
          "output_type": "display_data",
          "data": {
            "application/vnd.jupyter.widget-view+json": {
              "model_id": "fd0a22b201e44233bd6c5865bfdf3029",
              "version_minor": 0,
              "version_major": 2
            },
            "text/plain": [
              "HBox(children=(FloatProgress(value=0.0, max=1875.0), HTML(value='')))"
            ]
          },
          "metadata": {
            "tags": []
          }
        },
        {
          "output_type": "stream",
          "text": [
            "\n",
            "Result Training dataset {'loss': 0.008082518427353353, 'accuracy': 0.9070166666666667}\n",
            "\n"
          ],
          "name": "stdout"
        },
        {
          "output_type": "display_data",
          "data": {
            "application/vnd.jupyter.widget-view+json": {
              "model_id": "b41efcf76b8e4525a761e5c85d643fa2",
              "version_minor": 0,
              "version_major": 2
            },
            "text/plain": [
              "HBox(children=(FloatProgress(value=0.0, max=312.5), HTML(value='')))"
            ]
          },
          "metadata": {
            "tags": []
          }
        },
        {
          "output_type": "stream",
          "text": [
            "\n",
            "Result Test dataset {'loss': 3.165683746337891e-05, 'accuracy': 0.8912}\n",
            "\n",
            "training Epoch: 5\n",
            "\n"
          ],
          "name": "stdout"
        },
        {
          "output_type": "display_data",
          "data": {
            "application/vnd.jupyter.widget-view+json": {
              "model_id": "4f16ff7591034063842f595c2510093c",
              "version_minor": 0,
              "version_major": 2
            },
            "text/plain": [
              "HBox(children=(FloatProgress(value=0.0, max=1875.0), HTML(value='')))"
            ]
          },
          "metadata": {
            "tags": []
          }
        },
        {
          "output_type": "stream",
          "text": [
            "\n",
            "Result Training dataset {'loss': 0.007573352391800532, 'accuracy': 0.9131833333333333}\n",
            "\n"
          ],
          "name": "stdout"
        },
        {
          "output_type": "display_data",
          "data": {
            "application/vnd.jupyter.widget-view+json": {
              "model_id": "19cb2bd023ba4b3a82817703c35fcda6",
              "version_minor": 0,
              "version_major": 2
            },
            "text/plain": [
              "HBox(children=(FloatProgress(value=0.0, max=312.5), HTML(value='')))"
            ]
          },
          "metadata": {
            "tags": []
          }
        },
        {
          "output_type": "stream",
          "text": [
            "\n",
            "Result Test dataset {'loss': 3.434233367443085e-05, 'accuracy': 0.8946}\n",
            "\n",
            "training Epoch: 6\n",
            "\n"
          ],
          "name": "stdout"
        },
        {
          "output_type": "display_data",
          "data": {
            "application/vnd.jupyter.widget-view+json": {
              "model_id": "93c95d484dcb48809b5d2ea7b2d4e29f",
              "version_minor": 0,
              "version_major": 2
            },
            "text/plain": [
              "HBox(children=(FloatProgress(value=0.0, max=1875.0), HTML(value='')))"
            ]
          },
          "metadata": {
            "tags": []
          }
        },
        {
          "output_type": "stream",
          "text": [
            "\n",
            "Result Training dataset {'loss': 0.007119320215595265, 'accuracy': 0.9188}\n",
            "\n"
          ],
          "name": "stdout"
        },
        {
          "output_type": "display_data",
          "data": {
            "application/vnd.jupyter.widget-view+json": {
              "model_id": "69452be268fe498293fd7e84755609d4",
              "version_minor": 0,
              "version_major": 2
            },
            "text/plain": [
              "HBox(children=(FloatProgress(value=0.0, max=312.5), HTML(value='')))"
            ]
          },
          "metadata": {
            "tags": []
          }
        },
        {
          "output_type": "stream",
          "text": [
            "\n",
            "Result Test dataset {'loss': 4.261053800582886e-05, 'accuracy': 0.8951}\n",
            "\n",
            "training Epoch: 7\n",
            "\n"
          ],
          "name": "stdout"
        },
        {
          "output_type": "display_data",
          "data": {
            "application/vnd.jupyter.widget-view+json": {
              "model_id": "17c4814a9e9c4017a838fa5ca157e599",
              "version_minor": 0,
              "version_major": 2
            },
            "text/plain": [
              "HBox(children=(FloatProgress(value=0.0, max=1875.0), HTML(value='')))"
            ]
          },
          "metadata": {
            "tags": []
          }
        },
        {
          "output_type": "stream",
          "text": [
            "\n",
            "Result Training dataset {'loss': 0.006714926382775108, 'accuracy': 0.9234166666666667}\n",
            "\n"
          ],
          "name": "stdout"
        },
        {
          "output_type": "display_data",
          "data": {
            "application/vnd.jupyter.widget-view+json": {
              "model_id": "214f89320df04873a1bf3e1a96526a3f",
              "version_minor": 0,
              "version_major": 2
            },
            "text/plain": [
              "HBox(children=(FloatProgress(value=0.0, max=312.5), HTML(value='')))"
            ]
          },
          "metadata": {
            "tags": []
          }
        },
        {
          "output_type": "stream",
          "text": [
            "\n",
            "Result Test dataset {'loss': 5.765165090560913e-05, 'accuracy': 0.8934}\n",
            "\n",
            "training Epoch: 8\n",
            "\n"
          ],
          "name": "stdout"
        },
        {
          "output_type": "display_data",
          "data": {
            "application/vnd.jupyter.widget-view+json": {
              "model_id": "1017dc8594c343e1b372fad0fa25173c",
              "version_minor": 0,
              "version_major": 2
            },
            "text/plain": [
              "HBox(children=(FloatProgress(value=0.0, max=1875.0), HTML(value='')))"
            ]
          },
          "metadata": {
            "tags": []
          }
        },
        {
          "output_type": "stream",
          "text": [
            "\n",
            "Result Training dataset {'loss': 0.006514289222455894, 'accuracy': 0.92535}\n",
            "\n"
          ],
          "name": "stdout"
        },
        {
          "output_type": "display_data",
          "data": {
            "application/vnd.jupyter.widget-view+json": {
              "model_id": "b204834ad0084a15b4c3ae809e2959d5",
              "version_minor": 0,
              "version_major": 2
            },
            "text/plain": [
              "HBox(children=(FloatProgress(value=0.0, max=312.5), HTML(value='')))"
            ]
          },
          "metadata": {
            "tags": []
          }
        },
        {
          "output_type": "stream",
          "text": [
            "\n",
            "Result Test dataset {'loss': 5.279833674430847e-05, 'accuracy': 0.8977}\n",
            "\n",
            "training Epoch: 9\n",
            "\n"
          ],
          "name": "stdout"
        },
        {
          "output_type": "display_data",
          "data": {
            "application/vnd.jupyter.widget-view+json": {
              "model_id": "7eb50729827e4e7ea5749a8ab9fd207f",
              "version_minor": 0,
              "version_major": 2
            },
            "text/plain": [
              "HBox(children=(FloatProgress(value=0.0, max=1875.0), HTML(value='')))"
            ]
          },
          "metadata": {
            "tags": []
          }
        },
        {
          "output_type": "stream",
          "text": [
            "\n",
            "Result Training dataset {'loss': 0.006245750965581586, 'accuracy': 0.9286}\n",
            "\n"
          ],
          "name": "stdout"
        },
        {
          "output_type": "display_data",
          "data": {
            "application/vnd.jupyter.widget-view+json": {
              "model_id": "62711c4f3ef74d02a80181ecdfb3d59c",
              "version_minor": 0,
              "version_major": 2
            },
            "text/plain": [
              "HBox(children=(FloatProgress(value=0.0, max=312.5), HTML(value='')))"
            ]
          },
          "metadata": {
            "tags": []
          }
        },
        {
          "output_type": "stream",
          "text": [
            "\n",
            "Result Test dataset {'loss': 5.638286471366882e-05, 'accuracy': 0.8913}\n",
            "\n"
          ],
          "name": "stdout"
        }
      ]
    },
    {
      "cell_type": "markdown",
      "metadata": {
        "id": "W7mcHag9Et4u"
      },
      "source": [
        "## Open Analysis\n",
        "Same as TP 1 please write a short description of your experiment"
      ]
    },
    {
      "cell_type": "markdown",
      "metadata": {
        "id": "sCHr8iCAEt4x"
      },
      "source": [
        "# BONUS \n",
        "\n",
        "Use some already trained CNN to segment YOUR image. \n",
        "\n",
        "In the cell below your can load a image to the notebook and use the given network to have the segmentation mask and plot it. "
      ]
    },
    {
      "cell_type": "code",
      "metadata": {
        "id": "UBh3R2IGEt4y"
      },
      "source": [
        "if __name__ == \"__main__\" :\n",
        "    \n",
        "    # TODO HERE: Upload an image to the notebook in the navigation bar on the left\n",
        "    # `File` `Load File`and load an image to the notebook. \n",
        "    \n",
        "    filename = \"\" \n",
        "    # Loading a already trained network in pytorch \n",
        "    model = torch.hub.load('pytorch/vision:v0.6.0', 'deeplabv3_resnet101', pretrained=True)\n",
        "    model.eval()\n",
        "\n",
        "    from PIL import Image\n",
        "    from torchvision import transforms\n",
        "\n",
        "    input_image = Image.open(filename)\n",
        "    preprocess = transforms.Compose([\n",
        "        transforms.ToTensor(),\n",
        "        transforms.Normalize(mean=[0.485, 0.456, 0.406], std=[0.229, 0.224, 0.225]),\n",
        "    ])\n",
        "\n",
        "    input_tensor = preprocess(input_image)\n",
        "    input_batch = input_tensor.unsqueeze(0) # create a mini-batch as expected by the model\n",
        "\n",
        "    # move the input and model to GPU for speed if available\n",
        "    if torch.cuda.is_available():\n",
        "        input_batch = input_batch.to('cuda')\n",
        "        model.to('cuda')\n",
        "\n",
        "    with torch.no_grad():\n",
        "        output = model(input_batch)['out'][0]\n",
        "    output_predictions = output.argmax(0)"
      ],
      "execution_count": null,
      "outputs": []
    },
    {
      "cell_type": "code",
      "metadata": {
        "id": "q_tjfTATEt45"
      },
      "source": [
        ""
      ],
      "execution_count": null,
      "outputs": []
    }
  ]
}